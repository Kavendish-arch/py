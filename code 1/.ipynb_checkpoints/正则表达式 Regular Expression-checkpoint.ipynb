{
 "cells": [
  {
   "cell_type": "markdown",
   "metadata": {
    "run_control": {
     "frozen": false,
     "read_only": false
    }
   },
   "source": [
    "### 正则表达式\n",
    "\n",
    "正则表达式就是用于描述字符串规则的工具。换句话说，正则表达式就是记录文本规则的代码。\n",
    "\n",
    "#### 能用来做什么：\n",
    "\n",
    "- 在大段文字中搜索特定规则字符串，例如：你想找到email地址在哪里\n",
    "- 替代特定规则的字符串们，例如：你向把特定规则的小写文字替代成大写\n",
    "- 校验输入的正确性，例如：你在设置密码的时候，你要求密码的长度或大小写<br/>\n",
    "等等<br/>\n",
    "\n",
    "https://deerchao.net/tutorials/regex/regex.htm\n",
    "\n",
    "https://docs.python.org/3.6/library/re.html\n",
    "\n",
    "https://regex101.com/"
   ]
  },
  {
   "cell_type": "markdown",
   "metadata": {
    "run_control": {
     "frozen": false,
     "read_only": false
    }
   },
   "source": [
    "### 常见代码\n",
    "### 元字符\n",
    "```\n",
    ".\t匹配除换行符以外的任意字符\n",
    "\\w\t匹配字母或数字或下划线或汉字\n",
    "\\s\t匹配任意的空白符\n",
    "\\d\t匹配数字\n",
    "\\b\t匹配单词的开始或结束\n",
    "^\t匹配字符串的开始\n",
    "$\t匹配字符串的结束\n",
    "\n",
    "\n",
    "\\W\t匹配任意不是字母，数字，下划线，汉字的字符\n",
    "\\S\t匹配任意不是空白符的字符 不包括换行\n",
    "\\D\t匹配任意非数字的字符\n",
    "\\B\t匹配不是单词开头或结束的位置\n",
    "[^x]\t匹配除了x以外的任意字符\n",
    "[^aeiou]\t匹配除了aeiou这几个字母以外的任意字符\n",
    "\n",
    "[a-z0-9]    匹配在内的所有字符\n",
    "```"
   ]
  },
  {
   "cell_type": "markdown",
   "metadata": {},
   "source": [
    "### 重复\n",
    "```\n",
    "*\t重复零次或更多次\n",
    "+\t重复一次或更多次\n",
    "?\t重复零次或一次\n",
    "{n}\t重复n次\n",
    "{n,}\t重复n次或更多次\n",
    "{n,m}\t重复n到m次\n",
    "```\n",
    "\n",
    "贪婪匹配 .*\n",
    "\n",
    "非贪婪匹配 .*?\n",
    "\n",
    "```\n",
    "限定符\n",
    "限定符用来指定正则表达式的一个给定组件必须要出现多少次才能满足匹配。\n",
    "有 * 或 + 或 ? 或 {n} 或 {n,} 或 {n,m} 共6种。\n",
    "\n",
    "正则表达式的限定符有：\n",
    "字符\t描述\n",
    "*\t匹配前面的子表达式零次或多次。例如，zo* 能匹配 \"z\" 以及 \"zoo\"。* 等价于{0,}。\n",
    "+\t匹配前面的子表达式一次或多次。例如，'zo+' 能匹配 \"zo\" 以及 \"zoo\"，但不能匹配 \"z\"。+ 等价于 {1,}。\n",
    "?\t匹配前面的子表达式零次或一次。例如，\"do(es)?\" 可以匹配 \"do\" 、 \"does\" 中的 \"does\" 、 \"doxy\" 中的 \"do\" 。? 等价于 {0,1}。\n",
    "{n}\tn 是一个非负整数。匹配确定的 n 次。例如，'o{2}' 不能匹配 \"Bob\" 中的 'o'，但是能匹配 \"food\" 中的两个 o。\n",
    "{n,}\tn 是一个非负整数。至少匹配n 次。例如，'o{2,}' 不能匹配 \"Bob\" 中的 'o'，但能匹配 \"foooood\" 中的所有 o。'o{1,}' 等价于 'o+'。'o{0,}' 则等价于 'o*'。\n",
    "{n,m}\tm 和 n 均为非负整数，其中n <= m。最少匹配 n 次且最多匹配 m 次。例如，\"o{1,3}\" 将匹配 \"fooooood\" 中的前三个 o。'o{0,1}' 等价于 'o?'。\n",
    "请注意在逗号和两个数之间不能有空格。\n",
    "```"
   ]
  },
  {
   "cell_type": "code",
   "execution_count": 3,
   "metadata": {
    "collapsed": true,
    "run_control": {
     "frozen": false,
     "read_only": false
    }
   },
   "outputs": [],
   "source": [
    "re_desc = \"\"\"\n",
    "This module provides regular expression matching operations similar to those found in Perl. Both patterns and strings to be searched can be Unicode strings as well as 8-bit strings.\n",
    "Regular expressions use the backslash character ('\\') to indicate special forms or to allow special characters to be used without invoking their special meaning. This collides with Python’s usage of the same character for the same purpose in string literals; for example, to match a literal backslash, one might have to write '\\\\\\\\' as the pattern string, because the regular expression must be \\\\, and each backslash must be expressed as \\\\ inside a regular Python string literal.\n",
    "The solution is to use Python’s raw string notation for regular expression patterns; backslashes are not handled in any special way in a string literal prefixed with 'r'. So r\"\\n\" is a two-character string containing '\\' and 'n', while \"\\n\" is a one-character string containing a newline. Usually patterns will be expressed in Python code using this raw string notation.\n",
    "It is important to note that most regular expression operations are available as module-level functions and RegexObject methods. The functions are shortcuts that don’t require you to compile a regex object first, but miss some fine-tuning parameters.\n",
    "\"\"\""
   ]
  },
  {
   "cell_type": "code",
   "execution_count": null,
   "metadata": {},
   "outputs": [],
   "source": [
    "\\cx\t匹配由x指明的控制字符。例如， \\cM 匹配一个 Control-M 或回车符。x 的值必须为 A-Z 或 a-z 之一。否则，将 c 视为一个原义的 'c' 字符。\n",
    "\\f\t匹配一个换页符。等价于 \\x0c 和 \\cL。\n",
    "\\n\t匹配一个换行符。等价于 \\x0a 和 \\cJ。\n",
    "\\r\t匹配一个回车符。等价于 \\x0d 和 \\cM。\n",
    "\\s\t匹配任何空白字符，包括空格、制表符、换页符等等。等价于 [ \\f\\n\\r\\t\\v]。注意 Unicode 正则表达式会匹配全角空格符。\n",
    "\\S\t匹配任何非空白字符。等价于 [^ \\f\\n\\r\\t\\v]。\n",
    "\\t\t匹配一个制表符。等价于 \\x09 和 \\cI。\n",
    "\\v\t匹配一个垂直制表符。等价于 \\x0b 和 \\cK。\n",
    "\n",
    "$\t匹配输入字符串的结尾位置。如果设置了 RegExp 对象的 Multiline 属性，则 $ 也匹配 '\\n' 或 '\\r'。要匹配 $ 字符本身，请使用 \\$。\n",
    "( )\t标记一个子表达式的开始和结束位置。子表达式可以获取供以后使用。要匹配这些字符，请使用 \\( 和 \\)。\n",
    "*\t匹配前面的子表达式零次或多次。要匹配 * 字符，请使用 \\*。\n",
    "+\t匹配前面的子表达式一次或多次。要匹配 + 字符，请使用 \\+。\n",
    ".\t匹配除换行符 \\n 之外的任何单字符。要匹配 . ，请使用 \\. 。\n",
    "[\t标记一个中括号表达式的开始。要匹配 [，请使用 \\[。\n",
    "?\t匹配前面的子表达式零次或一次，或指明一个非贪婪限定符。要匹配 ? 字符，请使用 \\?。\n",
    "\\\t将下一个字符标记为或特殊字符、或原义字符、或向后引用、或八进制转义符。例如， 'n' 匹配字符 'n'。'\\n' 匹配换行符。序列 '\\\\' 匹配 \"\\\"，而 '\\(' 则匹配 \"(\"。\n",
    "^\t匹配输入字符串的开始位置，除非在方括号表达式中使用，当该符号在方括号表达式中使用时，表示不接受该方括号表达式中的字符集合。要匹配 ^ 字符本身，请使用 \\^。\n",
    "{\t标记限定符表达式的开始。要匹配 {，请使用 \\{。\n",
    "|\t指明两项之间的一个选择。要匹配 |，请使用 \\|。"
   ]
  },
  {
   "cell_type": "markdown",
   "metadata": {},
   "source": []
  },
  {
   "cell_type": "markdown",
   "metadata": {},
   "source": [
    "```\n",
    "元字符：\n",
    "字符\n",
    "转义\n",
    "重复\n",
    "```"
   ]
  },
  {
   "cell_type": "markdown",
   "metadata": {
    "run_control": {
     "frozen": false,
     "read_only": false
    }
   },
   "source": [
    "#### 基本语法"
   ]
  },
  {
   "cell_type": "code",
   "execution_count": 1,
   "metadata": {
    "collapsed": true,
    "run_control": {
     "frozen": false,
     "read_only": false
    }
   },
   "outputs": [],
   "source": [
    "import sys  \n",
    "import re  "
   ]
  },
  {
   "cell_type": "code",
   "execution_count": 8,
   "metadata": {
    "run_control": {
     "frozen": false,
     "read_only": false
    }
   },
   "outputs": [
    {
     "data": {
      "text/plain": [
       "5"
      ]
     },
     "execution_count": 8,
     "metadata": {},
     "output_type": "execute_result"
    }
   ],
   "source": [
    "# 统计单词出现次数\n",
    "re_desc.count(\"expression\")"
   ]
  },
  {
   "cell_type": "markdown",
   "metadata": {
    "run_control": {
     "frozen": false,
     "read_only": false
    }
   },
   "source": [
    "https://docs.python.org/2/library/re.html#search-vs-match"
   ]
  },
  {
   "cell_type": "code",
   "execution_count": 29,
   "metadata": {
    "run_control": {
     "frozen": false,
     "read_only": false
    }
   },
   "outputs": [
    {
     "data": {
      "text/plain": [
       "'expression'"
      ]
     },
     "execution_count": 29,
     "metadata": {},
     "output_type": "execute_result"
    }
   ],
   "source": [
    "# re.search 查找单词\n",
    "pattern = re.compile(r\"expression\")\n",
    "search_result = pattern.search(re_desc) \n",
    "search_result.group()"
   ]
  },
  {
   "cell_type": "code",
   "execution_count": 32,
   "metadata": {},
   "outputs": [],
   "source": [
    "search_result = re.fullmatch(r\"expression\",re_desc) \n",
    "search_result"
   ]
  },
  {
   "cell_type": "code",
   "execution_count": 26,
   "metadata": {
    "run_control": {
     "frozen": false,
     "read_only": false
    }
   },
   "outputs": [
    {
     "data": {
      "text/plain": [
       "()"
      ]
     },
     "execution_count": 26,
     "metadata": {},
     "output_type": "execute_result"
    }
   ],
   "source": [
    "search_result = re.search(r\"expression\",re_desc) \n",
    "# search_result.group(0)\n",
    "search_result.groups()\n"
   ]
  },
  {
   "cell_type": "markdown",
   "metadata": {
    "run_control": {
     "frozen": false,
     "read_only": false
    }
   },
   "source": [
    "```python\n",
    "prog = re.compile(pattern)\n",
    "result = prog.match(string)\n",
    "```\n",
    "相当于：\n",
    "```python\n",
    "result = re.match(pattern, string)\n",
    "```\n",
    "**Note:** The compiled versions of the most recent patterns passed to re.compile() and the module-level matching functions are cached, so programs that use only a few regular expressions at a time needn’t worry about compiling regular expressions.\n"
   ]
  },
  {
   "cell_type": "code",
   "execution_count": null,
   "metadata": {},
   "outputs": [],
   "source": [
    "# search() vs. match()\n",
    "# Python 提供了两种不同的操作：基于 re.match() 检查字符串开头，\n",
    "# 或者 re.search() 检查字符串的任意位置（默认Perl中的行为）。\n",
    "\n",
    "# 例如：\n",
    "\n",
    "re.match(\"c\", \"abcdef\")    # No match\n",
    "re.search(\"c\", \"abcdef\")   # Match\n",
    "# re.Match object; span=(2, 3), match='c'>\n",
    "# 在 search() 中，可以用 '^' 作为开始来限制匹配到字符串的首位\n",
    "\n",
    "\n",
    "re.match(\"c\", \"abcdef\")    # No match\n",
    "re.search(\"^c\", \"abcdef\")  # No matc\n",
    "print(\"\")\n",
    "re.search(\"^a\", \"abcdef\")  # Match\n",
    "# <re.Match object; span=(0, 1), match='a'>\n",
    "# 注意 MULTILINE 多行模式中函数 match() 只匹配字符串的开始，但使用 search() 和以 '^' 开始的正则表达式会匹配每行的开始\n",
    "\n",
    "\n",
    "re.match('X', 'A\\nB\\nX', re.MULTILINE)  # No match\n",
    "re.search('^X', 'A\\nB\\nX', re.MULTILINE)  # Match\n",
    "# re.Match object; span=(4, 5), match='X'>"
   ]
  },
  {
   "cell_type": "code",
   "execution_count": 22,
   "metadata": {
    "run_control": {
     "frozen": false,
     "read_only": false
    }
   },
   "outputs": [
    {
     "name": "stdout",
     "output_type": "stream",
     "text": [
      "None\n",
      "<_sre.SRE_Match object; span=(2, 3), match='c'>\n",
      "None\n",
      "None\n",
      "<_sre.SRE_Match object; span=(0, 1), match='a'>\n",
      "<_sre.SRE_Match object; span=(0, 1), match='a'>\n"
     ]
    }
   ],
   "source": [
    "# re.match 和 re.search\n",
    "print(re.match(\"c\", \"abcdef\"))    # No match\n",
    "print(re.search(\"c\", \"abcdef\"))   # Match\n",
    "\n",
    "# search ^c == match\n",
    "print(re.match(\"c\", \"abcdef\"))    # No match\n",
    "print(re.search(\"^c\", \"abcdef\"))   # No match\n",
    "# re.match(\"c\", \"abcdef\")    # No match\n",
    "# re.search(\"^c\", \"abcdef\")  # No match\n",
    "print(re.search(\"^a\", \"abcdef\"))  # Match\n",
    "print(re.match(\"a\", \"abcdef\"))  # Match\n",
    "# re.match('X', 'A\\nB\\nX', re.MULTILINE)  # No match\n",
    "# re.search('^X', 'A\\nB\\nX', re.MULTILINE)  # Match"
   ]
  },
  {
   "cell_type": "code",
   "execution_count": 35,
   "metadata": {
    "run_control": {
     "frozen": false,
     "read_only": false
    }
   },
   "outputs": [
    {
     "data": {
      "text/plain": [
       "'expression'"
      ]
     },
     "execution_count": 35,
     "metadata": {},
     "output_type": "execute_result"
    }
   ],
   "source": [
    "#pattern = re.compile()\n",
    "# findall\n",
    "search_result = re.findall(r\"exp\\w*\",re_desc) \n",
    "search_result[0]"
   ]
  },
  {
   "cell_type": "code",
   "execution_count": 147,
   "metadata": {
    "run_control": {
     "frozen": false,
     "read_only": false
    }
   },
   "outputs": [
    {
     "name": "stdout",
     "output_type": "stream",
     "text": [
      "30-40: expression\n",
      "191-201: expression\n",
      "556-566: expression\n",
      "724-734: expression\n",
      "1070-1080: expression\n"
     ]
    }
   ],
   "source": [
    "for m in re.finditer(r\"expression\", re_desc):\n",
    "    print('%02d-%02d: %s' % (m.start(), m.end(), m.group(0)))"
   ]
  },
  {
   "cell_type": "code",
   "execution_count": 34,
   "metadata": {
    "run_control": {
     "frozen": false,
     "read_only": false
    },
    "scrolled": true
   },
   "outputs": [
    {
     "name": "stdout",
     "output_type": "stream",
     "text": [
      "None\n"
     ]
    }
   ],
   "source": [
    "match_result = pattern.match(re_desc)  \n",
    "print(match_result)"
   ]
  },
  {
   "cell_type": "code",
   "execution_count": 135,
   "metadata": {
    "run_control": {
     "frozen": false,
     "read_only": false
    }
   },
   "outputs": [
    {
     "name": "stdout",
     "output_type": "stream",
     "text": [
      "C:\\Windows\n"
     ]
    }
   ],
   "source": [
    "text = \"C:\\Windows\\Program\\Joshua\"\n",
    "pattern = re.compile(r\"C:\\\\Windows\")\n",
    "result = pattern.search(text)  \n",
    "print(result.group(0))"
   ]
  },
  {
   "cell_type": "markdown",
   "metadata": {
    "run_control": {
     "frozen": false,
     "read_only": false
    }
   },
   "source": [
    "### 字符匹配"
   ]
  },
  {
   "cell_type": "markdown",
   "metadata": {
    "run_control": {
     "frozen": false,
     "read_only": false
    }
   },
   "source": [
    "这个表达式可以匹配几种格式的电话号码，像(010)88886666，或022-22334455，或02912345678等。\n",
    "\n",
    "<br/>我们对它进行一些分析吧：首先是一个转义字符\\(,它能出现0次或1次(?),然后是一个0，后面跟着2个数字(\\d{2})，然后是)或-或空格中的一个，它出现1次或不出现(?)，最后是8个数字(\\d{8})。"
   ]
  },
  {
   "cell_type": "code",
   "execution_count": 36,
   "metadata": {
    "run_control": {
     "frozen": false,
     "read_only": false
    }
   },
   "outputs": [
    {
     "data": {
      "text/plain": [
       "['255.255.255.0', '127.0.0.1', '1.1.1.1']"
      ]
     },
     "execution_count": 36,
     "metadata": {},
     "output_type": "execute_result"
    }
   ],
   "source": [
    "ip_address=\"not validate 255.255.255.0 and 127.0.0.1 or 1.1.1.1\"\n",
    "pattern = re.compile(r\"\\d{1,3}\\.\\d{1,3}\\.\\d{1,3}\\.\\d{1,3}\")\n",
    "search_result = pattern.findall(ip_address) \n",
    "search_result"
   ]
  },
  {
   "cell_type": "code",
   "execution_count": 402,
   "metadata": {
    "run_control": {
     "frozen": false,
     "read_only": false
    },
    "scrolled": true
   },
   "outputs": [
    {
     "data": {
      "text/plain": [
       "['(010)88886666', '022-22334455', '02912345678', '(022-87654321']"
      ]
     },
     "execution_count": 402,
     "metadata": {},
     "output_type": "execute_result"
    }
   ],
   "source": [
    "phone_number=\"some phone number is (010)88886666,some is 022-22334455, other is 02912345678, \\\n",
    "how about (022-87654321 format?\"\n",
    "pattern = re.compile(r\"\\(?0\\d{ 2}[)-]?\\d{8}\")\n",
    "search_result = pattern.findall(phone_number) \n",
    "search_result"
   ]
  },
  {
   "cell_type": "markdown",
   "metadata": {
    "run_control": {
     "frozen": false,
     "read_only": false
    }
   },
   "source": [
    "### 分枝条件\n",
    "匹配分枝条件时，将会从左到右地测试每个条件，如果满足了某个分枝的话，就不会去再管其它的条件了。"
   ]
  },
  {
   "cell_type": "code",
   "execution_count": 403,
   "metadata": {
    "run_control": {
     "frozen": false,
     "read_only": false
    }
   },
   "outputs": [
    {
     "data": {
      "text/plain": [
       "['(010)88886666', '022-22334455', '02912345678', '022-87654321']"
      ]
     },
     "execution_count": 403,
     "metadata": {},
     "output_type": "execute_result"
    }
   ],
   "source": [
    "phone_number=\"some phone number is (010)88886666,some is 022-22334455, other is 02912345678, \\\n",
    "how about (022-87654321 format?\"\n",
    "pattern = re.compile(r\"\\(0\\d{2}\\)[- ]?\\d{8}|0\\d{2}[- ]?\\d{8}\")\n",
    "search_result = pattern.findall(phone_number) \n",
    "search_result"
   ]
  },
  {
   "cell_type": "markdown",
   "metadata": {
    "run_control": {
     "frozen": false,
     "read_only": false
    }
   },
   "source": [
    "### 分组"
   ]
  },
  {
   "cell_type": "code",
   "execution_count": 405,
   "metadata": {
    "run_control": {
     "frozen": false,
     "read_only": false
    },
    "scrolled": true
   },
   "outputs": [
    {
     "name": "stdout",
     "output_type": "stream",
     "text": [
      "00-04: abab\n",
      "19-23: abab\n"
     ]
    }
   ],
   "source": [
    "text = \"ababab hello ab  cdababcd\"\n",
    "pattern = re.compile(r\"(ab){2}\")\n",
    "\n",
    "for m in re.finditer(r\"(ab){2}\", text):\n",
    "    print('%02d-%02d: %s' % (m.start(), m.end(), m.group(0)))"
   ]
  },
  {
   "cell_type": "code",
   "execution_count": 406,
   "metadata": {
    "run_control": {
     "frozen": false,
     "read_only": false
    }
   },
   "outputs": [
    {
     "name": "stdout",
     "output_type": "stream",
     "text": [
      "13-26: 255.255.255.0\n",
      "31-40: 127.0.0.1\n",
      "44-51: 1.1.1.1\n"
     ]
    }
   ],
   "source": [
    "for m in re.finditer(r\"(\\d{1,3}\\.){3}\\d{1,3}\", ip_address):\n",
    "    print('%02d-%02d: %s' % (m.start(), m.end(), m.group(0)))"
   ]
  },
  {
   "cell_type": "code",
   "execution_count": 407,
   "metadata": {
    "run_control": {
     "frozen": false,
     "read_only": false
    }
   },
   "outputs": [
    {
     "name": "stdout",
     "output_type": "stream",
     "text": [
      "31-40: 127.0.0.1\n",
      "44-51: 1.1.1.1\n"
     ]
    }
   ],
   "source": [
    "ip_address=\"not validate 355.555.255.0 and 127.0.0.1 or 1.1.1.1\"\n",
    "pattern = re.compile(r\"((2[0-4]\\d|25[0-5]|[01]?\\d\\d?)\\.){3}(2[0-4]\\d|25[0-5]|[01]?\\d\\d?)\")\n",
    "for m in pattern.finditer(ip_address):\n",
    "    print('%02d-%02d: %s' % (m.start(), m.end(), m.group(0)))"
   ]
  },
  {
   "cell_type": "markdown",
   "metadata": {
    "run_control": {
     "frozen": false,
     "read_only": false
    }
   },
   "source": [
    "```\n",
    "捕获\t\n",
    "(exp)\t匹配exp,并捕获文本到自动命名的组里\n",
    "(?<name>exp)\t匹配exp,并捕获文本到名称为name的组里，也可以写成(?'name'exp)\n",
    "(?:exp)\t匹配exp,不捕获匹配的文本，也不给此分组分配组号\n",
    "\n",
    "零宽断言\t\n",
    "(?=exp)\t匹配exp前面的位置\n",
    "(?<=exp)\t匹配exp后面的位置\n",
    "(?!exp)\t匹配后面跟的不是exp的位置\n",
    "(?<!exp)\t匹配前面不是exp的位置\n",
    "\n",
    "注释\t(?#comment)\t这种类型的分组不对正则表达式的处理产生任何影响，用于提供注释让人阅读\n",
    "```"
   ]
  },
  {
   "cell_type": "markdown",
   "metadata": {
    "run_control": {
     "frozen": false,
     "read_only": false
    }
   },
   "source": [
    "### 后向引用"
   ]
  },
  {
   "cell_type": "code",
   "execution_count": 41,
   "metadata": {
    "run_control": {
     "frozen": false,
     "read_only": false
    },
    "scrolled": true
   },
   "outputs": [
    {
     "name": "stdout",
     "output_type": "stream",
     "text": [
      "['kitty', 'go']\n",
      "00-11: kitty kitty\n",
      "12-17: go go\n"
     ]
    }
   ],
   "source": [
    "text = \"kitty kitty go go, so cute\"\n",
    "pattern = re.compile(r\"\\b(\\w+)\\b\\s+\\1\\b\")  # \\1第一匹配\n",
    "search_result = pattern.findall(text) \n",
    "print(search_result)\n",
    "for m in pattern.finditer(text):\n",
    "    print('%02d-%02d: %s' % (m.start(), m.end(), m.group(0)))"
   ]
  },
  {
   "cell_type": "code",
   "execution_count": 45,
   "metadata": {},
   "outputs": [
    {
     "name": "stdout",
     "output_type": "stream",
     "text": [
      "kitty kitty\n",
      "go go\n"
     ]
    }
   ],
   "source": [
    "for m in pattern.finditer(text):\n",
    "    print(m.group(0))"
   ]
  },
  {
   "cell_type": "code",
   "execution_count": 47,
   "metadata": {
    "run_control": {
     "frozen": false,
     "read_only": false
    }
   },
   "outputs": [
    {
     "name": "stdout",
     "output_type": "stream",
     "text": [
      "00-11: kitty kitty\n",
      "12-17: go go\n"
     ]
    }
   ],
   "source": [
    "text = \"kitty kitty go go, so cute\"\n",
    "pattern = re.compile(r\"\\b(?P<wd>\\w+)\\b\\s+(?P=wd)\\b\")  \n",
    "for m in pattern.finditer(text):\n",
    "    print('%02d-%02d: %s' % (m.start(), m.end(), m.group(0)))"
   ]
  },
  {
   "cell_type": "markdown",
   "metadata": {
    "run_control": {
     "frozen": false,
     "read_only": false
    }
   },
   "source": [
    "<a href=\"cn.dataapplab.com\">'hello dal'</a>"
   ]
  },
  {
   "cell_type": "code",
   "execution_count": 48,
   "metadata": {
    "run_control": {
     "frozen": false,
     "read_only": false
    }
   },
   "outputs": [
    {
     "name": "stdout",
     "output_type": "stream",
     "text": [
      "08-34: \"http://cn.dataapplab.com\"\n",
      "35-46: 'hello dal'\n"
     ]
    }
   ],
   "source": [
    "text = '<a href=\"http://cn.dataapplab.com\">\\'hello dal\\'</a>'\n",
    "# pattern = re.compile(r\"(?P<quote>['\\\"]).*?(?P=quote)\")  \n",
    "pattern = re.compile(r\"(?P<head>['\\\"]).*?(?P=head)\")\n",
    "for m in pattern.finditer(text):\n",
    "    print('%02d-%02d: %s' % (m.start(), m.end(), m.group(0)))"
   ]
  },
  {
   "cell_type": "markdown",
   "metadata": {
    "run_control": {
     "frozen": false,
     "read_only": false
    }
   },
   "source": [
    "### 零宽断言\n",
    "像\\b,^,$那样用于指定一个位置，这个位置应该满足一定的条件(即断言)，因此它们也被称为零宽断言"
   ]
  },
  {
   "cell_type": "code",
   "execution_count": 49,
   "metadata": {
    "run_control": {
     "frozen": false,
     "read_only": false
    }
   },
   "outputs": [
    {
     "name": "stdout",
     "output_type": "stream",
     "text": [
      "04-08: sing\n"
     ]
    }
   ],
   "source": [
    "text = \"I'm singing while you're dancing\"\n",
    "pattern = re.compile(r\"\\b\\w+(?=ing\\b)\")   \n",
    "pattern = re.compile(r\"\\b(?=s)\\w+(?=ing\\b)\")   \n",
    "#匹配以ing结尾的单词的前面部分(除了ing以外的部分)\n",
    "for m in pattern.finditer(text): \n",
    "    print('%02d-%02d: %s' % (m.start(), m.end(), m.group(0)))"
   ]
  },
  {
   "cell_type": "code",
   "execution_count": 400,
   "metadata": {
    "run_control": {
     "frozen": false,
     "read_only": false
    }
   },
   "outputs": [
    {
     "name": "stdout",
     "output_type": "stream",
     "text": [
      "28-32: cing\n"
     ]
    }
   ],
   "source": [
    "text = \"I'm singing while you're dancing\"\n",
    "pattern = re.compile(r\"(?<=\\bdan)\\w+\\b\")   #会匹配以dan开头的单词的后半部分(除了re以外的部分\n",
    "for m in pattern.finditer(text): \n",
    "    print('%02d-%02d: %s' % (m.start(), m.end(), m.group(0)))"
   ]
  },
  {
   "cell_type": "markdown",
   "metadata": {
    "run_control": {
     "frozen": false,
     "read_only": false
    }
   },
   "source": [
    "### Q:找出副词"
   ]
  },
  {
   "cell_type": "code",
   "execution_count": 273,
   "metadata": {
    "run_control": {
     "frozen": false,
     "read_only": false
    }
   },
   "outputs": [
    {
     "data": {
      "text/plain": [
       "['carefully', 'quickly']"
      ]
     },
     "execution_count": 273,
     "metadata": {},
     "output_type": "execute_result"
    }
   ],
   "source": [
    "text = \"He was carefully disguised but captured quickly by police.\"\n",
    "re.findall(r\"\\w+ly\", text)\n"
   ]
  },
  {
   "cell_type": "code",
   "execution_count": 274,
   "metadata": {
    "run_control": {
     "frozen": false,
     "read_only": false
    }
   },
   "outputs": [
    {
     "name": "stdout",
     "output_type": "stream",
     "text": [
      "07-16: carefully\n",
      "40-47: quickly\n"
     ]
    }
   ],
   "source": [
    "text = \"He was carefully disguised but captured quickly by police.\"\n",
    "for m in re.finditer(r\"\\w+ly\", text):\n",
    "    print('%02d-%02d: %s' % (m.start(), m.end(), m.group(0)))"
   ]
  },
  {
   "cell_type": "code",
   "execution_count": null,
   "metadata": {
    "collapsed": true,
    "run_control": {
     "frozen": false,
     "read_only": false
    }
   },
   "outputs": [],
   "source": []
  },
  {
   "cell_type": "markdown",
   "metadata": {
    "run_control": {
     "frozen": false,
     "read_only": false
    }
   },
   "source": [
    "## 分词"
   ]
  },
  {
   "cell_type": "code",
   "execution_count": 51,
   "metadata": {
    "run_control": {
     "frozen": false,
     "read_only": false
    }
   },
   "outputs": [],
   "source": [
    "phone_text = \"\"\"Ross McFluff: 834.345.1254 155 Elm Street\n",
    "Ronald Heathmore: 892.345.3428 436 Finley Avenue\n",
    "Frank Burger: 925.541.7625 662 South Dogwood Way\n",
    "Heather Albrecht: 548.326.4584 919 Park Place\"\"\""
   ]
  },
  {
   "cell_type": "code",
   "execution_count": 64,
   "metadata": {
    "run_control": {
     "frozen": false,
     "read_only": false
    }
   },
   "outputs": [],
   "source": [
    "# entries = re.split(\"\\n+\", phone_text)\n",
    "# \\W 不是字母数字下划线汉字\n",
    "# entries = re.split(r'\\W+', phone_text)\n",
    "entries = re.split(r'[\\W]+', phone_text)\n",
    "# entries"
   ]
  },
  {
   "cell_type": "code",
   "execution_count": 63,
   "metadata": {
    "run_control": {
     "frozen": false,
     "read_only": false
    }
   },
   "outputs": [
    {
     "data": {
      "text/plain": [
       "['Words', 'words', 'words', '']"
      ]
     },
     "execution_count": 63,
     "metadata": {},
     "output_type": "execute_result"
    }
   ],
   "source": [
    "re.split('\\W+', 'Words, words, words.')\n"
   ]
  },
  {
   "cell_type": "code",
   "execution_count": 65,
   "metadata": {
    "run_control": {
     "frozen": false,
     "read_only": false
    }
   },
   "outputs": [
    {
     "data": {
      "text/plain": [
       "['Words', ', ', 'words', ', ', 'words', '.', '']"
      ]
     },
     "execution_count": 65,
     "metadata": {},
     "output_type": "execute_result"
    }
   ],
   "source": [
    "re.split('(\\W+)', 'Words, words, words.')\n"
   ]
  },
  {
   "cell_type": "code",
   "execution_count": 66,
   "metadata": {
    "run_control": {
     "frozen": false,
     "read_only": false
    }
   },
   "outputs": [
    {
     "data": {
      "text/plain": [
       "['Words', 'words, words.']"
      ]
     },
     "execution_count": 66,
     "metadata": {},
     "output_type": "execute_result"
    }
   ],
   "source": [
    "re.split('\\W+', 'Words, words, words.', 1)\n"
   ]
  },
  {
   "cell_type": "code",
   "execution_count": 69,
   "metadata": {
    "run_control": {
     "frozen": false,
     "read_only": false
    }
   },
   "outputs": [
    {
     "data": {
      "text/plain": [
       "['0', '3', '9']"
      ]
     },
     "execution_count": 69,
     "metadata": {},
     "output_type": "execute_result"
    }
   ],
   "source": [
    "re.split('[a-f]+', '0a3B9', flags=re.IGNORECASE)"
   ]
  },
  {
   "cell_type": "code",
   "execution_count": 70,
   "metadata": {
    "run_control": {
     "frozen": false,
     "read_only": false
    }
   },
   "outputs": [
    {
     "data": {
      "text/plain": [
       "[['Ross', 'McFluff', '834.345.1254', '155 Elm Street'],\n",
       " ['Ronald', 'Heathmore', '892.345.3428', '436 Finley Avenue'],\n",
       " ['Frank', 'Burger', '925.541.7625', '662 South Dogwood Way'],\n",
       " ['Heather', 'Albrecht', '548.326.4584', '919 Park Place']]"
      ]
     },
     "execution_count": 70,
     "metadata": {},
     "output_type": "execute_result"
    }
   ],
   "source": [
    "[re.split(\":? \", entry, maxsplit=3) for entry in entries]"
   ]
  },
  {
   "cell_type": "markdown",
   "metadata": {
    "run_control": {
     "frozen": false,
     "read_only": false
    }
   },
   "source": [
    "### 替换"
   ]
  },
  {
   "cell_type": "code",
   "execution_count": 73,
   "metadata": {
    "run_control": {
     "frozen": false,
     "read_only": false
    }
   },
   "outputs": [
    {
     "data": {
      "text/plain": [
       "'Psfooresr Abalomdlek, plasee rreopt your asebecns prtlpomy.'"
      ]
     },
     "execution_count": 73,
     "metadata": {},
     "output_type": "execute_result"
    }
   ],
   "source": [
    "import random\n",
    "def repl(m):\n",
    "    inner_word = list(m.group(2))\n",
    "    random.shuffle(inner_word)\n",
    "    return m.group(1) + \"\".join(inner_word) + m.group(3)\n",
    "\n",
    "text = \"Professor Abdolmalek, please report your absences promptly.\"\n",
    "re.sub(r\"(\\w)(\\w+)(\\w)\", repl, text)"
   ]
  },
  {
   "cell_type": "code",
   "execution_count": 74,
   "metadata": {
    "run_control": {
     "frozen": false,
     "read_only": false
    }
   },
   "outputs": [
    {
     "data": {
      "text/plain": [
       "'Pfsoerosr Alemdoalbk, peasle roeprt your acenbess ppomrlty.'"
      ]
     },
     "execution_count": 74,
     "metadata": {},
     "output_type": "execute_result"
    }
   ],
   "source": [
    "re.sub(r\"(\\w)(\\w+)(\\w)\", repl, text)"
   ]
  },
  {
   "cell_type": "markdown",
   "metadata": {
    "run_control": {
     "frozen": false,
     "read_only": false
    }
   },
   "source": []
  },
  {
   "cell_type": "markdown",
   "metadata": {
    "run_control": {
     "frozen": false,
     "read_only": false
    }
   },
   "source": [
    "### 如何处理中文？"
   ]
  },
  {
   "cell_type": "code",
   "execution_count": 275,
   "metadata": {
    "run_control": {
     "frozen": false,
     "read_only": false
    }
   },
   "outputs": [
    {
     "data": {
      "text/plain": [
       "['你好', '世界']"
      ]
     },
     "execution_count": 275,
     "metadata": {},
     "output_type": "execute_result"
    }
   ],
   "source": [
    "title = u'你好，hello，世界'\n",
    "pattern = re.compile(r'[\\u4e00-\\u9fff]+')\n",
    "result = pattern.findall(title)\n",
    "result"
   ]
  },
  {
   "cell_type": "markdown",
   "metadata": {
    "run_control": {
     "frozen": false,
     "read_only": false
    }
   },
   "source": [
    "<table cellspacing=\"0\" cellpadding=\"0\" width=\"700\" border=\"1\"><colgroup></colgroup><colgroup><col width=\"10%\"><col width=\"75%\"><col width=\"15%\"></colgroup><tbody><tr><td colspan=\"3\">\n",
    "<p align=\"center\"><span style=\"font-family:'Microsoft YaHei';font-size:24px;\">主要非英文语系字符范围</span></p>\n",
    "</td>\n",
    "</tr><tr><td><span style=\"font-family:'Microsoft YaHei';font-size:16px;\"><strong>范围</strong></span></td>\n",
    "<td><span style=\"font-family:'Microsoft YaHei';font-size:16px;\"><strong>编码</strong></span></td>\n",
    "<td><span style=\"font-family:'Microsoft YaHei';font-size:16px;\"><strong>说明</strong></span></td>\n",
    "</tr><tr><td><span style=\"font-family:'Microsoft YaHei';font-size:16px;\"><em>2E80~33FFh</em></span></td>\n",
    "<td><span style=\"font-family:'Microsoft YaHei';color:#ff0000;font-size:16px;\">中日韩符号区</span></td>\n",
    "<td><span style=\"font-family:'Microsoft YaHei';font-size:16px;\">收容康熙字典部首、中日韩辅助部首、注音符号、日本假名、韩文音符，中日韩的符号、标点、带圈或带括符文数字、月份，以及日本的假名组合、单位、年号、月份、日期、时间等。</span></td>\n",
    "</tr><tr><td><span style=\"font-family:'Microsoft YaHei';font-size:16px;\"><em>3400~4DFFh</em></span></td>\n",
    "<td><span style=\"font-family:'Microsoft YaHei';color:#ff0000;font-size:16px;\">中日韩认同文字扩充A区</span></td>\n",
    "<td><span style=\"font-family:'Microsoft YaHei';font-size:16px;\">中日韩认同表意文字扩充A区，总计收容6,582个中日韩汉字。</span></td>\n",
    "</tr><tr><td><span style=\"font-family:'Microsoft YaHei';font-size:16px;\"><em>4E00~9FFFh</em></span></td>\n",
    "<td><span style=\"font-family:'Microsoft YaHei';color:#ff0000;font-size:16px;\">中日韩认同表意文字区</span></td>\n",
    "<td><span style=\"font-family:'Microsoft YaHei';font-size:16px;\">中日韩认同表意文字区，总计收容20,902个中日韩汉字。</span></td>\n",
    "</tr><tr><td><span style=\"font-family:'Microsoft YaHei';font-size:16px;\"><em>A000~A4FFh</em></span></td>\n",
    "<td><span style=\"font-family:'Microsoft YaHei';color:#ff0000;font-size:16px;\">彝族文字区</span></td>\n",
    "<td><span style=\"font-family:'Microsoft YaHei';font-size:16px;\">收容中国南方彝族文字和字根</span></td>\n",
    "</tr><tr><td><span style=\"font-family:'Microsoft YaHei';font-size:16px;\"><em>AC00~D7FFh</em></span></td>\n",
    "<td><span style=\"font-family:'Microsoft YaHei';color:#ff0000;font-size:16px;\">韩文拼音组合字区</span></td>\n",
    "<td><span style=\"font-family:'Microsoft YaHei';font-size:16px;\">收容以韩文音符拼成的文字</span></td>\n",
    "</tr><tr><td><span style=\"font-family:'Microsoft YaHei';font-size:16px;\"><em>F900~FAFFh</em></span></td>\n",
    "<td><span style=\"font-family:'Microsoft YaHei';color:#ff0000;font-size:16px;\">中日韩兼容表意文字区</span></td>\n",
    "<td><span style=\"font-family:'Microsoft YaHei';font-size:16px;\">总计收容302个中日韩汉字</span></td>\n",
    "</tr><tr><td><span style=\"font-family:'Microsoft YaHei';font-size:16px;\"><em>FB00~FFFDh</em></span></td>\n",
    "<td><span style=\"font-family:'Microsoft YaHei';color:#ff0000;font-size:16px;\">文字表现形式区</span></td>\n",
    "<td><span style=\"font-family:'Microsoft YaHei';font-size:16px;\">收容组合拉丁文字、希伯来文、阿拉伯文、中日韩直式标点、小符号、半角符号、全角符号等。</span></td>\n",
    "</tr></tbody></table>"
   ]
  },
  {
   "cell_type": "code",
   "execution_count": 70,
   "metadata": {
    "run_control": {
     "frozen": false,
     "read_only": false
    }
   },
   "outputs": [
    {
     "data": {
      "text/plain": [
       "['世界', '世世', '世界繁荣']"
      ]
     },
     "execution_count": 70,
     "metadata": {},
     "output_type": "execute_result"
    }
   ],
   "source": [
    "title = u'你好，hello，世界，生生世世，好不好啊, 世界繁荣'\n",
    "pattern = re.compile(r'世{1,2}[\\u4e00-\\u9fff]*')\n",
    "result = pattern.findall(title)\n",
    "result"
   ]
  },
  {
   "cell_type": "code",
   "execution_count": null,
   "metadata": {
    "collapsed": true,
    "run_control": {
     "frozen": false,
     "read_only": false
    }
   },
   "outputs": [],
   "source": [
    "pat = re.compile(r'((2[0-4]\\d|25[0-5]|[01]?\\d\\d?)\\.){3}(2[0-4]\\d|25[0-5]|[01]?\\d\\d?)')"
   ]
  },
  {
   "cell_type": "code",
   "execution_count": 73,
   "metadata": {},
   "outputs": [
    {
     "data": {
      "text/plain": [
       "[('0.', '0', '0'), ('1.', '1', '1'), ('255.', '255', '255')]"
      ]
     },
     "execution_count": 73,
     "metadata": {},
     "output_type": "execute_result"
    }
   ],
   "source": [
    "str = 'sdsd 0.0.0.0 1.1.1.1 255.255.255.255 iiiiiiiiii'\n",
    "patt = re.compile(r'((25[0-5]|2[0-4]\\d|[1]\\d\\d|[\\d]{1,2})\\.){3}(25[0-5]|2[0-4]\\d|[1]?\\d\\d?)')\n",
    "patt.findall(str)"
   ]
  },
  {
   "cell_type": "code",
   "execution_count": 95,
   "metadata": {},
   "outputs": [
    {
     "data": {
      "text/plain": [
       "[]"
      ]
     },
     "execution_count": 95,
     "metadata": {},
     "output_type": "execute_result"
    }
   ],
   "source": [
    "patt = re.compile(r'(25[0-5]|2[0-4]\\d\\.)')\n",
    "patt = re.compile(r'(?P<name>\\d{3}\\.)(?P=name)')\n",
    "\n",
    "patt = re.compile(r'((?P<q>25[0-5]|2[0-4]\\d|[1]\\d\\d|\\d\\d?)\\.){3}(?P=q)')\n",
    "patt.findall('234.1.1.2 52567.,223.2.2.3, 34., 2, 0')"
   ]
  },
  {
   "cell_type": "code",
   "execution_count": null,
   "metadata": {},
   "outputs": [],
   "source": [
    "import re\n",
    "pattern = re.compile(ur'\\b((25[0-5]|2[0-4]\\d|1\\d\\d|\\d\\d|\\d)\\.){3}(25[0-5]|2[0-4]\\d|1\\d\\d|\\d\\d|\\d)\\b')\n",
    "str = u'234.1.1.2 52567.2.2.1,223.2.2.3, 34., 2, 0'\n",
    "print(pattern.search(str))\n",
    "re.search(r'(([01]{0,1}\\d{0,1}\\d|2[0-4]\\d|25[0-5])\\.){3}([01]{0,1}\\d{0,1}\\d|2[0-4]\\d|25[0-5])',ip)"
   ]
  }
 ],
 "metadata": {
  "kernelspec": {
   "display_name": "Python 3",
   "language": "python",
   "name": "python3"
  },
  "language_info": {
   "codemirror_mode": {
    "name": "ipython",
    "version": 3
   },
   "file_extension": ".py",
   "mimetype": "text/x-python",
   "name": "python",
   "nbconvert_exporter": "python",
   "pygments_lexer": "ipython3",
   "version": "3.6.13"
  }
 },
 "nbformat": 4,
 "nbformat_minor": 2
}
