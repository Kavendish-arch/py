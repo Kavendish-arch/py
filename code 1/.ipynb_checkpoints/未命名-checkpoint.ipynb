{
 "cells": [
  {
   "cell_type": "code",
   "execution_count": 3,
   "metadata": {},
   "outputs": [
    {
     "data": {
      "text/plain": [
       "4294967.0"
      ]
     },
     "execution_count": 3,
     "metadata": {},
     "output_type": "execute_result"
    }
   ],
   "source": [
    "import threading\n",
    "threading.active_count()\n",
    "threading.enumerate()\n",
    "threading.TIMEOUT_MAX"
   ]
  },
  {
   "cell_type": "code",
   "execution_count": 24,
   "metadata": {},
   "outputs": [
    {
     "name": "stdout",
     "output_type": "stream",
     "text": [
      "[2, 1, 3, 4, 3, 2]\n"
     ]
    }
   ],
   "source": [
    "list = [2,2,3,4,3,2]\n",
    "list[1] = 1\n",
    "print(list)"
   ]
  },
  {
   "cell_type": "code",
   "execution_count": null,
   "metadata": {},
   "outputs": [],
   "source": [
    "# list = []\n",
    "# dic = {}\n",
    "# list[x] x会越界，dic[x]会添加一个key"
   ]
  },
  {
   "cell_type": "code",
   "execution_count": 15,
   "metadata": {},
   "outputs": [
    {
     "name": "stdout",
     "output_type": "stream",
     "text": [
      "{'1': '12', '2': 3}\n",
      "{'1': 2, '2': 3}\n"
     ]
    }
   ],
   "source": [
    "#字典\n",
    "x = {'1':'12'}\n",
    "y = x.copy()\n",
    "x.clear()\n",
    "# setdefault() if key exist get value, if not add key and set value None\n",
    "y.setdefault('2')\n",
    "y['2'] = 3\n",
    "print(y)\n",
    "y['1'] = 2\n",
    "print(y)"
   ]
  }
 ],
 "metadata": {
  "kernelspec": {
   "display_name": "Python 2",
   "language": "python",
   "name": "python2"
  },
  "language_info": {
   "codemirror_mode": {
    "name": "ipython",
    "version": 2
   },
   "file_extension": ".py",
   "mimetype": "text/x-python",
   "name": "python",
   "nbconvert_exporter": "python",
   "pygments_lexer": "ipython2",
   "version": "2.7.13"
  }
 },
 "nbformat": 4,
 "nbformat_minor": 2
}
