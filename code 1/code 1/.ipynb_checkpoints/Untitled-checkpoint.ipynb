{
 "cells": [
  {
   "cell_type": "code",
   "execution_count": 26,
   "metadata": {},
   "outputs": [
    {
     "ename": "SyntaxError",
     "evalue": "Missing parentheses in call to 'print'. Did you mean print(strr[:-1]  # 使用切片，去掉了最后一个空格)? (<ipython-input-26-2c4d6dd8e3a6>, line 20)",
     "output_type": "error",
     "traceback": [
      "\u001b[1;36m  File \u001b[1;32m\"<ipython-input-26-2c4d6dd8e3a6>\"\u001b[1;36m, line \u001b[1;32m20\u001b[0m\n\u001b[1;33m    print strr[:-1]  # 使用切片，去掉了最后一个空格\u001b[0m\n\u001b[1;37m             ^\u001b[0m\n\u001b[1;31mSyntaxError\u001b[0m\u001b[1;31m:\u001b[0m Missing parentheses in call to 'print'. Did you mean print(strr[:-1]  # 使用切片，去掉了最后一个空格)?\n"
     ]
    }
   ],
   "source": [
    "def bubbleSort(num):\n",
    "    tail = len(num)\n",
    "    for i in range(tail):\n",
    "        for k in range(0,tail - i -1):\n",
    "            if num[k] > num[k+1]:\n",
    "                temp = num[k]\n",
    "                num[k] = num[k+1]\n",
    "                num[k+1] = temp\n",
    "\n",
    "maxtail = int(input())\n",
    "num = []\n",
    "for k in range(0, maxtail):\n",
    "    temp = input()\n",
    "    num.append(temp)\n",
    "bubbleSort(num)\n",
    "\n",
    "strr = ''  # 创建一个空字符串\n",
    "for i in num:\n",
    "    strr += str(i)+' '  # 数字后面加了一个空格\n",
    "print(strr[:-1])  # 使用切片，去掉了最后一个空格"
   ]
  },
  {
   "cell_type": "code",
   "execution_count": 15,
   "metadata": {},
   "outputs": [
    {
     "ename": "SyntaxError",
     "evalue": "invalid syntax (<ipython-input-15-6d24e32a4d94>, line 3)",
     "output_type": "error",
     "traceback": [
      "\u001b[1;36m  File \u001b[1;32m\"<ipython-input-15-6d24e32a4d94>\"\u001b[1;36m, line \u001b[1;32m3\u001b[0m\n\u001b[1;33m    def swap(*i,*m):\u001b[0m\n\u001b[1;37m                ^\u001b[0m\n\u001b[1;31mSyntaxError\u001b[0m\u001b[1;31m:\u001b[0m invalid syntax\n"
     ]
    }
   ],
   "source": [
    "s = 3\n",
    "d = 5\n",
    "def swap(i,m):\n",
    "    temp = i;\n",
    "    i = m\n",
    "    m = temp\n",
    "print(s, d)\n",
    "swap(s, d)\n",
    "print(s, d)"
   ]
  },
  {
   "cell_type": "code",
   "execution_count": 11,
   "metadata": {},
   "outputs": [
    {
     "name": "stdout",
     "output_type": "stream",
     "text": [
      "* 0\n",
      "* 1\n",
      "* 2\n",
      "* 3\n"
     ]
    }
   ],
   "source": [
    "for i in range(4):\n",
    "    print(\"* %d\" % i)"
   ]
  }
 ],
 "metadata": {
  "kernelspec": {
   "display_name": "Python 3",
   "language": "python",
   "name": "python3"
  },
  "language_info": {
   "codemirror_mode": {
    "name": "ipython",
    "version": 3
   },
   "file_extension": ".py",
   "mimetype": "text/x-python",
   "name": "python",
   "nbconvert_exporter": "python",
   "pygments_lexer": "ipython3",
   "version": "3.6.9"
  }
 },
 "nbformat": 4,
 "nbformat_minor": 2
}
