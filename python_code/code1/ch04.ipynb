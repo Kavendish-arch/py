{
 "cells": [
  {
   "cell_type": "code",
   "execution_count": null,
   "metadata": {},
   "outputs": [],
   "source": [
    "# 使用for打印0-100 的偶数\n",
    "for i in range(0, 101, 2):\n",
    "    print(i)"
   ]
  },
  {
   "cell_type": "code",
   "execution_count": 11,
   "metadata": {},
   "outputs": [
    {
     "name": "stdout",
     "output_type": "stream",
     "text": [
      "5050\n"
     ]
    }
   ],
   "source": [
    "# while 求 1-100 的和\n",
    "sum = 0\n",
    "i = 0\n",
    "while i <= 100:\n",
    "    sum += i\n",
    "    i+=1\n",
    "print(sum)"
   ]
  },
  {
   "cell_type": "code",
   "execution_count": 10,
   "metadata": {},
   "outputs": [
    {
     "name": "stdout",
     "output_type": "stream",
     "text": [
      "5050\n"
     ]
    }
   ],
   "source": [
    "# for求1-100的和\n",
    "sum = 0\n",
    "for i in range(0, 101):\n",
    "    sum += i\n",
    "print(sum)"
   ]
  },
  {
   "cell_type": "code",
   "execution_count": 7,
   "metadata": {},
   "outputs": [
    {
     "name": "stdout",
     "output_type": "stream",
     "text": [
      "输入你猜的数字34\n",
      "输入你猜的数46\n",
      "46\n"
     ]
    }
   ],
   "source": [
    "aim_price = \"46\"\n",
    "\n",
    "price = input(\"输入你猜的数字\")\n",
    "\n",
    "while (aim_price != price):\n",
    "    price = input(\"输入你猜的数\")\n",
    "    if(price == \"quit\"):\n",
    "        break\n",
    "print(price)"
   ]
  },
  {
   "cell_type": "code",
   "execution_count": 6,
   "metadata": {},
   "outputs": [
    {
     "name": "stdin",
     "output_type": "stream",
     "text": [
      "输入账号 123\n",
      "输入密码 234\n",
      "输入账号 123\n",
      "输入密码 444\n",
      "输入账号 quit\n"
     ]
    },
    {
     "name": "stdout",
     "output_type": "stream",
     "text": [
      "登陆成功\n"
     ]
    }
   ],
   "source": [
    "\n",
    "ac = \"123\"\n",
    "pwd = \"123\"\n",
    "account = input(\"输入账号\")\n",
    "password = input(\"输入密码\")\n",
    "\n",
    "while (account!=ac)or(password!=pwd):\n",
    "    account = input(\"输入账号\")\n",
    "    if(account == 'quit'):\n",
    "        break\n",
    "    password = input(\"输入密码\")\n",
    "print(\"登陆成功\")"
   ]
  },
  {
   "cell_type": "code",
   "execution_count": null,
   "metadata": {},
   "outputs": [],
   "source": []
  },
  {
   "cell_type": "code",
   "execution_count": 5,
   "metadata": {},
   "outputs": [
    {
     "name": "stdout",
     "output_type": "stream",
     "text": [
      "输入你的价格123\n",
      "<class 'int'>\n",
      "增加20元优惠卷\n"
     ]
    }
   ],
   "source": [
    "# 条件语句\n",
    "\n",
    "sum_money = int(input(\"输入你的价格\"))\n",
    "print(type(sum_money))\n",
    "if sum_money >= 500:\n",
    "    print(\"领取优惠卷100\")\n",
    "elif sum_money >= 300:\n",
    "    print(\"增加50元优惠卷\")\n",
    "elif sum_money >= 100:\n",
    "    print(\"增加20元优惠卷\")\n",
    "else:\n",
    "    print(\"增加10元优惠卷\")\n"
   ]
  },
  {
   "cell_type": "code",
   "execution_count": null,
   "metadata": {},
   "outputs": [],
   "source": []
  }
 ],
 "metadata": {
  "kernelspec": {
   "display_name": "Python 3",
   "language": "python",
   "name": "python3"
  },
  "language_info": {
   "codemirror_mode": {
    "name": "ipython",
    "version": 3
   },
   "file_extension": ".py",
   "mimetype": "text/x-python",
   "name": "python",
   "nbconvert_exporter": "python",
   "pygments_lexer": "ipython3",
   "version": "3.6.9"
  }
 },
 "nbformat": 4,
 "nbformat_minor": 4
}
