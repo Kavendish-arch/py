{
 "cells": [
  {
   "cell_type": "markdown",
   "metadata": {},
   "source": [
    "### 打印 姓名 年龄 爱好"
   ]
  },
  {
   "cell_type": "code",
   "execution_count": 3,
   "metadata": {},
   "outputs": [
    {
     "name": "stdout",
     "output_type": "stream",
     "text": [
      "姓名： 正正\n",
      "年龄： 28\n",
      "爱好： 航模\n"
     ]
    }
   ],
   "source": [
    "print('姓名：','正正')\n",
    "print('年龄：',28)\n",
    "print('爱好：','航模')"
   ]
  },
  {
   "cell_type": "markdown",
   "metadata": {},
   "source": [
    "###  打印心形"
   ]
  },
  {
   "cell_type": "code",
   "execution_count": 1,
   "metadata": {},
   "outputs": [
    {
     "name": "stdout",
     "output_type": "stream",
     "text": [
      "\n",
      "    @@@@@@@@@[\\@@@@@@@@@@@@@@@@@@@@@@@@@@@    \n",
      "    @@@@[         ,@@@@@@@@`         \\@@@@    \n",
      "    @@/             ,@@@@`             \\@@    \n",
      "    @@                @@                @@    \n",
      "    @^                                  ,@    \n",
      "    @                                    @    \n",
      "    @                                    @    \n",
      "    @^                                  =@    \n",
      "    @@`                                ,@@    \n",
      "    @@@\\                              /@@@    \n",
      "    @@@@@@`                        ]@@@@@@    \n",
      "    @@@@@@@@@`                  ]@@@@@@@@@    \n",
      "    @@@@@@@@@@@@`            ,@@@@@@@@@@@@    \n",
      "    @@@@@@@@@@@@@@\\        /@@@@@@@@@@@@@@    \n",
      "    @@@@@@@@@@@@@@@@\\    /@@@@@@@@@@@@@@@@    \n",
      "    @@@@@@@@@@@@@@@@@@^,@@@@@@@@@@@@@@@@@@    \n",
      "     \n",
      "\n"
     ]
    }
   ],
   "source": [
    " print('''\n",
    "     @@@@@@@@@[\\@@@@@@@@@@@@@@@@@@@@@@@@@@@    \n",
    "     @@@@[         ,@@@@@@@@`         \\@@@@    \n",
    "     @@/             ,@@@@`             \\@@    \n",
    "     @@                @@                @@    \n",
    "     @^                                  ,@    \n",
    "     @                                    @    \n",
    "     @                                    @    \n",
    "     @^                                  =@    \n",
    "     @@`                                ,@@    \n",
    "     @@@\\                              /@@@    \n",
    "     @@@@@@`                        ]@@@@@@    \n",
    "     @@@@@@@@@`                  ]@@@@@@@@@    \n",
    "     @@@@@@@@@@@@`            ,@@@@@@@@@@@@    \n",
    "     @@@@@@@@@@@@@@\\        /@@@@@@@@@@@@@@    \n",
    "     @@@@@@@@@@@@@@@@\\    /@@@@@@@@@@@@@@@@    \n",
    "     @@@@@@@@@@@@@@@@@@^,@@@@@@@@@@@@@@@@@@    \n",
    "      \n",
    " ''')"
   ]
  },
  {
   "cell_type": "markdown",
   "metadata": {},
   "source": [
    "### a-z A-Z 0-9 8位提取码"
   ]
  },
  {
   "cell_type": "code",
   "execution_count": null,
   "metadata": {},
   "outputs": [],
   "source": [
    "# 数据候选名单"
   ]
  },
  {
   "cell_type": "code",
   "execution_count": 26,
   "metadata": {},
   "outputs": [
    {
     "name": "stdout",
     "output_type": "stream",
     "text": [
      "62\n",
      "我的提取码为： YaCjcIpT\n"
     ]
    }
   ],
   "source": [
    "import random\n",
    "all_raw_code = [\n",
    "    'A','B','C','D','E','F','G','H','I','J','K','L','M','N','O','P','Q','R','S','T','U','V','W','X','Y','Z',\n",
    "     '0','1','2','3','4','5','6','7','8','9',\n",
    "     'a','b','c','d','e','f','g','h','i','j','k','l','m','n','o','p','q','r','s','t','u','v','w','x','y','z'\n",
    "]\n",
    "\n",
    "# 26 + 26 + 10 随机库的长度\n",
    "print(len(all_raw_code)) \n",
    "\n",
    "my_code = [] #列表\n",
    "# 0 到 7 循环\n",
    "for i in range(8): \n",
    "    gen_code = all_raw_code[random.randint(0,len(all_raw_code)-1)] #列表下标取值知识点\n",
    "    my_code.append(gen_code) #列表添加知识点\n",
    "print('我的提取码为：',''.join(my_code)) #\n"
   ]
  },
  {
   "cell_type": "code",
   "execution_count": 22,
   "metadata": {},
   "outputs": [
    {
     "name": "stdout",
     "output_type": "stream",
     "text": [
      "Xgya\n",
      "0123456789\n"
     ]
    }
   ],
   "source": [
    "## 调库骚操作\n",
    "import string\n",
    "import random\n",
    "code = ''.join(random.sample((string.digits + string.ascii_letters), 4))\n",
    "print(code)\n",
    "# 数字\n",
    "# print(string.digits)\n",
    "# 大小写\n",
    "# print(string.ascii_letters)\n",
    "# print(string.ascii_lowercase)\n",
    "# print(string.ascii_uppercase)"
   ]
  },
  {
   "cell_type": "markdown",
   "metadata": {},
   "source": [
    "### 变量-多对多赋值"
   ]
  },
  {
   "cell_type": "code",
   "execution_count": 46,
   "metadata": {},
   "outputs": [
    {
     "name": "stdout",
     "output_type": "stream",
     "text": [
      "2007467448112\n",
      "helldo\n",
      "nihao\n",
      "2007462944928\n",
      "2007462944928\n"
     ]
    }
   ],
   "source": [
    "# 多对多赋值\n",
    "code,code2 = \"helldo\",\"helldo\"\n",
    "\n",
    "print(id(code))\n",
    "print(code)\n",
    "# print(type(code))\n",
    "# print(len(code))\n",
    "\n",
    "code = 'nihao'\n",
    "# 注意点 简单变量，地址相同\n",
    "print(code)\n",
    "print(id(code))\n",
    "\n",
    "code = 'nihao'\n",
    "# 重新赋值相当于是新变量\n",
    "print(id(code))\n"
   ]
  },
  {
   "cell_type": "markdown",
   "metadata": {},
   "source": [
    "### 占位符\n",
    "name =‘zhengzheng’\n",
    "age = 28\n",
    "\n",
    "* %占位符 适合简单的且有循序的占位\n",
    "print(‘我的名字是%s，我的年龄是%d’%(name,age) \n",
    "\n",
    "* {} 和 format占位符  依次占位多个\n",
    "print(‘我的名字是{0}，我的年龄是 {1}’.format(name,age) \n",
    "\n",
    "* f{name} 适合有明确对应关系的变量\n",
    "print(f‘我的名字是{name}，我的年龄是 {age}’) \n"
   ]
  },
  {
   "cell_type": "code",
   "execution_count": 60,
   "metadata": {},
   "outputs": [
    {
     "name": "stdout",
     "output_type": "stream",
     "text": [
      "你好啊 hello hello \n"
     ]
    }
   ],
   "source": [
    "code = \"hello\"\n",
    "code[3:]\n",
    "\n",
    "print(\"你好啊 {} {} \".format(code,code))"
   ]
  },
  {
   "cell_type": "code",
   "execution_count": 63,
   "metadata": {},
   "outputs": [
    {
     "name": "stdout",
     "output_type": "stream",
     "text": [
      "<class 'dict'>\n",
      "{'德国': '奔驰'}\n",
      "<class 'str'>\n"
     ]
    }
   ],
   "source": [
    "Fl_teams = {'德国':'奔驰'}\n",
    "print(type(Fl_teams))\n",
    "\n",
    "print((str(Fl_teams)))\n",
    "print(type(str(Fl_teams)))"
   ]
  },
  {
   "cell_type": "code",
   "execution_count": 74,
   "metadata": {},
   "outputs": [
    {
     "name": "stdout",
     "output_type": "stream",
     "text": [
      "\n",
      "我叫{name}，我的年龄是{age}岁,身高{height}。我就读于{school}\n",
      "我们班男同学有20人，女同学有15人。共计35人\n"
     ]
    }
   ],
   "source": [
    "name =  '你的姓名'\n",
    "age = 28\n",
    "height = 1.83\n",
    "school ='北京大学'\n",
    "boys =20\n",
    "girls =15\n",
    "print( '''我叫{name}，我的年龄是{age}岁,身高{height}。我就读于{school}''')\n",
    "print('我们班男同学有{}人，女同学有{}人。共计{}人'.format(boys,girls,boys+girls))\n"
   ]
  },
  {
   "cell_type": "code",
   "execution_count": 9,
   "metadata": {},
   "outputs": [
    {
     "name": "stdout",
     "output_type": "stream",
     "text": [
      "62\n",
      "我的提取码为： clW2XXC3\n"
     ]
    }
   ],
   "source": [
    "import random\n",
    "all_raw_code =  ['A','B','C','D','E','F','G','H','I','J','K','L','M','N','O','P','Q','R','S','T','U','V','W','X','Y','Z',\n",
    "                 '0','1','2','3','4','5','6','7','8','9',\n",
    "                 'a','b','c','d','e','f','g','h','i','j','k','l','m','n','o','p','q','r','s','t','u','v','w','x','y','z']\n",
    "\n",
    "# 26 + 26 + 10 随机库的长度\n",
    "print(len(all_raw_code)) \n",
    "\n",
    "my_code = [] #列表\n",
    "for i in range(8): \n",
    "    gen_code = all_raw_code[random.randint(0,len(all_raw_code)-1)] #列表下标取值知识点\n",
    "    my_code.append(gen_code) #列表添加知识点\n",
    "print('我的提取码为：',''.join(my_code)) #"
   ]
  }
 ],
 "metadata": {
  "kernelspec": {
   "display_name": "Python 3",
   "language": "python",
   "name": "python3"
  },
  "language_info": {
   "codemirror_mode": {
    "name": "ipython",
    "version": 3
   },
   "file_extension": ".py",
   "mimetype": "text/x-python",
   "name": "python",
   "nbconvert_exporter": "python",
   "pygments_lexer": "ipython3",
   "version": "3.6.9"
  }
 },
 "nbformat": 4,
 "nbformat_minor": 4
}
