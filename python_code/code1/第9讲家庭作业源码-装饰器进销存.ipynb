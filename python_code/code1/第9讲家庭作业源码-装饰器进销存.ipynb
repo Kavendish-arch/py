{
 "cells": [
  {
   "cell_type": "markdown",
   "metadata": {},
   "source": [
    "## 装饰器家庭作业 - 用装饰器改进进销存系统"
   ]
  },
  {
   "cell_type": "code",
   "execution_count": null,
   "metadata": {},
   "outputs": [],
   "source": [
    "# 模拟一个简单的进销存软件，要用到装饰器（需要考虑哪些功能适合使用装饰器）：\n",
    "\n",
    "# 1.操作之前需要通过*账户密码*验证是否登陆成功\n",
    "\n",
    "# 2.每次登陆需要将登陆的用户名、登陆时间写入*日志*（日志用某个数据类型记录即可）\n",
    "\n",
    "# 3.登陆成功后可以增加商品名称以及对应的库存，增加商品时，需要判断你的商品不能是*违禁商品*（自定义违禁商品）\n",
    "\n",
    "# 4.当有商品入库或销售出去的时候，需要改变对应*库存*\n",
    "\n",
    "# 5.可以查询某商品现有库存（注意这里的数据结构）"
   ]
  },
  {
   "cell_type": "markdown",
   "metadata": {},
   "source": [
    "## 重点补充知识 -1"
   ]
  },
  {
   "cell_type": "code",
   "execution_count": 9,
   "metadata": {},
   "outputs": [
    {
     "name": "stdout",
     "output_type": "stream",
     "text": [
      "\n",
      "    abc\n",
      "    bbb\n",
      "    \n",
      "Help on function zz in module __main__:\n",
      "\n",
      "zz()\n",
      "    abc\n",
      "    bbb\n",
      "\n",
      "None\n"
     ]
    }
   ],
   "source": [
    "#如何查看 一个函数的名字。听起来很简单对吧 用看吗？ \n",
    "#如果你不能查看一个函数的名字，在程序中你知道你如何锁定你的函数？\n",
    "# 一旦程序运行起来 他可不会停下来让你看一眼的 。\n",
    "\n",
    "def zz():\n",
    "    '''\n",
    "    abc\n",
    "    bbb\n",
    "    '''\n",
    "    print('hello 万门！')\n",
    "# zz()\n",
    "# zz.__name__#查看属性 属性是啥？一个人的高矮胖瘦，这里查看的是函数的名字！\n",
    "print(zz.__doc__)\n",
    "print(help(zz))\n",
    "# dir(zz)"
   ]
  },
  {
   "cell_type": "markdown",
   "metadata": {},
   "source": [
    "## 重点补充知识 -2"
   ]
  },
  {
   "cell_type": "code",
   "execution_count": 10,
   "metadata": {},
   "outputs": [
    {
     "name": "stdout",
     "output_type": "stream",
     "text": [
      "123\n",
      "warp\n",
      "321\n",
      "warp\n",
      "abc\n"
     ]
    }
   ],
   "source": [
    "#装饰器本身是一个函数，那么装饰器去装饰另一个函数的时候， 原有函数就会“消逝”\n",
    "#为了避免让这个“最头部”的函数（被装饰的函数）不消失，可以使用wraps函数，它的作用是保证被修饰函数名不被改变\n",
    "#注意wraps函数是追溯上一函数名字，所以如果有多个装饰器，那么每个装饰器都要有，这条线不能断！\n",
    "\n",
    "\n",
    "#这是一个由于装饰导致迷失自我的函数！\n",
    "def a(func):\n",
    "    def warp():\n",
    "        print('123')\n",
    "        print(warp.__name__)\n",
    "        return func()\n",
    "    return warp\n",
    "\n",
    "def b(func):\n",
    "    def warp():\n",
    "        print('321')\n",
    "        print(warp.__name__)\n",
    "        return func()\n",
    "    return warp\n",
    "\n",
    "@a\n",
    "@b\n",
    "def xx():\n",
    "    print('abc')\n",
    "xx()\n",
    "\n"
   ]
  },
  {
   "cell_type": "code",
   "execution_count": 13,
   "metadata": {
    "collapsed": true,
    "jupyter": {
     "outputs_hidden": true
    }
   },
   "outputs": [
    {
     "name": "stdout",
     "output_type": "stream",
     "text": [
      "123\n",
      "warp\n",
      "321\n",
      "warp\n",
      "abc\n"
     ]
    }
   ],
   "source": [
    "#这是找回自我的一个版本！\n",
    "\n",
    "from functools import wraps\n",
    "\n",
    "def a(func):\n",
    "    @wraps(func)\n",
    "    def warp():\n",
    "        print('123')\n",
    "        print(warp.__name__)\n",
    "        return func()\n",
    "    return warp\n",
    "\n",
    "def b(func):\n",
    "    @wraps(func)\n",
    "    def warp():\n",
    "        print('321')\n",
    "        print(warp.__name__)\n",
    "        return func()\n",
    "    return warp\n",
    "\n",
    "@a\n",
    "@b\n",
    "def xx():\n",
    "    print('abc')\n",
    "xx()"
   ]
  },
  {
   "cell_type": "markdown",
   "metadata": {},
   "source": [
    "# 我们开始吧！"
   ]
  },
  {
   "cell_type": "code",
   "execution_count": 14,
   "metadata": {},
   "outputs": [],
   "source": [
    "# ***先对咱们的全局变量进行布局****\n",
    "\n",
    "#定义一个全局变量，控制登陆状态 bool\n",
    "login_status=False\n",
    "\n",
    "#定义一个全局变量保存日志 list\n",
    "log=[]\n",
    "\n",
    "#定义一个全局变量保存违禁品 list\n",
    "prohibit_list=['枪支','弹药','药品','野生动物']\n",
    "\n",
    "#定义一个全局变量保存管理员用户名和密码\n",
    "super_adm={'user':'peipei','pwd':'123456'}\n",
    "\n",
    "#定义一个全局变量保存添加的商品\n",
    "product={}\n"
   ]
  },
  {
   "cell_type": "code",
   "execution_count": 27,
   "metadata": {
    "scrolled": true
   },
   "outputs": [
    {
     "name": "stdout",
     "output_type": "stream",
     "text": [
      "True\n",
      "[{'用户名': 'peipei', '登陆时间': '2020-06-16 00:53:05', '操作类型': 'add_product_stock', '操作内容': ('电脑', 10)}, {'用户名': 'peipei', '登陆时间': '2020-06-16 00:54:20', '操作类型': 'query_product', '操作内容': ('笔记本',)}, {'用户名': 'peipei', '登陆时间': '2020-06-16 00:54:28', '操作类型': 'query_product', '操作内容': ('电脑',)}, {'用户名': 'peipei', '登陆时间': '2020-06-16 00:54:40', '操作类型': 'sale_product', '操作内容': ('电脑', 9)}, {'用户名': 'peipei', '登陆时间': '2020-06-16 00:55:03', '操作类型': 'query_product', '操作内容': ('电脑',)}]\n",
      "['枪支', '弹药', '药品', '野生动物']\n",
      "{'user': 'peipei', 'pwd': '123456'}\n",
      "{'电脑': 1}\n"
     ]
    }
   ],
   "source": [
    "print(login_status,log,prohibit_list,super_adm,product,sep='\\n')"
   ]
  },
  {
   "cell_type": "code",
   "execution_count": 28,
   "metadata": {},
   "outputs": [
    {
     "data": {
      "text/plain": [
       "[{'用户名': 'peipei',\n",
       "  '登陆时间': '2020-06-16 00:53:05',\n",
       "  '操作类型': 'add_product_stock',\n",
       "  '操作内容': ('电脑', 10)},\n",
       " {'用户名': 'peipei',\n",
       "  '登陆时间': '2020-06-16 00:54:20',\n",
       "  '操作类型': 'query_product',\n",
       "  '操作内容': ('笔记本',)},\n",
       " {'用户名': 'peipei',\n",
       "  '登陆时间': '2020-06-16 00:54:28',\n",
       "  '操作类型': 'query_product',\n",
       "  '操作内容': ('电脑',)},\n",
       " {'用户名': 'peipei',\n",
       "  '登陆时间': '2020-06-16 00:54:40',\n",
       "  '操作类型': 'sale_product',\n",
       "  '操作内容': ('电脑', 9)},\n",
       " {'用户名': 'peipei',\n",
       "  '登陆时间': '2020-06-16 00:55:03',\n",
       "  '操作类型': 'query_product',\n",
       "  '操作内容': ('电脑',)}]"
      ]
     },
     "execution_count": 28,
     "metadata": {},
     "output_type": "execute_result"
    }
   ],
   "source": [
    "log"
   ]
  },
  {
   "cell_type": "markdown",
   "metadata": {},
   "source": [
    "### 定义我们的 装饰器"
   ]
  },
  {
   "cell_type": "code",
   "execution_count": 18,
   "metadata": {},
   "outputs": [],
   "source": [
    "import time\n",
    "from functools import wraps\n",
    "\n",
    "# ************  特别注意 你在使用装饰器时候的逻辑顺序！ ***************\n",
    "#比如 登陆肯定在日志前，没有登陆成功就没有操作日志，当然这个不是绝对，有的要求你记录登陆，哪怕是失败的登陆\n",
    "#然后才会再判断是否有违禁物品，他不登陆成功你说他搞什么违禁物品判断呢？ 意义何在？这个就是所谓的“逻辑顺序”\n",
    "\n",
    "#登陆功能 *装饰器*\n",
    "def login(func):    \n",
    "             #注意这里的参数，因为验证某个函数功能是否需要登陆时，被修饰的函数的参数不确定，而且login也不需要这些参数\n",
    "    @wraps(func)\n",
    "    def wrapper_func(*args, **kwargs):\n",
    "        global login_status,super_adm\n",
    "        #判断是否有登陆\n",
    "        if login_status == True :\n",
    "            return func(*args, **kwargs)\n",
    "        else:\n",
    "            #无登陆 要求输入用户名和密码，如果判断到这里了证明了啥？ 说明此用户是第一次使用\n",
    "            login_user = input('请输入用户名:')\n",
    "            login_pwd = input('请输入密码:')\n",
    "            if login_user == super_adm['user'] and login_pwd == super_adm['pwd']:\n",
    "                login_status = True\n",
    "                return func(*args, **kwargs)\n",
    "            else:                \n",
    "                print('登陆失败，账户名或密码或身份错误')\n",
    "        \n",
    "    return wrapper_func\n",
    "\n",
    "\n",
    "\n",
    "#操作时间和操作用户日志 *装饰器*\n",
    "def log_write(func):\n",
    "    @wraps(func)\n",
    "    def wrapper_func(*args,**kwargs):\n",
    "        global log,super_adm\n",
    "        log_dic={} #建立一个临时字典 存储用户操作行为和信息\n",
    "        log_dic['用户名'] = super_adm['user']\n",
    "        log_dic['登陆时间'] = time.strftime('%Y-%m-%d %H:%M:%S',time.localtime())\n",
    "        log_dic['操作类型'] = wrapper_func.__name__\n",
    "        log_dic['操作内容'] = args\n",
    "        log.append(log_dic) #向全局log添加这个临时字典 log_dic\n",
    "        return func(*args,**kwargs)\n",
    "    return wrapper_func\n",
    "        \n",
    "\n",
    "\n",
    "#判断是否有违禁物品 *装饰器*\n",
    "def is_prohibit(func):\n",
    "    @wraps(func)\n",
    "    def wrapper_func(product_name,product_stock_num):\n",
    "        global prohibit_status\n",
    "        if product_name in prohibit_list:\n",
    "            print('您添加的商品属于违禁商品！禁止添加！')\n",
    "        else:\n",
    "            return func(product_name,product_stock_num)\n",
    "    return wrapper_func\n",
    "\n"
   ]
  },
  {
   "cell_type": "markdown",
   "metadata": {},
   "source": [
    "### 定义我们的 具体功能"
   ]
  },
  {
   "cell_type": "code",
   "execution_count": 19,
   "metadata": {},
   "outputs": [],
   "source": [
    "#增加商品 并 入库\n",
    "# @login\n",
    "@log_write\n",
    "@is_prohibit\n",
    "def add_product_stock(product_name,product_stock_num):\n",
    "    global product\n",
    "    if product_name in product.keys():\n",
    "        product[product_name]=product[product_name]+product_stock_num\n",
    "    else:\n",
    "        product[product_name]=product_stock_num\n",
    "\n",
    "\n",
    "#销售某商品     \n",
    "# @login\n",
    "@log_write\n",
    "def sale_product(product_name,product_sale_num):\n",
    "    global product\n",
    "    if product_name not in product.keys():\n",
    "        print('您销售的商品不存在')\n",
    "    elif product[product_name] < product_sale_num:\n",
    "        print('对不起！库存不足！')\n",
    "    else:\n",
    "        #销售后的库存更新 减除\n",
    "        product[product_name] = product[product_name]-product_sale_num\n",
    "\n",
    "        \n",
    "#查询某商品库存\n",
    "# @login\n",
    "@log_write\n",
    "def query_product(product_name):\n",
    "    if product_name not in  product.keys():\n",
    "        print('您查询的商品不存在')\n",
    "    else:\n",
    "        product_stock = product[product_name]\n",
    "        print(product_name,'的库存是：',product_stock)\n",
    "   "
   ]
  },
  {
   "cell_type": "markdown",
   "metadata": {},
   "source": [
    "### 做一个main 即主程序来管理各个功能"
   ]
  },
  {
   "cell_type": "code",
   "execution_count": 29,
   "metadata": {},
   "outputs": [
    {
     "name": "stdout",
     "output_type": "stream",
     "text": [
      "****欢迎来到万门大学Python趣讲精练 ERP 演示系统****\n",
      "****请输入功能编号进行操作****\n",
      "输入1 进行商品添加入库操作\n",
      "输入2 销售减库操作\n",
      "输入3 库存查询操作\n",
      "请输入功能编号---:1\n",
      "请输入入库产品名称:枪支\n",
      "请输入入库产品数量:10\n",
      "您添加的商品属于违禁商品！禁止添加！\n"
     ]
    }
   ],
   "source": [
    "#主程序 main 程序\n",
    "\n",
    "@login #注意主程序开始前，先查看用户的登陆状态\n",
    "def main():\n",
    "    #函数调用的新玩儿法，因为python没有switch case语句 即多选。所以我们用字典搞定\n",
    "    functions = {\n",
    "        '1':add_product_stock,\n",
    "        '2':sale_product,\n",
    "        '3':query_product,\n",
    "    }\n",
    "  \n",
    "    func_choice = input('请输入功能编号---:')\n",
    "    \n",
    "    if func_choice == '1':\n",
    "        #注意这里的调用关系，func.get(key)获得了值，但是这个值是一个对象，是一个函数那么再加（）就执行了该函数\n",
    "        product_name = input('请输入入库产品名称:')\n",
    "        stock_num = int(input('请输入入库产品数量:'))\n",
    "        functions.get(func_choice)(product_name,stock_num)\n",
    "    \n",
    "    elif func_choice == '2':\n",
    "        product_name = input('请输入销售产品名称:')\n",
    "        product_sale_num = int(input('请输入销售产品数量:'))\n",
    "        functions.get(func_choice)(product_name,product_sale_num)\n",
    "        \n",
    "    elif func_choice == '3':\n",
    "        product_name = input('请输入查询产品名称:')\n",
    "        functions.get(func_choice)(product_name)\n",
    "    \n",
    "    \n",
    "    \n",
    "#我们学的越来越多 __name__ __main__是什么意思？\n",
    "#这个部分是一个关于python解释器需要判断的一个东西！\n",
    "#当前运行的程序作为主程序运行，而不是来自其他文件（py）的调用来运行本程序\n",
    "\n",
    "if  __name__ == '__main__':\n",
    "    print(\"****欢迎来到万门大学Python趣讲精练 ERP 演示系统****\")\n",
    "    print(\"****请输入功能编号进行操作****\")\n",
    "    print('输入1 进行商品添加入库操作','输入2 销售减库操作','输入3 库存查询操作',sep='\\n')\n",
    "    main()"
   ]
  },
  {
   "cell_type": "markdown",
   "metadata": {},
   "source": [
    "### 特别注意 正正老师这个版本的设计\n",
    "### 是为了让大家有一个对整体布局上的认识，加了input 让各位有用户操作的体验"
   ]
  },
  {
   "cell_type": "code",
   "execution_count": null,
   "metadata": {},
   "outputs": [],
   "source": [
    "#大家看到我们的@login 装饰器 其实可以单独装饰每个函数，演示代码中我注释掉了！\n",
    "#大家可以自行运行 独立的函数 直接传入参数，直接使用login装饰器\n",
    "#以达到一次设计（装饰器） 多次使用的目的"
   ]
  }
 ],
 "metadata": {
  "kernelspec": {
   "display_name": "Python 3",
   "language": "python",
   "name": "python3"
  },
  "language_info": {
   "codemirror_mode": {
    "name": "ipython",
    "version": 3
   },
   "file_extension": ".py",
   "mimetype": "text/x-python",
   "name": "python",
   "nbconvert_exporter": "python",
   "pygments_lexer": "ipython3",
   "version": "3.6.9"
  }
 },
 "nbformat": 4,
 "nbformat_minor": 4
}
