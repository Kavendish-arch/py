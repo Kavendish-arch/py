{
 "cells": [
  {
   "cell_type": "markdown",
   "metadata": {},
   "source": [
    "### 打印\n",
    "1. 打印、注释\n",
    "2. 占位符 %s %d %f"
   ]
  },
  {
   "cell_type": "code",
   "execution_count": 11,
   "metadata": {},
   "outputs": [
    {
     "name": "stdout",
     "output_type": "stream",
     "text": [
      "\"你好啊\"\n",
      "'hello'\n",
      "打印多行文本\n",
      "\" 双引号 \"\n",
      "'单引号'\n",
      "\n",
      "我的名字正方形,我的年纪是34\n"
     ]
    }
   ],
   "source": [
    "# 注意点 单双引号问题\n",
    "'''\n",
    "多行注释\n",
    "'''\n",
    "print('\"你好啊\"')\n",
    "print(\"'hello'\")\n",
    "print('''打印多行文本\n",
    "\" 双引号 \"\n",
    "'单引号'\n",
    "''')"
   ]
  },
  {
   "cell_type": "code",
   "execution_count": null,
   "metadata": {},
   "outputs": [],
   "source": []
  },
  {
   "cell_type": "code",
   "execution_count": 12,
   "metadata": {},
   "outputs": [
    {
     "name": "stdout",
     "output_type": "stream",
     "text": [
      "我的名字正方形,我的年纪是34\n"
     ]
    }
   ],
   "source": [
    "# 占位符，格式化输出\n",
    "print('''我的名字%s,我的年纪是%s'''%('正方形',34))"
   ]
  },
  {
   "cell_type": "code",
   "execution_count": 15,
   "metadata": {},
   "outputs": [
    {
     "name": "stdout",
     "output_type": "stream",
     "text": [
      " ' 你好\n",
      "C:\\windows\\python\n",
      "/usr/a/abcd\n"
     ]
    }
   ],
   "source": [
    "# 转义符 \\\n",
    "print(\" \\' 你好\")\n",
    "# windows 文件操作是出现\\\\无法使用问题\n",
    "print(\"C:\\\\windows\\\\python\")\n",
    "print(\"/usr/a/abcd\")"
   ]
  },
  {
   "cell_type": "code",
   "execution_count": null,
   "metadata": {},
   "outputs": [],
   "source": []
  }
 ],
 "metadata": {
  "kernelspec": {
   "display_name": "Python 3",
   "language": "python",
   "name": "python3"
  },
  "language_info": {
   "codemirror_mode": {
    "name": "ipython",
    "version": 3
   },
   "file_extension": ".py",
   "mimetype": "text/x-python",
   "name": "python",
   "nbconvert_exporter": "python",
   "pygments_lexer": "ipython3",
   "version": "3.6.9"
  }
 },
 "nbformat": 4,
 "nbformat_minor": 2
}
