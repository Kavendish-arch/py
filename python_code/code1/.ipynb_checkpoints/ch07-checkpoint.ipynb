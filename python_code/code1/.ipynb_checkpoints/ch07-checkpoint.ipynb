{
 "cells": [
  {
   "cell_type": "code",
   "execution_count": 16,
   "metadata": {},
   "outputs": [
    {
     "name": "stdout",
     "output_type": "stream",
     "text": [
      "Help on function add in module __main__:\n",
      "\n",
      "add(*num)\n",
      "    加法\n",
      "\n",
      "结果是 53\n"
     ]
    }
   ],
   "source": [
    "# 函数\n",
    "help(add)\n",
    "\n",
    "# () 形参\n",
    "# 1. 根据位置传入参数\n",
    "# 2. 根据关键字(形参名)传入参数\n",
    "# 3. 可变参数 *num\n",
    "def add(*args):\n",
    "    '''\n",
    "    加法\n",
    "    '''\n",
    "    sum = 0\n",
    "    for i in args:\n",
    "        sum += i\n",
    "    print('结果是',sum)\n",
    "\n",
    "add(2,3,45,3)\n"
   ]
  },
  {
   "cell_type": "code",
   "execution_count": null,
   "metadata": {},
   "outputs": [],
   "source": [
    "def test(sname, prol, grade=345, aim_num, *teacher,  l_num, g_num, p_num, **stu_lis, **students):\n",
    "'''大学名称、专业、招生分数线、招生人数、招生老师名单、报考考生及其高考成绩、报考人数、达线人数、录取名单、录取人数'''"
   ]
  }
 ],
 "metadata": {
  "kernelspec": {
   "display_name": "Python 3",
   "language": "python",
   "name": "python3"
  },
  "language_info": {
   "codemirror_mode": {
    "name": "ipython",
    "version": 3
   },
   "file_extension": ".py",
   "mimetype": "text/x-python",
   "name": "python",
   "nbconvert_exporter": "python",
   "pygments_lexer": "ipython3",
   "version": "3.6.9"
  }
 },
 "nbformat": 4,
 "nbformat_minor": 2
}
