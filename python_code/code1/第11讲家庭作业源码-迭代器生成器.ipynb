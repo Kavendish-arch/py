{
 "cells": [
  {
   "cell_type": "markdown",
   "metadata": {},
   "source": [
    "### 年会大抽奖"
   ]
  },
  {
   "cell_type": "code",
   "execution_count": null,
   "metadata": {},
   "outputs": [],
   "source": [
    "# 年会、答谢会、同学会总之各种会为了营造气氛，都会有一个你我他都喜欢的环节那就是抽奖，\n",
    "# 那么今天我们就来做一个抽奖游戏。要使用迭代器、生成器来完成。\n",
    "\n",
    "# 1.拟定一个奖品列表，奖品自定义（iPad iphoneX …)\n",
    "# 2.每次抽奖后需要从列表中拿掉一个奖品（使用迭代器实现）\n",
    "# 3.拟定一个抽奖概率不是每次都能抽到奖品（活用random函数+list配合）\n",
    "# 4.中奖后需要给中奖人分配一个id 规则按照0001-000X（使用生成器实现）\n",
    "\n",
    "\n",
    "# 注意事项：\n",
    "# 1.中奖则生成一个中奖id ，不中奖当然就不需要了\n",
    "# 2.中奖则从库中减少一个奖品（这里我们定义为一种奖品就一个，不做单奖品多数量）\n",
    "# 3.注意如果奖品用尽（迭代器）则会报错，这里需要想办法屏蔽报错\n",
    "\n",
    "# 输出要求：\n",
    "# 抽一次奖，输出一次中奖状态，可以包含中奖和不中奖两个状态，如果中奖则需要输出奖品和中奖id\n",
    "\n"
   ]
  },
  {
   "cell_type": "code",
   "execution_count": null,
   "metadata": {},
   "outputs": [],
   "source": [
    "#使用一个生成器生成抽奖ID\n",
    "my_gen=(x for x in range(1,10000))\n",
    "\n",
    "#参加抽奖的总人数 (注意这里是延伸的一个设计，一会儿我们讲为什么)\n",
    "total_p=30\n",
    "\n",
    "#奖品字典 包含 奖品和奖品数量\n",
    "prize_dict={'iphone11':2,'ipad':3,'macbook':1,'switch':3,'京东500元购物卡':5,'PS4':2}"
   ]
  },
  {
   "cell_type": "markdown",
   "metadata": {},
   "source": [
    "<!-- 这一行 先留着 一会儿回来看 -->\n",
    "<img src='luckydraw.jpg' width='500px'>"
   ]
  },
  {
   "cell_type": "code",
   "execution_count": null,
   "metadata": {},
   "outputs": [],
   "source": [
    "import random\n",
    "\n",
    "#用于抽奖的列表，我们叫做抽奖池.奖池开始肯定是空的，根据我们实际情况添加\n",
    "lottery_list=[]\n",
    "\n",
    "#抽奖概率的主控函数 并且可以改变中奖概率大小\n",
    "def probability(num_p,dic):\n",
    "    '''num_p: 公司参与抽奖总人数 \n",
    "       dic:   奖品字典，包括奖品名称和奖品数量\n",
    "    '''\n",
    "    #这里做一级输入数据的判断，让控制函数健壮一些。\n",
    "    if type(num_p)!=int or type(dic)!=dict:\n",
    "        print('您输入的参数格式不正确')\n",
    "        \n",
    "    else: #主控逻辑\n",
    "        sum_dic=0\n",
    "        #——————先去遍历一下奖品字典——————\n",
    "#       prize_dict={'iphone11':2,'ipad':3,'macbook':1,'switch':3,'京东500元购物卡':5,'PS4':2}\n",
    "        for k,v in prize_dict.items():\n",
    "            #根据字典中各个奖品的数量，将奖品添加到抽奖池列表中，\n",
    "            #改变奖品数量可以改变中奖概率（奖品越多中奖率越高）\n",
    "            for i in range(v): \n",
    "                lottery_list.append(k)  \n",
    "                \n",
    "            sum_dic+=v  #注意这里要计算一下 总奖品数量 下一步要用\n",
    "\n",
    "        for j in range(num_p-sum_dic):  #30 - 15  =15\n",
    "            #根据参与抽奖总人数往抽奖池中添加数据，将总人数减去奖品数，\n",
    "            # 得到的数字就是往奖品池列表添加的不中奖数量，改变人数可以改变中奖概率\n",
    "            #大家这么理解啊 ，不中奖也是一种奖品，因为这个概率取决于 奖品数量和人数的差值，\n",
    "            #差值越大不中奖概率越大\n",
    "            lottery_list.append('没中奖')\n",
    "            \n",
    "#这种设计逻辑 注意 比如你有30人参加\n",
    "#30人都会抽奖 那么保证你的奖池抽干，每个人都有一个“奖品”"
   ]
  },
  {
   "cell_type": "code",
   "execution_count": null,
   "metadata": {},
   "outputs": [],
   "source": [
    "help(probability)"
   ]
  },
  {
   "cell_type": "code",
   "execution_count": null,
   "metadata": {},
   "outputs": [],
   "source": [
    "#各就各位 调用函数 传入参数，准备迭代器！\n",
    "\n",
    "#调用函数，传参\n",
    "probability(total_p,prize_dict) \n",
    "\n",
    "#打乱抽奖池里面元素的顺序（这个特别重要，添加是按照顺序添加，取也是按照顺序取，所以必须要打乱\n",
    "#这个就是**摇晃抽奖箱**的过程\n",
    "#注意 shuffle是操作原始列表，不会重新创建新对象\n",
    "print(lottery_list)\n",
    "random.shuffle(lottery_list)\n",
    "\n",
    "print(lottery_list)\n",
    "#将已经打乱顺序的抽奖池列表转换成迭代器开始迭代抽奖\n",
    "new_iter=iter(lottery_list)\n",
    "#注意 取的时候是从 下标/index/索引 0开始取，不是从-1开始取\n",
    "\n",
    "\n"
   ]
  },
  {
   "cell_type": "code",
   "execution_count": null,
   "metadata": {},
   "outputs": [],
   "source": [
    "#next(new_iter)"
   ]
  },
  {
   "cell_type": "code",
   "execution_count": null,
   "metadata": {},
   "outputs": [],
   "source": [
    "#LET's Fire up our GAME! 启动抽奖！\n",
    "\n",
    "#按照众多的抽奖习惯之一  一人一抽模式\n",
    "while 1:\n",
    "    if total_p!=0: #判断抽奖次数\n",
    "        print('-'*50)\n",
    "        print(\"开始抽奖请输入'抽奖'，结束抽奖请输入'结束'\")\n",
    "        if input()=='抽奖':\n",
    "            p=next(new_iter)\n",
    "            total_p -= 1 #抽一次减少一次抽象次数\n",
    "            if p=='没中奖':\n",
    "                print('很遗憾您没有中奖')\n",
    "            else:           # 1 2 3      0001\n",
    "                num=format(next(my_gen),'04d') #特别注意一下这里，需要通过format()函数转一下 04四位digits\n",
    "                print('恭喜您中奖了，奖品是：'+p+'，中奖ID是：'+str(num))\n",
    "        elif input()=='结束':\n",
    "            break\n",
    "    else:\n",
    "        print('抽奖次数已用完')\n",
    "        break\n"
   ]
  },
  {
   "cell_type": "markdown",
   "metadata": {},
   "source": [
    "#### ###番外篇#### 不基于奖品数量 设定概率 (抛开课程大纲发挥一下)"
   ]
  },
  {
   "cell_type": "code",
   "execution_count": 1,
   "metadata": {},
   "outputs": [],
   "source": [
    "import random\n",
    "#初始化一个中奖概率 切记 之里的数字 加起来应该等于100 即100% 每一个代表中奖率 %\n",
    "init_probability = {'ipad': 70, 'iphone':10, 'macpro':10,'没中奖':10}"
   ]
  },
  {
   "cell_type": "code",
   "execution_count": 2,
   "metadata": {},
   "outputs": [],
   "source": [
    "#奖品库存 这个是数量/库存\n",
    "prize_stock = {'ipad': 10, 'iphone':5, 'mac':6}"
   ]
  },
  {
   "cell_type": "code",
   "execution_count": 3,
   "metadata": {},
   "outputs": [],
   "source": [
    "#创建实际需要使用的概率表\n",
    "probability_list = [k for k,v in init_probability.items() for x in range(v) ]"
   ]
  },
  {
   "cell_type": "code",
   "execution_count": 5,
   "metadata": {
    "collapsed": true
   },
   "outputs": [
    {
     "name": "stdout",
     "output_type": "stream",
     "text": [
      "['ipad', 'ipad', 'ipad', 'ipad', 'ipad', 'ipad', 'ipad', 'ipad', 'ipad', 'ipad', 'ipad', 'ipad', 'ipad', 'ipad', 'ipad', 'ipad', 'ipad', 'ipad', 'ipad', 'ipad', 'ipad', 'ipad', 'ipad', 'ipad', 'ipad', 'ipad', 'ipad', 'ipad', 'ipad', 'ipad', 'ipad', 'ipad', 'ipad', 'ipad', 'ipad', 'ipad', 'ipad', 'ipad', 'ipad', 'ipad', 'ipad', 'ipad', 'ipad', 'ipad', 'ipad', 'ipad', 'ipad', 'ipad', 'ipad', 'ipad', 'ipad', 'ipad', 'ipad', 'ipad', 'ipad', 'ipad', 'ipad', 'ipad', 'ipad', 'ipad', 'ipad', 'ipad', 'ipad', 'ipad', 'ipad', 'ipad', 'ipad', 'ipad', 'ipad', 'ipad', 'iphone', 'iphone', 'iphone', 'iphone', 'iphone', 'iphone', 'iphone', 'iphone', 'iphone', 'iphone', 'macpro', 'macpro', 'macpro', 'macpro', 'macpro', 'macpro', 'macpro', 'macpro', 'macpro', 'macpro', '没中奖', '没中奖', '没中奖', '没中奖', '没中奖', '没中奖', '没中奖', '没中奖', '没中奖', '没中奖']\n"
     ]
    }
   ],
   "source": [
    "print(probability_list)"
   ]
  },
  {
   "cell_type": "code",
   "execution_count": null,
   "metadata": {},
   "outputs": [],
   "source": [
    "# test_list = []\n",
    "# for k,v in init_probability.items():\n",
    "#     for x in range(v):\n",
    "#         test_list.append(k)"
   ]
  },
  {
   "cell_type": "code",
   "execution_count": null,
   "metadata": {},
   "outputs": [],
   "source": [
    "# print(test_list)"
   ]
  },
  {
   "cell_type": "code",
   "execution_count": null,
   "metadata": {},
   "outputs": [],
   "source": [
    "print(probability_list)"
   ]
  },
  {
   "cell_type": "code",
   "execution_count": 6,
   "metadata": {},
   "outputs": [],
   "source": [
    "#为了公平 打乱列表顺序\n",
    "random.shuffle(probability_list)"
   ]
  },
  {
   "cell_type": "code",
   "execution_count": 7,
   "metadata": {},
   "outputs": [
    {
     "name": "stdout",
     "output_type": "stream",
     "text": [
      "['ipad', '没中奖', 'ipad', 'ipad', '没中奖', 'macpro', '没中奖', 'ipad', 'ipad', 'ipad', 'iphone', 'macpro', 'ipad', 'iphone', 'ipad', 'ipad', 'ipad', 'iphone', 'iphone', 'macpro', 'ipad', 'iphone', 'ipad', 'ipad', 'ipad', 'ipad', '没中奖', 'ipad', 'macpro', 'ipad', 'ipad', 'ipad', 'ipad', 'ipad', 'ipad', 'ipad', 'iphone', 'ipad', 'macpro', 'ipad', 'iphone', 'ipad', 'ipad', 'ipad', 'ipad', 'ipad', 'ipad', 'ipad', 'ipad', '没中奖', 'iphone', 'ipad', 'ipad', 'ipad', 'ipad', 'ipad', 'ipad', 'ipad', 'ipad', '没中奖', 'ipad', '没中奖', 'ipad', 'iphone', 'ipad', 'ipad', 'ipad', 'ipad', 'macpro', 'iphone', '没中奖', 'macpro', 'ipad', 'ipad', 'ipad', 'ipad', 'ipad', 'ipad', 'ipad', 'ipad', 'ipad', '没中奖', 'ipad', 'ipad', '没中奖', 'ipad', 'ipad', 'ipad', 'ipad', 'ipad', 'macpro', 'ipad', 'macpro', 'ipad', 'ipad', 'ipad', 'ipad', 'ipad', 'macpro', 'ipad']\n"
     ]
    }
   ],
   "source": [
    "print(probability_list)"
   ]
  },
  {
   "cell_type": "code",
   "execution_count": 8,
   "metadata": {},
   "outputs": [],
   "source": [
    "#从列表中随机抽取一个\n",
    "my_price = random.choice(probability_list)"
   ]
  },
  {
   "cell_type": "code",
   "execution_count": 9,
   "metadata": {},
   "outputs": [
    {
     "data": {
      "text/plain": [
       "'ipad'"
      ]
     },
     "execution_count": 9,
     "metadata": {},
     "output_type": "execute_result"
    }
   ],
   "source": [
    "my_price"
   ]
  },
  {
   "cell_type": "code",
   "execution_count": 10,
   "metadata": {},
   "outputs": [],
   "source": [
    "#抽完了怎么办？ 需要干啥？？？？当然是去减少库存了。因为礼物不是无限的。\n",
    "prize_stock[my_price] = prize_stock[my_price] - 1"
   ]
  },
  {
   "cell_type": "code",
   "execution_count": 11,
   "metadata": {},
   "outputs": [
    {
     "data": {
      "text/plain": [
       "{'ipad': 9, 'iphone': 5, 'mac': 6}"
      ]
     },
     "execution_count": 11,
     "metadata": {},
     "output_type": "execute_result"
    }
   ],
   "source": [
    "prize_stock"
   ]
  },
  {
   "cell_type": "code",
   "execution_count": null,
   "metadata": {},
   "outputs": [],
   "source": [
    "#注意一下 库存要判断一下 0 的问题， 你要不判断 程序不会管你的 他会持续减 ：）\n",
    "#一旦等于0 要做什么处理？这个留给大家思考了！"
   ]
  }
 ],
 "metadata": {
  "kernelspec": {
   "display_name": "Python 3",
   "language": "python",
   "name": "python3"
  },
  "language_info": {
   "codemirror_mode": {
    "name": "ipython",
    "version": 3
   },
   "file_extension": ".py",
   "mimetype": "text/x-python",
   "name": "python",
   "nbconvert_exporter": "python",
   "pygments_lexer": "ipython3",
   "version": "3.7.6"
  }
 },
 "nbformat": 4,
 "nbformat_minor": 4
}
