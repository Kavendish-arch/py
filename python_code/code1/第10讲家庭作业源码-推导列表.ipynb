{
 "cells": [
  {
   "cell_type": "markdown",
   "metadata": {},
   "source": [
    "### 算算你家装修花的钱"
   ]
  },
  {
   "cell_type": "code",
   "execution_count": null,
   "metadata": {},
   "outputs": [],
   "source": [
    "# 各位学员可能已经经历或未来都要经历一种场景就是装修房子，那么装修房子都会涉及哪些东西？\n",
    "# 我大概列一下，家用电器、家具、房屋装修等。那么我们今天就来使用推导列表做一个基于家装的成本支出的作业\n",
    "\n",
    "\n",
    "# 数据如下: (大家可以自行拟定，想一下你需要什么数据结构)\n",
    "# 1.电视6000、空调15000、洗衣机5000、电冰箱8000\n",
    "# 2.床12000、衣柜9000、书桌4000、沙发10000、茶几电视柜5000\n",
    "# 3.地面8000、墙面5000、吊顶6000、地板10000\n",
    "\n",
    "\n",
    "# 输出要求: (以下全部使用推导列表完成) \n",
    "# 1.计算家用电器的总花销\n",
    "# 2.计算家具的总花销\n",
    "# 3.计算房屋装修的总花销\n",
    "# 4.计算全部总花销\n",
    "# 5.输出花销超过5000的项目\n"
   ]
  },
  {
   "cell_type": "code",
   "execution_count": 1,
   "metadata": {},
   "outputs": [
    {
     "name": "stdout",
     "output_type": "stream",
     "text": [
      "装修总费用：58000\n",
      "家用电器总费用：53000\n",
      "家具总费用：51000\n",
      "合计总费用：162000\n",
      "费用超过5000的项目：\n",
      "['地面', '地板', '瓷砖', '吊顶', '电视', '空调', '冰箱', '厨房电器', '电脑', '床', '沙发', '衣柜', '橱柜']\n"
     ]
    }
   ],
   "source": [
    "#先来搞一下我们的数据，程序的开始 始于变量 \n",
    "appliances_dic = {'电视':6000,'空调':15000,'冰箱':8000,\n",
    "                '洗衣机':5000,'热水器':5000,'厨房电器':8000,\n",
    "                '电脑':6000}\n",
    "\n",
    "furniture_dic = {'床':12000,'沙发':10000,'衣柜':9000,\n",
    "               '茶几电视柜':5000,'餐桌':4000,'橱柜':7000,\n",
    "               '书桌电脑桌':4000}\n",
    "\n",
    "\n",
    "decorate_dic = {'地面':8000,'墙面':5000,'地板':10000,'厨房':5000,\n",
    "              '卫生间':4000,'瓷砖':10000,'吊顶':6000,'灯具':5000,\n",
    "              '管线开关':5000}\n",
    "\n",
    "\n",
    "#独立项目合计\n",
    "decorate_list_total = [v for v in decorate_dic.values()]\n",
    "print('装修总费用：'+str(sum(decorate_list_total)))\n",
    "\n",
    "#独立项目合计\n",
    "appliances_list_total = [v for v in appliances_dic.values()]\n",
    "print('家用电器总费用：'+str(sum(appliances_list_total)))\n",
    "\n",
    "#独立项目合计\n",
    "furniture_list_total = [v for v in furniture_dic.values()]\n",
    "print('家具总费用：'+str(sum(furniture_list_total)))\n",
    "\n",
    "#全部总计\n",
    "print('合计总费用：'+str(sum(decorate_list_total)+sum(appliances_list_total)+sum(furniture_list_total)))\n",
    "\n",
    "#我们使用copy 建立一个新的对象 然后把三个大类放在一起 为计算大于5000的项做好数据准备\n",
    "dic_total = decorate_dic.copy()\n",
    "dic_total.update(appliances_dic)\n",
    "dic_total.update(furniture_dic)\n",
    "\n",
    "# print(dic_total)\n",
    "\n",
    "\n",
    "dd = {'地面':8000,'墙面':5000,'地板':10000,'厨房':5000}\n",
    "\n",
    "print('费用超过5000的项目：')\n",
    "                    #遍历原始数据的key 记住我们添加的是key 对当前key的值value判断是否大于5000\n",
    "morethan_5000_item = [k for k in dic_total.keys() if dic_total.get(k)>5000]\n",
    "    \n",
    "print(morethan_5000_item)"
   ]
  },
  {
   "cell_type": "code",
   "execution_count": null,
   "metadata": {},
   "outputs": [],
   "source": []
  }
 ],
 "metadata": {
  "kernelspec": {
   "display_name": "Python 3",
   "language": "python",
   "name": "python3"
  },
  "language_info": {
   "codemirror_mode": {
    "name": "ipython",
    "version": 3
   },
   "file_extension": ".py",
   "mimetype": "text/x-python",
   "name": "python",
   "nbconvert_exporter": "python",
   "pygments_lexer": "ipython3",
   "version": "3.7.6"
  }
 },
 "nbformat": 4,
 "nbformat_minor": 4
}
