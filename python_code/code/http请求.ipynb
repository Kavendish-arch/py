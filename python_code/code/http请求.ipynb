{
 "cells": [
  {
   "cell_type": "code",
   "execution_count": 8,
   "metadata": {},
   "outputs": [
    {
     "name": "stdout",
     "output_type": "stream",
     "text": [
      ".bHTTP/1.1 400 Bad Request\n",
      "\n",
      "\n"
     ]
    }
   ],
   "source": [
    "import socket\n",
    "def fetch(url):\n",
    "    sock = socket.socket()\n",
    "    sock.connect(('www.baidu.com', 80))\n",
    "    request = 'GET{} HTTP/1.1\\n\\rHost: www.baidu.com\\r\\n\\r\\n'.format(url)\n",
    "    sock.send(request.encode('ascii'))\n",
    "    response = 'b'\n",
    "    chunk = sock.recv(4096)\n",
    "    while chunk:\n",
    "        response += chunk.decode('utf-8')\n",
    "        chunk = sock.recv(4096)\n",
    "        print('.',end='')\n",
    "    return response\n",
    "\n",
    "rep = fetch('https://www.baidu.com/')\n",
    "print(rep)"
   ]
  },
  {
   "cell_type": "code",
   "execution_count": 22,
   "metadata": {},
   "outputs": [
    {
     "name": "stdout",
     "output_type": "stream",
     "text": [
      "None\n",
      "<Response [200]>\n"
     ]
    }
   ],
   "source": [
    "import requests\n",
    "\n",
    "# r = requests.get(\"https://darksky.net/forecast/40.7127,-74.0059/us12/en\")\n",
    "r = requests.get(\"http://game.gtimg.cn/images/yxzj/img201606/heroimg/194/194.jpg\")\n",
    "print(r.encoding)\n",
    "print(r)\n",
    "# text = r.content.decode('utf-8')\n"
   ]
  },
  {
   "cell_type": "code",
   "execution_count": null,
   "metadata": {},
   "outputs": [],
   "source": [
    "\n",
    "def loadJsonSample(path):\n",
    "    wi"
   ]
  },
  {
   "cell_type": "code",
   "execution_count": null,
   "metadata": {},
   "outputs": [],
   "source": []
  },
  {
   "cell_type": "code",
   "execution_count": null,
   "metadata": {},
   "outputs": [],
   "source": []
  },
  {
   "cell_type": "code",
   "execution_count": null,
   "metadata": {},
   "outputs": [],
   "source": []
  }
 ],
 "metadata": {
  "kernelspec": {
   "display_name": "Python 3",
   "language": "python",
   "name": "python3"
  },
  "language_info": {
   "codemirror_mode": {
    "name": "ipython",
    "version": 3
   },
   "file_extension": ".py",
   "mimetype": "text/x-python",
   "name": "python",
   "nbconvert_exporter": "python",
   "pygments_lexer": "ipython3",
   "version": "3.6.9"
  }
 },
 "nbformat": 4,
 "nbformat_minor": 4
}
