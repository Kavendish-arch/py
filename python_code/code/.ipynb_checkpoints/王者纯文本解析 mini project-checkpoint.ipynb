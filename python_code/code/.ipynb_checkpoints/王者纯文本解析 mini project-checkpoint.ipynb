{
 "cells": [
  {
   "cell_type": "markdown",
   "metadata": {},
   "source": [
    "## 小项目1， 王者信息提取\n",
    "\n",
    "### 目的：提取以下文本中，英雄名称，头像图片链接，英雄信息链接\n",
    "### 素材：截取的王者荣耀英雄列表HTML文本\n",
    "### 结果输出样例：\n",
    "```\n",
    "http://game.gtimg.cn/images/yxzj/img201606/heroimg/194/194.jpg\n",
    "苏烈\n",
    "herodetail/195.shtml\n",
    "\n",
    "http://game.gtimg.cn/images/yxzj/img201606/heroimg/195/195.jpg\n",
    "百里玄策\n",
    "herodetail/196.shtml\n",
    "\n",
    "http://game.gtimg.cn/images/yxzj/img201606/heroimg/196/196.jpg\n",
    "百里守约\n",
    "herodetail/193.shtml\n",
    "```"
   ]
  },
  {
   "cell_type": "markdown",
   "metadata": {
    "run_control": {
     "frozen": false,
     "read_only": false
    }
   },
   "source": [
    "<ul class=\"herolist clearfix\"><li><a href=\"herodetail/194.shtml\" target=\"_blank\"><img src=\"http://game.gtimg.cn/images/yxzj/img201606/heroimg/194/194.jpg\" width=\"91px\" alt=\"苏烈\">苏烈</a></li><li><a href=\"herodetail/195.shtml\" target=\"_blank\"><img src=\"http://game.gtimg.cn/images/yxzj/img201606/heroimg/195/195.jpg\" width=\"91px\" alt=\"百里玄策\">百里玄策</a></li><li><a href=\"herodetail/196.shtml\" target=\"_blank\"><img src=\"http://game.gtimg.cn/images/yxzj/img201606/heroimg/196/196.jpg\" width=\"91px\" alt=\"百里守约\">百里守约</a></li><li><a href=\"herodetail/193.shtml\" target=\"_blank\"><img src=\"http://game.gtimg.cn/images/yxzj/img201606/heroimg/193/193.jpg\" width=\"91px\" alt=\"铠\">铠</a></li></ul>"
   ]
  },
  {
   "cell_type": "code",
   "execution_count": 5,
   "metadata": {},
   "outputs": [],
   "source": [
    "page_hero = '''<ul class=\"herolist clearfix\"><li><a href=\"herodetail/194.shtml\" target=\"_blank\"><img src=\"http://game.gtimg.cn/images/yxzj/img201606/heroimg/194/194.jpg\" width=\"91px\" alt=\"苏烈\">苏烈</a></li><li><a href=\"herodetail/195.shtml\" target=\"_blank\"><img src=\"http://game.gtimg.cn/images/yxzj/img201606/heroimg/195/195.jpg\" width=\"91px\" alt=\"百里玄策\">百里玄策</a></li><li><a href=\"herodetail/196.shtml\" target=\"_blank\"><img src=\"http://game.gtimg.cn/images/yxzj/img201606/heroimg/196/196.jpg\" width=\"91px\" alt=\"百里守约\">百里守约</a></li><li><a href=\"herodetail/193.shtml\" target=\"_blank\"><img src=\"http://game.gtimg.cn/images/yxzj/img201606/heroimg/193/193.jpg\" width=\"91px\" alt=\"铠\">铠</a></li></ul>\n",
    "'''"
   ]
  },
  {
   "cell_type": "code",
   "execution_count": 12,
   "metadata": {},
   "outputs": [
    {
     "name": "stdout",
     "output_type": "stream",
     "text": [
      "173\n",
      "175\n",
      "苏烈\n"
     ]
    }
   ],
   "source": [
    "## Your Code\n",
    "\n",
    "\n",
    "start = page_hero.find('alt=\"') + len('src=\"')\n",
    "print(start)\n",
    "end = page_hero.find('\"',start)\n",
    "print(end)\n",
    "print(page_hero[start:end])\n",
    "\n"
   ]
  },
  {
   "cell_type": "code",
   "execution_count": 28,
   "metadata": {},
   "outputs": [
    {
     "name": "stdout",
     "output_type": "stream",
     "text": [
      "0\n",
      "hero=  苏烈  num=  175\n",
      "175\n",
      "hero=  百里玄策  num=  335\n",
      "335\n",
      "hero=  百里守约  num=  497\n",
      "497\n",
      "hero=  铠  num=  656\n",
      "656\n",
      "hero=  class=  num=  10\n"
     ]
    }
   ],
   "source": [
    "def findByAtt(text, start, end):\n",
    "    head = text.find(start) + len(start)\n",
    "    tail = text.find(end, head)\n",
    "    result = text[head:tail]\n",
    "#     print(\"head=\",head, \"tail=\",tail, \" len=\",len(text))\n",
    "    return result,tail\n",
    "\n",
    "def findByAtt2(text, s, s_flag, e_flag):\n",
    "    print((s))\n",
    "    head = text.find(s_flag, s) + len(s_flag)\n",
    "    tail = text.find(e_flag, head)\n",
    "    result = text[head:tail]\n",
    "    return (result,tail)\n",
    "    \n",
    "# print (findByAtt(page_hero, 'alt=\"','\"'))\n",
    "\n",
    "hero,num = findByAtt2(page_hero, 0, 'alt=\"', '\"')\n",
    "print(\"hero= \",hero,\" num= \",num)\n",
    "hero,num = findByAtt2(page_hero, num, 'alt=\"', '\"')\n",
    "print(\"hero= \",hero,\" num= \",num)\n",
    "hero,num = findByAtt2(page_hero, num, 'alt=\"', '\"')\n",
    "print(\"hero= \",hero,\" num= \",num)\n",
    "hero,num = findByAtt2(page_hero, num, 'alt=\"', '\"')\n",
    "print(\"hero= \",hero,\" num= \",num)\n",
    "hero,num = findByAtt2(page_hero, num, 'alt=\"', '\"')\n",
    "print(\"hero= \",hero,\" num= \",num)\n",
    "# head = 0\n",
    "# tail = 0\n",
    "# text = page_hero\n",
    "# while (head < len(text)):\n",
    "#     head = text.find('alt=\"', head) + len('alt=\"')\n",
    "#     tail = text.find('\"', head)\n",
    "#     result = text[head:tail]\n",
    "#     print(\"head=\",head, \"tail=\",tail, \" len=\",len(text), \"result\", result)"
   ]
  },
  {
   "cell_type": "code",
   "execution_count": 48,
   "metadata": {},
   "outputs": [
    {
     "name": "stdout",
     "output_type": "stream",
     "text": [
      "['alt=\"苏烈\">苏烈</a></li><li><a href=\"herodetail/195.shtml\" target=\"_blank\"><img src=\"http://game.gtimg.cn/images/yxzj/img201606/heroimg/195/195.jpg\" width=\"91px\" alt=\"百里玄策\">百里玄策</a></li><li><a href=\"herodetail/196.shtml\" target=\"_blank\"><img src=\"http://game.gtimg.cn/images/yxzj/img201606/heroimg/196/196.jpg\" width=\"91px\" alt=\"百里守约\">百里守约</a></li><li><a href=\"herodetail/193.shtml\" target=\"_blank\"><img src=\"http://game.gtimg.cn/images/yxzj/img201606/heroimg/193/193.jpg\" width=\"91px\" alt=\"铠\"']\n",
      "--------------\n",
      "['<img src=\"http://game.gtimg.cn/images/yxzj/img201606/heroimg/194/194.jpg\" width=\"91px\" alt=\"苏烈\">苏烈</a></li><li><a href=\"herodetail/195.shtml\" target=\"_blank\"><img src=\"http://game.gtimg.cn/images/yxzj/img201606/heroimg/195/195.jpg\" width=\"91px\" alt=\"百里玄策\">百里玄策</a></li><li><a href=\"herodetail/196.shtml\" target=\"_blank\"><img src=\"http://game.gtimg.cn/images/yxzj/img201606/heroimg/196/196.jpg\" width=\"91px\" alt=\"百里守约\">百里守约</a></li><li><a href=\"herodetail/193.shtml\" target=\"_blank\"><img src=\"http://game.gtimg.cn/images/yxzj/img201606/heroimg/193/193.jpg\" width=\"91px\" alt=\"铠\">']\n",
      "['http://game.gtimg.cn/images/yxzj/img201606/heroimg/194/194.jpg\" width=\"91px\" alt=\"苏烈\">苏烈</a></li><li><a href=\"herodetail/195.shtml\" target=\"_blank\"><img src=\"http://game.gtimg.cn/images/yxzj/img201606/heroimg/195/195.jpg\" width=\"91px\" alt=\"百里玄策\">百里玄策</a></li><li><a href=\"herodetail/196.shtml\" target=\"_blank\"><img src=\"http://game.gtimg.cn/images/yxzj/img201606/heroimg/196/196.jpg\" width=\"91px\" alt=\"百里守约\">百里守约</a></li><li><a href=\"herodetail/193.shtml\" target=\"_blank\"><img src=\"http://game.gtimg.cn/images/yxzj/img201606/heroimg/193/193.jpg']\n"
     ]
    }
   ],
   "source": [
    "import re\n",
    "\n",
    "hero_text = re.findall('alt=\".*\"',page_hero)\n",
    "print(hero_text)\n",
    "\n",
    "print('--------------')\n",
    "hero_text = re.findall('<img .* alt=\".*\">',page_hero)\n",
    "    \n",
    "print(hero_text)\n",
    "\n",
    "\n"
   ]
  },
  {
   "cell_type": "code",
   "execution_count": 73,
   "metadata": {},
   "outputs": [
    {
     "name": "stdout",
     "output_type": "stream",
     "text": [
      "['target=\"_blank\"', 'target=\"_blank\"', 'target=\"_blank\"', 'target=\"_blank\"']\n",
      "['width=\"91px\"', 'width=\"91px\"', 'width=\"91px\"', 'width=\"91px\"']\n",
      "['class=\"herolist clearfix\"']\n",
      "[('class=\"herolist clearfix\"', '', ''), ('', 'target=\"_blank\"', ''), ('', '', 'width=\"91px\"'), ('', 'target=\"_blank\"', ''), ('', '', 'width=\"91px\"'), ('', 'target=\"_blank\"', ''), ('', '', 'width=\"91px\"'), ('', 'target=\"_blank\"', ''), ('', '', 'width=\"91px\"')]\n",
      "<ul ><li><a href=\"herodetail/194.shtml\" ><img src=\"http://game.gtimg.cn/images/yxzj/img201606/heroimg/194/194.jpg\"  alt=\"苏烈\">苏烈</a></li><li><a href=\"herodetail/195.shtml\" ><img src=\"http://game.gtimg.cn/images/yxzj/img201606/heroimg/195/195.jpg\"  alt=\"百里玄策\">百里玄策</a></li><li><a href=\"herodetail/196.shtml\" ><img src=\"http://game.gtimg.cn/images/yxzj/img201606/heroimg/196/196.jpg\"  alt=\"百里守约\">百里守约</a></li><li><a href=\"herodetail/193.shtml\" ><img src=\"http://game.gtimg.cn/images/yxzj/img201606/heroimg/193/193.jpg\"  alt=\"铠\">铠</a></li></ul>\n",
      "\n",
      "[]\n",
      "[]\n"
     ]
    }
   ],
   "source": [
    "pattern = '<[a-zA-Z]+.*?>([\\s\\S]*?)</[a-zA-Z]*?>'\n",
    "\n",
    "cla = 'class=\"[\\w\\s]*\"'\n",
    "ret = 'target=\"[_a-zA-Z]*\"'\n",
    "wid = 'width=\"[0-9a-zA-Z]*\"'\n",
    "\n",
    "rep = '(class=\"[\\w\\s]*?\")|(target=\"[_a-zA-Z]*?\")|(width=\"[0-9a-zA-Z]*?\")'\n",
    "\n",
    "print(re.findall(ret, page_hero))\n",
    "print(re.findall(wid, page_hero))\n",
    "print(re.findall(cla, page_hero))\n",
    "\n",
    "print(re.findall(rep, page_hero))\n",
    "\n",
    "text = re.sub(ret, '', page_hero, 0)\n",
    "text = re.sub(wid, '', text, 0)\n",
    "text = re.sub(cla, '', text, 0)\n",
    "print(text)\n",
    "\n",
    "print(re.findall(ret, text))\n",
    "print(re.findall(wid, text))\n",
    "\n"
   ]
  },
  {
   "cell_type": "code",
   "execution_count": null,
   "metadata": {},
   "outputs": [],
   "source": []
  },
  {
   "cell_type": "code",
   "execution_count": null,
   "metadata": {},
   "outputs": [],
   "source": []
  },
  {
   "cell_type": "code",
   "execution_count": null,
   "metadata": {},
   "outputs": [],
   "source": []
  }
 ],
 "metadata": {
  "kernelspec": {
   "display_name": "Python 3",
   "language": "python",
   "name": "python3"
  },
  "language_info": {
   "codemirror_mode": {
    "name": "ipython",
    "version": 3
   },
   "file_extension": ".py",
   "mimetype": "text/x-python",
   "name": "python",
   "nbconvert_exporter": "python",
   "pygments_lexer": "ipython3",
   "version": "3.6.9"
  }
 },
 "nbformat": 4,
 "nbformat_minor": 4
}
