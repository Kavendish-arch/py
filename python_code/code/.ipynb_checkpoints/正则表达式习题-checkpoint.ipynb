{
 "cells": [
  {
   "cell_type": "markdown",
   "metadata": {},
   "source": [
    "### 初级练习\n",
    "1、求非负整数 : ^\\d+$\n",
    "\n",
    "2、匹配正整数： ^[1-9]*[1-9][0-9]*$ 在网上也有这种写法的 ^[0-9]*[1-9][0-9]*$\n",
    "\n",
    "3、非正整数：^(-\\d+|(0+))$\n",
    "\n",
    "4、负整数：^-[0-9]*[1-9][0-9]*$  \n",
    "\n",
    "5、整数 ：^-?\\d+$\n",
    "\n",
    "6、非负浮点数 ：^\\d+(\\.\\d+)?$\n",
    "\n",
    "7、正浮点数 ：^(([0-9]+\\.[0-9]*[1-9][0-9]*)|([0-9]*[1-9][0-9]*\\.[0-9]+)|([0-9]*[1-9][0-9]*))$\n",
    "\n",
    "8、非正浮点数 ：^((-\\d+(\\.\\d+)?)|(0+(\\.0+)?))$\n",
    "\n",
    "9、负浮点数：^(-(([0-9]+\\.[0-9]*[1-9][0-9]*)|([0-9]*[1-9][0-9]*\\.[0-9]+)|([0-9]*[1-9][0-9]*)))$\n",
    "\n",
    "10、浮点数：^(-?\\d+)(\\.\\d+)?$\n",
    "\n",
    "11、有数字、26个英文字母组成的字符串：^[A-Za-z0-9]+$"
   ]
  },
  {
   "cell_type": "code",
   "execution_count": null,
   "metadata": {},
   "outputs": [],
   "source": []
  },
  {
   "cell_type": "code",
   "execution_count": null,
   "metadata": {},
   "outputs": [],
   "source": []
  },
  {
   "cell_type": "code",
   "execution_count": 10,
   "metadata": {},
   "outputs": [],
   "source": [
    "page_hero = '''<ul class=\"herolist clearfix\"><li><a href=\"herodetail/1-94.shtml\" target=\"_blank\"><img src=\"http://game.gtimg.cn/images/yxzj/img201606/heroimg/194/194.jpg\" width=\"91px\" alt=\"苏烈\">苏烈</a></li><li><a href=\"herodetail/195.shtml\" target=\"_blank\"><img src=\"http://game.gtimg.cn/images/yxzj/img201606/heroimg/195/195.jpg\" width=\"91px\" alt=\"百里玄策\">百里玄策</a></li><li><a href=\"herodetail/196.shtml\" target=\"_blank\"><img src=\"http://game.gtimg.cn/images/yxzj/img201606/heroimg/196/196.jpg\" width=\"91px\" alt=\"百里守约\">百里守约</a></li><li><a href=\"herodetail/193.shtml\" target=\"_blank\"><img src=\"http://game.gtimg.cn/images/yxzj/img201606/heroimg/193/193.jpg\" width=\"91px\" alt=\"铠\">铠</a></li></ul>\n",
    "'''"
   ]
  },
  {
   "cell_type": "code",
   "execution_count": 37,
   "metadata": {},
   "outputs": [
    {
     "name": "stdout",
     "output_type": "stream",
     "text": [
      "['194', '20160', '194', '194', '91', '195', '20160', '195', '195', '91', '196', '20160', '196', '196', '91', '193', '20160', '193', '193', '91']\n",
      "[('4', '5')]\n",
      "['-4.5']\n"
     ]
    }
   ],
   "source": [
    "# 求非负整数\n",
    "import re\n",
    "str = '-4.5,sd-45s.34s 4.5s-34'\n",
    "\n",
    "# 匹配位数\n",
    "reg_exp1 = '[1-9][0-9]{1,4}'\n",
    "\n",
    "print(re.findall(reg_exp1, page_hero))\n",
    "\n",
    "reg_exp2 = '-([\\d]+)\\.([\\d])+'\n",
    "\n",
    "print(re.findall(reg_exp2, str))\n",
    "\n",
    "reg_exp2 = '-\\d+\\.\\d+'\n",
    "print(re.findall(reg_exp2, str))\n"
   ]
  },
  {
   "cell_type": "code",
   "execution_count": 39,
   "metadata": {},
   "outputs": [
    {
     "name": "stdout",
     "output_type": "stream",
     "text": [
      "['-45']\n"
     ]
    }
   ],
   "source": [
    "regExp = '[\\d]{4,4}([-\\s]?[\\d]{1,2}){2,2}'\n",
    "str = '2345-12-45'\n",
    "print (re.findall(regExp, str))"
   ]
  },
  {
   "cell_type": "code",
   "execution_count": null,
   "metadata": {},
   "outputs": [],
   "source": []
  },
  {
   "cell_type": "code",
   "execution_count": null,
   "metadata": {},
   "outputs": [],
   "source": []
  }
 ],
 "metadata": {
  "kernelspec": {
   "display_name": "Python 3",
   "language": "python",
   "name": "python3"
  },
  "language_info": {
   "codemirror_mode": {
    "name": "ipython",
    "version": 3
   },
   "file_extension": ".py",
   "mimetype": "text/x-python",
   "name": "python",
   "nbconvert_exporter": "python",
   "pygments_lexer": "ipython3",
   "version": "3.6.9"
  }
 },
 "nbformat": 4,
 "nbformat_minor": 2
}
