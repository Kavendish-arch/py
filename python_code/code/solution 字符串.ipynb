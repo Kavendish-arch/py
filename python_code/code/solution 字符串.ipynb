{
 "cells": [
  {
   "cell_type": "markdown",
   "metadata": {
    "run_control": {
     "frozen": false,
     "read_only": false
    }
   },
   "source": [
    "## 字符串 练习"
   ]
  },
  {
   "cell_type": "markdown",
   "metadata": {
    "run_control": {
     "frozen": false,
     "read_only": false
    }
   },
   "source": [
    "### 以下程序哪里错误了, 并给出修改意见\n"
   ]
  },
  {
   "cell_type": "code",
   "execution_count": 1,
   "metadata": {
    "run_control": {
     "frozen": false,
     "read_only": false
    }
   },
   "outputs": [
    {
     "name": "stdout",
     "output_type": "stream",
     "text": [
      "Hello World!\n"
     ]
    }
   ],
   "source": [
    "print(\"Hello\", \"World!\")"
   ]
  },
  {
   "cell_type": "code",
   "execution_count": 2,
   "metadata": {
    "run_control": {
     "frozen": false,
     "read_only": false
    }
   },
   "outputs": [
    {
     "name": "stdout",
     "output_type": "stream",
     "text": [
      "Hello World!\n"
     ]
    }
   ],
   "source": [
    "print(\"Hello\", \"World!\")"
   ]
  },
  {
   "cell_type": "code",
   "execution_count": 3,
   "metadata": {
    "run_control": {
     "frozen": false,
     "read_only": false
    }
   },
   "outputs": [
    {
     "name": "stdout",
     "output_type": "stream",
     "text": [
      "0.5\n"
     ]
    }
   ],
   "source": [
    "# by 0\n",
    "print(1 / 2)"
   ]
  },
  {
   "cell_type": "code",
   "execution_count": 4,
   "metadata": {
    "run_control": {
     "frozen": false,
     "read_only": false
    }
   },
   "outputs": [
    {
     "name": "stdout",
     "output_type": "stream",
     "text": [
      "abcdefghijklmnopqrstuvwxyz\n"
     ]
    }
   ],
   "source": [
    "print('abcdefghijklmnopqrstuvwxyz') "
   ]
  },
  {
   "cell_type": "code",
   "execution_count": 8,
   "metadata": {
    "run_control": {
     "frozen": false,
     "read_only": false
    },
    "scrolled": true
   },
   "outputs": [
    {
     "data": {
      "text/plain": [
       "'bcdefghij'"
      ]
     },
     "execution_count": 8,
     "metadata": {},
     "output_type": "execute_result"
    }
   ],
   "source": [
    "\"abcdefghijklmnopqrstuvwxyz\"[1::10]\n",
    "# [::] [:] 步长"
   ]
  },
  {
   "cell_type": "code",
   "execution_count": null,
   "metadata": {
    "run_control": {
     "frozen": false,
     "read_only": false
    }
   },
   "outputs": [],
   "source": []
  },
  {
   "cell_type": "markdown",
   "metadata": {
    "run_control": {
     "frozen": false,
     "read_only": false
    }
   },
   "source": [
    "### 判断输出结果\n"
   ]
  },
  {
   "cell_type": "code",
   "execution_count": 9,
   "metadata": {
    "run_control": {
     "frozen": false,
     "read_only": false
    }
   },
   "outputs": [
    {
     "name": "stdout",
     "output_type": "stream",
     "text": [
      "Hello World !\n",
      "HelloWorld!\n"
     ]
    }
   ],
   "source": [
    "print(\"Hello\", \"World\", \"!\")\n",
    "print(\"Hello\"+\"World\"+\"!\")"
   ]
  },
  {
   "cell_type": "code",
   "execution_count": 10,
   "metadata": {
    "run_control": {
     "frozen": false,
     "read_only": false
    }
   },
   "outputs": [
    {
     "name": "stdout",
     "output_type": "stream",
     "text": [
      ">_< >_< >_< >_< >_< \n"
     ]
    }
   ],
   "source": [
    "# 字符 * 5 复制五遍\n",
    "print('>_< ' * 5)  # >_< >_< >_< >_< >_<"
   ]
  },
  {
   "cell_type": "code",
   "execution_count": null,
   "metadata": {
    "run_control": {
     "frozen": false,
     "read_only": false
    }
   },
   "outputs": [],
   "source": [
    "# 打印长度\n",
    "print(len('abcdefghijklmnopqrstuvwxyz'))  # 26"
   ]
  },
  {
   "cell_type": "code",
   "execution_count": 11,
   "metadata": {
    "run_control": {
     "frozen": false,
     "read_only": false
    }
   },
   "outputs": [
    {
     "name": "stdout",
     "output_type": "stream",
     "text": [
      "1267650600228229401496703205376\n",
      "31\n"
     ]
    }
   ],
   "source": [
    "# 乘方\n",
    "s = str(2 ** 100)\n",
    "print(s)  # 1267650600228229401496703205376\n",
    "print(len(s))  # 31"
   ]
  },
  {
   "cell_type": "code",
   "execution_count": 14,
   "metadata": {
    "run_control": {
     "frozen": false,
     "read_only": false
    }
   },
   "outputs": [
    {
     "ename": "SyntaxError",
     "evalue": "invalid syntax (<ipython-input-14-01e9626f49fa>, line 3)",
     "output_type": "error",
     "traceback": [
      "\u001b[1;36m  File \u001b[1;32m\"<ipython-input-14-01e9626f49fa>\"\u001b[1;36m, line \u001b[1;32m3\u001b[0m\n\u001b[1;33m    print \"To enter \\\" and \\' in a string, you need the \\\\(escape symbol). Python will treat any symbol after the \\\\ as a special english text, not it's original meaning. \"\u001b[0m\n\u001b[1;37m                                                                                                                                                                           ^\u001b[0m\n\u001b[1;31mSyntaxError\u001b[0m\u001b[1;31m:\u001b[0m invalid syntax\n"
     ]
    }
   ],
   "source": [
    "### String Manipulations ###\n",
    "# print \"1st\\n2nd\\n3rd\"\n",
    "print \"To enter \\\" and \\' in a string, you need the \\\\(escape symbol). Python will treat any symbol after the \\\\ as a special english text, not it's original meaning. \"\n",
    "print \"Some other example would be: \\\\t, \\\\r, etc. Google escape symbol for more information.\"\n",
    "print \"Use the + sign to concatenate strings: \" + \"like this.\"\n",
    "# print \"You should not add a string and a number:\", \"a\" + 1 # uncomment this to try it yourself\n",
    "print \"you could use the %s, %d and %r symbol to insert numbers into a string.\"\n",
    "print \"For example: 1 + 1 = %d.\" % (1 + 1)\n",
    "print \"For example: 1 + %d = %d.\" % (10, 11)\n",
    "print \"For %s: 2 + %d = %d.\" % (\"example\", 3, 5)\n",
    "# There are some slight difference between %s, %d and %r.\n",
    "# At current stage, you could treat then the same."
   ]
  },
  {
   "cell_type": "code",
   "execution_count": 13,
   "metadata": {
    "run_control": {
     "frozen": false,
     "read_only": false
    }
   },
   "outputs": [
    {
     "name": "stdout",
     "output_type": "stream",
     "text": [
      "b\n",
      "g\n",
      "bc\n",
      "bcdef\n",
      "abc\n",
      "cdefg\n",
      "abcdef\n",
      "aceg\n",
      "bdf\n",
      "gfedcba\n"
     ]
    }
   ],
   "source": [
    "# 切片 \n",
    "s = 'abcdefg'\n",
    "print(s[1])\n",
    "print(s[-1])\n",
    "print(s[1:3])\n",
    "print(s[1:-1])\n",
    "print(s[:3])\n",
    "print(s[2:])\n",
    "print(s[:-1])\n",
    "print(s[::2])\n",
    "print(s[1::2])\n",
    "print(s[::-1])"
   ]
  },
  {
   "cell_type": "code",
   "execution_count": 15,
   "metadata": {
    "run_control": {
     "frozen": false,
     "read_only": false
    }
   },
   "outputs": [
    {
     "name": "stdout",
     "output_type": "stream",
     "text": [
      "1\n",
      "2\n",
      "-1\n"
     ]
    }
   ],
   "source": [
    "# 查找函数\n",
    "s = 'Hello'\n",
    "print(s.find('e'))\n",
    "# 1\n",
    "print(s.find('ll'))\n",
    "# 2\n",
    "print(s.find('L'))\n",
    "# -1"
   ]
  },
  {
   "cell_type": "code",
   "execution_count": 16,
   "metadata": {
    "run_control": {
     "frozen": false,
     "read_only": false
    }
   },
   "outputs": [
    {
     "name": "stdout",
     "output_type": "stream",
     "text": [
      "1\n",
      "8\n"
     ]
    }
   ],
   "source": [
    "\n",
    "s = 'abracadabra'\n",
    "print(s.find('b'))\n",
    "# 1\n",
    "print(s.rfind('b'))\n",
    "# 8"
   ]
  },
  {
   "cell_type": "code",
   "execution_count": 17,
   "metadata": {
    "run_control": {
     "frozen": false,
     "read_only": false
    }
   },
   "outputs": [
    {
     "name": "stdout",
     "output_type": "stream",
     "text": [
      "4\n",
      "5\n"
     ]
    }
   ],
   "source": [
    "# 统计字符长度\n",
    "print('Abracadabra'.count('a'))\n",
    "# 4\n",
    "print(('aaaaaaaaaa').count('aa'))\n",
    "# 5"
   ]
  },
  {
   "cell_type": "code",
   "execution_count": 18,
   "metadata": {
    "run_control": {
     "frozen": false,
     "read_only": false
    }
   },
   "outputs": [
    {
     "name": "stdout",
     "output_type": "stream",
     "text": [
      "carpool_capacity: 400.0, available_seat: 310.0.\n",
      "Now there are 20 passengers out there.\n",
      "carpool_capacity: 400.0, available_seat: 310.0.\n"
     ]
    }
   ],
   "source": [
    "### Syntax for assigning values to a variable ###\n",
    "cars = 100            # put 100 in the integer memory, tag it as \"cars\"\n",
    "space_in_a_car = 4.0  # put 4.0 in the float memory, tag it as \"space_in_a_car\"\n",
    "passengers = 90  # put 90 in the float memory, tag it as \"passengers\"\n",
    "carpool_capacity = cars * space_in_a_car\n",
    "available_seat = carpool_capacity - passengers\n",
    "print(\"carpool_capacity: %s, available_seat: %s.\" % (carpool_capacity, available_seat))\n",
    "passengers = 20\n",
    "print(\"Now there are %s passengers out there.\" % passengers)\n",
    "print(\"carpool_capacity: %s, available_seat: %s.\" % (carpool_capacity, available_seat))"
   ]
  },
  {
   "cell_type": "markdown",
   "metadata": {
    "run_control": {
     "frozen": false,
     "read_only": false
    }
   },
   "source": [
    "### 动手编程"
   ]
  },
  {
   "cell_type": "markdown",
   "metadata": {
    "run_control": {
     "frozen": false,
     "read_only": false
    }
   },
   "source": [
    "<a id='star_matrix'></a>\n",
    "How about a matrix of stars? (10 by 4) How to print the \"*\" and \"\\n\"?\n",
    ">```\n",
    "* * * * * * * * * *\n",
    "* * * * * * * * * *\n",
    "* * * * * * * * * *\n",
    "* * * * * * * * * *\n",
    "```\n",
    "\n",
    "><code style=\"color: #ffffff\">\n",
    "for i in range(4): # change number 4 to other values\n",
    "    for j in range(10): # change number 10 to other values\n",
    "        print \"*\", \n",
    "    print \"\\n\", # every time after you print 10 stars, you need to print a new line\n",
    "</code>"
   ]
  },
  {
   "cell_type": "code",
   "execution_count": 19,
   "metadata": {
    "run_control": {
     "frozen": false,
     "read_only": false
    }
   },
   "outputs": [
    {
     "name": "stdout",
     "output_type": "stream",
     "text": [
      "* * * * * * * * * *\n",
      "* * * * * * * * * *\n",
      "* * * * * * * * * *\n",
      "* * * * * * * * * *\n"
     ]
    }
   ],
   "source": [
    "print(\"* * * * * * * * * *\")\n",
    "print(\"* * * * * * * * * *\")\n",
    "print(\"* * * * * * * * * *\")\n",
    "print(\"* * * * * * * * * *\")"
   ]
  },
  {
   "cell_type": "code",
   "execution_count": 6,
   "metadata": {},
   "outputs": [
    {
     "name": "stdout",
     "output_type": "stream",
     "text": [
      "*******************\n",
      "\n",
      "*******************\n",
      "\n",
      "*******************\n",
      "\n",
      "*******************\n",
      "\n"
     ]
    }
   ],
   "source": [
    "for i in range(4):\n",
    "    for j in range(19):\n",
    "        print (\"*\", end='')\n",
    "    print('\\n')"
   ]
  },
  {
   "cell_type": "markdown",
   "metadata": {
    "run_control": {
     "frozen": false,
     "read_only": false
    }
   },
   "source": [
    "What about something like this? How many for loops do you need? 1, 2 or 3? How will they nested with each other?\n",
    ">```\n",
    "* * * * * o\n",
    "* * * * o o\n",
    "* * * o o o\n",
    "* * o o o o\n",
    "* o o o o o\n",
    "```"
   ]
  },
  {
   "cell_type": "markdown",
   "metadata": {
    "run_control": {
     "frozen": false,
     "read_only": false
    }
   },
   "source": [
    "把你的 名字，年龄，性别，和你想学python的原因打印出来，请合理利用variable\n",
    "\n",
    "输出结果:\n",
    "\n",
    ">  Name: Joshua<br/>\n",
    ">  Age: 25<br/>\n",
    ">  Reason:<br/>\n",
    ">  1. ...<br/>\n",
    ">  2. ...<br/>\n",
    ">  ...<br/>"
   ]
  },
  {
   "cell_type": "code",
   "execution_count": null,
   "metadata": {
    "collapsed": true,
    "jupyter": {
     "outputs_hidden": true
    },
    "run_control": {
     "frozen": false,
     "read_only": false
    }
   },
   "outputs": [],
   "source": []
  },
  {
   "cell_type": "markdown",
   "metadata": {
    "run_control": {
     "frozen": false,
     "read_only": false
    }
   },
   "source": [
    "输入你的名字，让机器给你打招呼<br/>\n",
    "例如：<br/>\n",
    "输入:Joshua <br/>\n",
    "输出:\"Hello Joshua!\" <br/>\n",
    "\n"
   ]
  },
  {
   "cell_type": "code",
   "execution_count": 3,
   "metadata": {
    "run_control": {
     "frozen": false,
     "read_only": false
    }
   },
   "outputs": [
    {
     "name": "stdout",
     "output_type": "stream",
     "text": [
      "please input your name here :joshua\n",
      "hello joshua\n"
     ]
    }
   ],
   "source": [
    "name = input(\"please input your name here :\")\n",
    "print(\"Hello\",name)\n"
   ]
  },
  {
   "cell_type": "markdown",
   "metadata": {
    "run_control": {
     "frozen": false,
     "read_only": false
    }
   },
   "source": [
    "有连个字符串 a 和 b, 按照abba的顺序输出<br/>\n",
    "输出 例如\"Hi\" 和 \"Bye\" returns \"HiByeByeHi\"."
   ]
  },
  {
   "cell_type": "code",
   "execution_count": 7,
   "metadata": {
    "run_control": {
     "frozen": false,
     "read_only": false
    }
   },
   "outputs": [
    {
     "name": "stdout",
     "output_type": "stream",
     "text": [
      "HiByeByeHi\n"
     ]
    }
   ],
   "source": [
    "a = \"Hi\"\n",
    "b = \"Bye\"\n",
    "print(a+b*2+a)"
   ]
  },
  {
   "cell_type": "markdown",
   "metadata": {
    "run_control": {
     "frozen": false,
     "read_only": false
    }
   },
   "source": [
    "尝试打印以下文字，限制只使用一行代码:\n",
    "```\n",
    "My name is XXX. Here is what I learned from this course:\n",
    " * If you want to print ' or \", you need to enter \\' or \\\".\n",
    " * If you want to print \\, you need to enter \\\\\\\\.\n",
    " * If you want to enter a new line, you could use \\n.\n",
    " * Some people use / instead of \\ and didn't notice the difference.\n",
    " * There are not a lot of cases to use \\t as a tab, but it's better to know.\n",
    "```\n",
    "**注意**\n",
    "本题目只为了考察大家对于python打印的理解，一般情况下不推荐只使用一个print语句打印这么多行文字\n"
   ]
  },
  {
   "cell_type": "code",
   "execution_count": 7,
   "metadata": {
    "run_control": {
     "frozen": false,
     "read_only": false
    }
   },
   "outputs": [
    {
     "name": "stdout",
     "output_type": "stream",
     "text": [
      "My name is XXX. Here is what I learned from this course: \n",
      "\t * If you want to print ' or \", you need to enter \\' or \\\".\n",
      "\t * If you want to enter a new line, you could use \\n.\n",
      "\t * Some people use / instead of \\ and didn't notice the difference.\n",
      "\t * There are not a lot of cases to use \\t as a tab, but it's better to know.\n"
     ]
    }
   ],
   "source": [
    "print(\"My name is XXX. Here is what I learned from this course: \\n\\t * If you want to print \\' or \\\", you need to enter \\\\\\' or \\\\\\\".\\n\\t * If you want to enter a new line, you could use \\\\n.\\n\\t * Some people use / instead of \\\\ and didn't notice the difference.\\n\\t * There are not a lot of cases to use \\\\t as a tab, but it's better to know.\")"
   ]
  },
  {
   "cell_type": "code",
   "execution_count": null,
   "metadata": {
    "collapsed": true,
    "jupyter": {
     "outputs_hidden": true
    },
    "run_control": {
     "frozen": false,
     "read_only": false
    }
   },
   "outputs": [],
   "source": []
  },
  {
   "cell_type": "markdown",
   "metadata": {
    "run_control": {
     "frozen": false,
     "read_only": false
    }
   },
   "source": [
    "设计一个小费计算器,<br/>\n",
    "结果如下:\n",
    "\n",
    ">欢迎来到美食天地! (按回撤继续)\n",
    "\n",
    ">您的名字是?<br/>\n",
    ">\\>\\>\\> Sam\n",
    "\n",
    ">您好, Sam! 我是一个小费计算器. (按回车继续)<br/>\n",
    "\n",
    ">您这顿费用是多少? (输入一个数字)<br/>\n",
    ">\\>\\>\\> 21\n",
    "\n",
    ">您想给我们多少百分比的小费? (___% 输入一个数字)<br/>\n",
    ">\\>\\>\\> 12\n",
    "\n",
    ">你总共需要支出: 26.67.<br/>\n"
   ]
  },
  {
   "cell_type": "code",
   "execution_count": 11,
   "metadata": {
    "run_control": {
     "frozen": false,
     "read_only": false
    }
   },
   "outputs": [
    {
     "name": "stdout",
     "output_type": "stream",
     "text": [
      "您这顿费用是多少? (输入一个数字)\n",
      ">>> 1\n"
     ]
    }
   ],
   "source": [
    "cost = float(input(\"您这顿费用是多少? (输入一个数字)\\n>>> \"))\n"
   ]
  },
  {
   "cell_type": "code",
   "execution_count": 8,
   "metadata": {
    "run_control": {
     "frozen": false,
     "read_only": false
    },
    "scrolled": true
   },
   "outputs": [
    {
     "name": "stdin",
     "output_type": "stream",
     "text": [
      "欢迎来到美食天地! (按回撤继续) \n"
     ]
    },
    {
     "name": "stdout",
     "output_type": "stream",
     "text": [
      "\n"
     ]
    },
    {
     "name": "stdin",
     "output_type": "stream",
     "text": [
      "您的名字是?\n",
      ">>>  1232\n"
     ]
    },
    {
     "name": "stdout",
     "output_type": "stream",
     "text": [
      "\n"
     ]
    },
    {
     "name": "stdin",
     "output_type": "stream",
     "text": [
      "你好, 1232! 我是一个小费计算器. (按回车继续) 123\n"
     ]
    },
    {
     "name": "stdout",
     "output_type": "stream",
     "text": [
      "\n"
     ]
    },
    {
     "name": "stdin",
     "output_type": "stream",
     "text": [
      "您这顿费用是多少? (输入一个数字)\n",
      ">>>  123\n"
     ]
    },
    {
     "name": "stdout",
     "output_type": "stream",
     "text": [
      "\n"
     ]
    },
    {
     "name": "stdin",
     "output_type": "stream",
     "text": [
      "您想给我们多少百分比的小费? (___% 输入一个数字)\n",
      ">>>  12\n"
     ]
    },
    {
     "name": "stdout",
     "output_type": "stream",
     "text": [
      "\n",
      "你总共需要支出: 137.76.\n"
     ]
    }
   ],
   "source": [
    "# Answer:\n",
    "input(\"欢迎来到美食天地! (按回撤继续)\")\n",
    "print(\"\")\n",
    "user_name = input(\"您的名字是?\\n>>> \")\n",
    "print(\"\")\n",
    "input(\"你好, %s! 我是一个小费计算器. (按回车继续)\" % user_name)\n",
    "print(\"\")\n",
    "cost = float(input(\"您这顿费用是多少? (输入一个数字)\\n>>> \"))\n",
    "print(\"\")\n",
    "tip_ratio = float(input(\"您想给我们多少百分比的小费? (___% 输入一个数字)\\n>>> \"))/100.\n",
    "print(\"\")\n",
    "print(\"你总共需要支出: %s.\" % str(cost + cost * tip_ratio))"
   ]
  },
  {
   "cell_type": "code",
   "execution_count": null,
   "metadata": {
    "run_control": {
     "frozen": false,
     "read_only": false
    }
   },
   "outputs": [],
   "source": []
  },
  {
   "cell_type": "code",
   "execution_count": null,
   "metadata": {
    "run_control": {
     "frozen": false,
     "read_only": false
    }
   },
   "outputs": [],
   "source": []
  },
  {
   "cell_type": "code",
   "execution_count": null,
   "metadata": {
    "run_control": {
     "frozen": false,
     "read_only": false
    }
   },
   "outputs": [],
   "source": []
  },
  {
   "cell_type": "code",
   "execution_count": null,
   "metadata": {
    "run_control": {
     "frozen": false,
     "read_only": false
    }
   },
   "outputs": [],
   "source": []
  }
 ],
 "metadata": {
  "kernelspec": {
   "display_name": "Python 3",
   "language": "python",
   "name": "python3"
  },
  "language_info": {
   "codemirror_mode": {
    "name": "ipython",
    "version": 3
   },
   "file_extension": ".py",
   "mimetype": "text/x-python",
   "name": "python",
   "nbconvert_exporter": "python",
   "pygments_lexer": "ipython3",
   "version": "3.6.9"
  }
 },
 "nbformat": 4,
 "nbformat_minor": 4
}
