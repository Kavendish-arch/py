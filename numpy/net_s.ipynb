{
 "cells": [
  {
   "cell_type": "code",
   "execution_count": null,
   "metadata": {},
   "outputs": [],
   "source": [
    "# 第一步：使用Python的网络模块，比如 urllib2、httplib、requests等模块，模拟浏览器向服务器发送正常的 http（https）请求。\n",
    "# 第二步：主机使用过滤模块，比如lxml、html.parser、re等模 块，将所需信息从网页代码中过滤出来。 \n",
    "# 在第一步中，为了使Python发送的http（https）请求更像是浏览器 发送的，可以在其中添加header和cookies。\n",
    "# 为了欺骗服务器的反爬虫， 可以采取利用代理或间隔一段时间发送一个请求，以尽可能地避开反爬虫。\n",
    "# 第二步的过滤比较简单，只需要熟悉一下过滤模块的规则就可以 了。\n",
    "# 如果一个模块无法完全过滤有效信息（通常一个模块就足够了）， 可以采取多个模块协作的方式，\n",
    "# 特别是re模块，虽然使用起来比较复杂，但用于过滤非常有效。 \n",
    "# 虽然项目被称为网络爬虫，但实际上如何从服务器上顺利地得到数 据更加重要，\n",
    "# 毕竟今时不同往日了，随便上一个requests模块就能从网 站得到数据的好日子已经一去不复返了。相对于得到数据而言，过滤数 据要简单得多"
   ]
  },
  {
   "cell_type": "code",
   "execution_count": 22,
   "metadata": {},
   "outputs": [],
   "source": [
    "import requests\n",
    "from bs4 import BeautifulSoup"
   ]
  },
  {
   "cell_type": "code",
   "execution_count": 38,
   "metadata": {},
   "outputs": [],
   "source": [
    "def get_link(link_url):\n",
    "    url = 'https://bj.lianjia.com/zufang/'\n",
    "    responses = requests.get(url)\n",
    "    soup = BeautifulSoup(responses.text,'html')\n",
    "    links_div = soup.find_all('div')\n",
    "    links = [div.a.get('href') for div in links_div]\n",
    "    return links"
   ]
  },
  {
   "cell_type": "code",
   "execution_count": 28,
   "metadata": {},
   "outputs": [
    {
     "data": {
      "text/plain": [
       "bs4.BeautifulSoup"
      ]
     },
     "execution_count": 28,
     "metadata": {},
     "output_type": "execute_result"
    }
   ],
   "source": [
    "type(soup)"
   ]
  },
  {
   "cell_type": "code",
   "execution_count": null,
   "metadata": {},
   "outputs": [],
   "source": [
    "url = 'https://bj.lianjia.com/zufang/'\n",
    "responses = requests.get(url)\n",
    "soup = BeautifulSoup(responses.text,'html')\n",
    "links_div = soup.find_all('div')\n",
    "# links = [div.a.get('href') for div in links_div]\n",
    "for div in links_div:\n",
    "    print(div)"
   ]
  },
  {
   "cell_type": "code",
   "execution_count": 31,
   "metadata": {},
   "outputs": [],
   "source": [
    "soup.find_all?\n"
   ]
  },
  {
   "cell_type": "code",
   "execution_count": null,
   "metadata": {},
   "outputs": [],
   "source": []
  },
  {
   "cell_type": "code",
   "execution_count": null,
   "metadata": {},
   "outputs": [],
   "source": []
  }
 ],
 "metadata": {
  "kernelspec": {
   "display_name": "Python 3",
   "language": "python",
   "name": "python3"
  },
  "language_info": {
   "codemirror_mode": {
    "name": "ipython",
    "version": 3
   },
   "file_extension": ".py",
   "mimetype": "text/x-python",
   "name": "python",
   "nbconvert_exporter": "python",
   "pygments_lexer": "ipython3",
   "version": "3.7.4"
  }
 },
 "nbformat": 4,
 "nbformat_minor": 4
}
