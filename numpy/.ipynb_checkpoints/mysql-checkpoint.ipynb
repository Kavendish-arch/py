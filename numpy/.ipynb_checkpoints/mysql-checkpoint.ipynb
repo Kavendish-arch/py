{
 "cells": [
  {
   "cell_type": "code",
   "execution_count": 1,
   "metadata": {},
   "outputs": [],
   "source": [
    "import MySQLdb"
   ]
  },
  {
   "cell_type": "code",
   "execution_count": 5,
   "metadata": {},
   "outputs": [],
   "source": [
    "# 获取数据库连接\n"
   ]
  },
  {
   "cell_type": "code",
   "execution_count": 7,
   "metadata": {},
   "outputs": [],
   "source": [
    "DATABASE = {\n",
    "    'host':'127.0.0.1',\n",
    "    'database':'test',\n",
    "    'user':'root',\n",
    "    'password':'root',\n",
    "    'charset':'utf8mb4'\n",
    "}\n",
    "db = MySQLdb.connect(**DATABASE)"
   ]
  },
  {
   "cell_type": "code",
   "execution_count": null,
   "metadata": {},
   "outputs": [],
   "source": []
  },
  {
   "cell_type": "code",
   "execution_count": null,
   "metadata": {},
   "outputs": [],
   "source": []
  },
  {
   "cell_type": "code",
   "execution_count": null,
   "metadata": {},
   "outputs": [],
   "source": []
  },
  {
   "cell_type": "code",
   "execution_count": 10,
   "metadata": {},
   "outputs": [
    {
     "name": "stdout",
     "output_type": "stream",
     "text": [
      "(2, 'chen', 'dd')\n",
      "(3, 'sdsw', 'ss')\n",
      "(4, 'ssd', '3')\n",
      "(6, 'Jack', 'Jackson')\n",
      "(7, 'Jack', 'Jackson')\n"
     ]
    }
   ],
   "source": [
    "# sql语句\n",
    "sql = \"select * from user limit 5\"\n",
    "#获取游标\n",
    "cursor = db.cursor()\n",
    "cursor.execute(sql)\n",
    "results = cursor.fetchall()\n",
    "for row in results:\n",
    "    print(row)"
   ]
  },
  {
   "cell_type": "code",
   "execution_count": 24,
   "metadata": {},
   "outputs": [
    {
     "name": "stdout",
     "output_type": "stream",
     "text": [
      "(1, 'cheng', 'sdhs')\n",
      "(2, 'chen', 'dd')\n",
      "(3, 'sdsw', 'ss')\n",
      "(4, 'ssd', '3')\n",
      "(6, 'Jack', 'Jackson')\n"
     ]
    }
   ],
   "source": [
    "## 插入\n",
    "sql_one = \"insert into user values(20, 'Hanysb','sdhs');\"\n",
    "sql_two = \"select * from user\"\n",
    "try: \n",
    "    cursor = db.cursor()\n",
    "    cursor.execute(sql_one)\n",
    "    cursor.execute(sql_two)\n",
    "    results = cursor.fetchall()\n",
    "    for row in results:\n",
    "        print(row)\n",
    "    db.commit()\n",
    "    \n",
    "except Exception as e:\n",
    "    print(e)\n",
    "    db.rollback()"
   ]
  },
  {
   "cell_type": "code",
   "execution_count": 15,
   "metadata": {},
   "outputs": [
    {
     "name": "stdout",
     "output_type": "stream",
     "text": [
      "0\n"
     ]
    }
   ],
   "source": [
    "# 删除\n",
    "sql = \"delete from user where id = 19;\"\n",
    "cursor = db.cursor()\n",
    "print(cursor.execute(sql))\n",
    "db.commit()"
   ]
  },
  {
   "cell_type": "code",
   "execution_count": 18,
   "metadata": {},
   "outputs": [],
   "source": [
    "assert 10 != 20, \"怎么可能\""
   ]
  },
  {
   "cell_type": "code",
   "execution_count": 19,
   "metadata": {},
   "outputs": [
    {
     "name": "stdout",
     "output_type": "stream",
     "text": [
      "unsupported operand type(s) for +: 'int' and 'str'\n"
     ]
    }
   ],
   "source": [
    "# 异常捕捉，\n",
    "try:\n",
    "    a = 10\n",
    "    b = a + 'hello'\n",
    "except Exception as e:\n",
    "    print(e)"
   ]
  },
  {
   "cell_type": "code",
   "execution_count": null,
   "metadata": {},
   "outputs": [],
   "source": []
  },
  {
   "cell_type": "code",
   "execution_count": null,
   "metadata": {},
   "outputs": [],
   "source": []
  }
 ],
 "metadata": {
  "kernelspec": {
   "display_name": "Python 3",
   "language": "python",
   "name": "python3"
  },
  "language_info": {
   "codemirror_mode": {
    "name": "ipython",
    "version": 3
   },
   "file_extension": ".py",
   "mimetype": "text/x-python",
   "name": "python",
   "nbconvert_exporter": "python",
   "pygments_lexer": "ipython3",
   "version": "3.6.9"
  }
 },
 "nbformat": 4,
 "nbformat_minor": 4
}
