{
 "cells": [
  {
   "cell_type": "code",
   "execution_count": null,
   "metadata": {},
   "outputs": [],
   "source": [
    "# coding=utf-8\n",
    "import json\n",
    "import requests\n",
    "from retrying import retry\n",
    "\n",
    "'''\n",
    "专门请求url地址的方法\n",
    "'''\n",
    "\n",
    "# headers = {\n",
    "#     \"User-Agent\":\"Mozilla/5.0 (Macintosh; Intel Mac OS X 10_13_2) AppleWebKit/537.36 (KHTML, like Gecko) Chrome/63.0.3239.132 Safari/537.36\"}\n",
    "\n",
    "headers = {\n",
    "    \"User-Agent\":\"Mozilla/5.0 (iPhone; CPU iPhone OS 10_3 like Mac OS X) AppleWebKit/602.1.50 (KHTML, like Gecko) CriOS/56.0.2924.75 Mobile/14E5239e Safari/602.1\",\n",
    "    \"Referer\": \"https://m.douban.com/tv/american\"}\n",
    "\n",
    "@retry(stop_max_attempt_number=3)  #让被装饰的函数反复执行三次，三次全部报错才会报错，中间又一次正常，程序继续往后走\n",
    "def _parse_url(url):\n",
    "    print(\"*\"*100)\n",
    "    response = requests.get(url,headers=headers,timeout=5)\n",
    "    return response.content.decode()\n",
    "\n",
    "def parse_url(url):\n",
    "    try:\n",
    "        html_str = _parse_url(url)\n",
    "    except:\n",
    "        html_str = None\n",
    "    return html_str\n",
    "\n",
    "# num = 0\n",
    "# temp_url = \"https://m.douban.com/rexxar/api/v2/subject_collection/filter_tv_american_hot/items?os=ios&for_mobile=1&start={}&count=18&loc_id=108288&_=0\"\n",
    "# url = temp_url.format(num)\n",
    "# print(url)\n",
    "\n",
    "# print(parse_url(url))\n",
    "\n",
    "def get_contentf_list(self,html_str): #提取数据\n",
    "    dict_data = json.loads(html_str)\n",
    "    content_list = dict_data[\"subject_collection_items\"]\n",
    "    total = dict_data[\"total\"]\n",
    "    return content_list,total\n",
    "\n",
    "def save_content_list(self,content_list):\n",
    "    with open(\"douban.json\",\"a\",encoding=\"utf-8\") as f:\n",
    "        for content in content_list:\n",
    "            f.write(json.dumps(content,ensure_ascii=False))\n",
    "            f.write(\"\\n\")\n",
    "    print(\"保存成功\")\n",
    "\n",
    "def run(self): #实现主要逻辑\n",
    "    num = 0\n",
    "    total = 100\n",
    "    while num<total+18:\n",
    "        #1.start_url\n",
    "        url = self.temp_url.format(num)\n",
    "        print(url)\n",
    "        #2.发送请求,获取响应\n",
    "        html_str = parse_url(url)\n",
    "        #3.提取数据\n",
    "        content_list,total = self.get_contentf_list(html_str)\n",
    "        #4.保存\n",
    "        self.save_content_list(content_list)\n",
    "        #5.构造下一页的url地址,循环2-5步\n",
    "        num += 18"
   ]
  },
  {
   "cell_type": "code",
   "execution_count": null,
   "metadata": {},
   "outputs": [],
   "source": [
    "url = 'https://image.baidu.com/search/index?tn=baiduimage&ipn=r&ct=201326592&cl=2&lm=-1&st=-1&fm=result&fr=&sf=1&fmq=1595482055673_R&pv=&ic=&nc=1&z=&hd=&latest=&copyright=&se=1&showtab=0&fb=0&width=&height=&face=0&istype=2&ie=utf-8&ctd=1595482055673%5E00_1519X286&sid=&word=%E6%B1%BD%E8%BD%A6%E4%B9%8B%E5%AE%B6'\n",
    "# 爬取网页\n",
    "html = parse_url(url)\n",
    "\n",
    "# 正则表达式\n",
    "p = '<img src=.*>'\n",
    "p2 = r'src=\"https://.*gif\"'\n",
    "\n",
    "# 匹配结果\n",
    "img_list = re.findall(p2, html)\n",
    "print(img_list)"
   ]
  },
  {
   "cell_type": "code",
   "execution_count": 9,
   "metadata": {},
   "outputs": [
    {
     "name": "stdout",
     "output_type": "stream",
     "text": [
      "不带group()  <_sre.SRE_Match object; span=(2, 4), match='am'>\n",
      "不带group()  am\n",
      "findall  ['mo']\n",
      "finditer  <callable_iterator object at 0x000002263BC2BD30>\n",
      "mo\n"
     ]
    }
   ],
   "source": [
    "import re\n",
    "s = \"I am python modules time\"\n",
    "\n",
    "# ·re.compile(pattern, flags=0)：将字符串形式的正则表达式编译为 Pattern对象。 \n",
    "# ·re.search(string[, pos[, endpos]])：从string的任意位置开始匹配。 \n",
    "# ·re.match(string[, pos[, endpos]])：从string的开头开始匹配。 \n",
    "# ·re.findall(string[, pos[, endpos]])：从string任意位置开始匹配，返回 一个列表。 \n",
    "# ·re.finditer(string[, pos[, endpos]])：从string任意位置开始匹配，返回 一个迭代器。\n",
    "# 一般匹配findall就可以了，大数量的匹配还是使用finditer 比较好\n",
    "\n",
    "print( \"不带group() \" , re.search('am', s))\n",
    "print( \"不带group() \" , re.search('am', s).group())\n",
    "print( \"findall \", re.findall('mo', s))\n",
    "print( \"finditer \", re.finditer('mo', s))\n",
    "for are in re.finditer('mo', s):\n",
    "    print(are.group())"
   ]
  },
  {
   "cell_type": "code",
   "execution_count": 65,
   "metadata": {},
   "outputs": [
    {
     "name": "stdout",
     "output_type": "stream",
     "text": [
      "['src=\"https://m.baidu.com/bdlogo/wisejghx_d2a606dfbfae593eb7949d0a67e52404.gif\" src=\"https://m.baidu.com/bdlogo/wisejghx_d2a606dfbfae593eb7949d0a67e52404.gif\"']\n"
     ]
    }
   ],
   "source": [
    "p = r'<img.*>'\n",
    "p2 = r'src=\"https://.*.gif\"'\n",
    "html1 = '<img src=\"https://m.baidu.com/bdlogo/wisejghx_d2a606dfbfae593eb7949d0a67e52404.gif\" sdsas> <img src=\"ssd\"> <img src=\"sdw\">'\n",
    "html = '<img src=\"https://m.baidu.com/bdlogo/wisejghx_d2a606dfbfae593eb7949d0a67e52404.gif\" sdsas> <img src=\"ssd\"> <img src=\"sdw\"> '\n",
    "html3 = 'src=\"https://m.baidu.com/bdlogo/wisejghx_d2a606dfbfae593eb7949d0a67e52404.gif\" src=\"https://m.baidu.com/bdlogo/wisejghx_d2a606dfbfae593eb7949d0a67e52404.gif\" width=\"163px\" height=\"46px\" onerror=\"this.src=\\'//www.baidu.com/img/flexible/logo/logo_web.png\\';this.style=\\'width:101px;height:31px;padding-top:7px;\\';this.onerror=null;\" alt=\"百度一下,你就知道\"></p></div></div><div class=\"searchboxtop\"><form class=\"se-form\" id=\"se-form\" autocomplete=\"off\" action=\"\" onsubmit=\"javascript:return false;\"><div class=\"fix-wrap\"><div class=\"con-wrap\"><div class=\"se-bearicon tab-icon-image_content\"></div><input autocomplete=\"off\" id=\"kw\" type=\"search\" autocorrect=\"off\" maxlength=\"64\" class=\"se-input\" value=\"汽车之家\" /><div class=\"se-inner\"><div id=\"cross\" class=\"cross\"></div><button id=\"se-bn\" class=\"se-bn\" type=\"submit\"><span>百度一下</span></button></div></div></div></form><div class=\"sug-box-wrap\"><div class=\"vsearch-sug-box\"></div></div></div><div class=\"se-head-tablink\"><div class=\"se-tablink-scroll-wrapper c-scroll-wrapper\"><div class=\"se-tablink-scroll-touch\"><div class=\"se-tab-lists c-flexbox\" style=\"width:292.27053140097%;\" data-w=\"292.27053140097%\"><a class=\"se-tabitem\" href=\"https://m.baidu.com/from=0/bd_page_type=1/ssid=0/uid=0/pu=usm%400%2Csz%401320_2001%2Cta%40qbase_1_10.3_24_56.0/baiduid=4666A0337F15003C409E2A8B2C99787A/s?ref=www_iphone&amp;lid=8478570359297904766&amp;word=%E6%B1%BD%E8%BD%A6%E4%B9%8B%E5%AE%B6&amp;vslid=8478570359297904766&amp;sa=vs_tab&amp;sectab=video\"  data-ct=\"24\" data-cst=\"0\" data-pd=\"\" data-log=\"ps\" data-sugtype=\"bdsug\" data-sugprod=\"\" data-pos=\"0\"><span class=\"se-tab-tx \">全部'\n",
    "img_list = re.findall(p2, html3)\n",
    "print(img_list)"
   ]
  },
  {
   "cell_type": "code",
   "execution_count": null,
   "metadata": {},
   "outputs": [],
   "source": []
  },
  {
   "cell_type": "code",
   "execution_count": null,
   "metadata": {},
   "outputs": [],
   "source": [
    "type(img_list)\n"
   ]
  },
  {
   "cell_type": "code",
   "execution_count": null,
   "metadata": {},
   "outputs": [],
   "source": []
  }
 ],
 "metadata": {
  "kernelspec": {
   "display_name": "Python 3",
   "language": "python",
   "name": "python3"
  },
  "language_info": {
   "codemirror_mode": {
    "name": "ipython",
    "version": 3
   },
   "file_extension": ".py",
   "mimetype": "text/x-python",
   "name": "python",
   "nbconvert_exporter": "python",
   "pygments_lexer": "ipython3",
   "version": "3.6.9"
  }
 },
 "nbformat": 4,
 "nbformat_minor": 4
}
