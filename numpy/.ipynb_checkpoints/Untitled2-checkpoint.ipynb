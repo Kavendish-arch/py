{
 "cells": [
  {
   "cell_type": "code",
   "execution_count": 2,
   "metadata": {},
   "outputs": [
    {
     "ename": "error",
     "evalue": "OpenCV(4.1.1) C:\\projects\\opencv-python\\opencv_contrib\\modules\\xfeatures2d\\src\\sift.cpp:1207: error: (-213:The function/feature is not implemented) This algorithm is patented and is excluded in this configuration; Set OPENCV_ENABLE_NONFREE CMake option and rebuild the library in function 'cv::xfeatures2d::SIFT::create'\n",
     "output_type": "error",
     "traceback": [
      "\u001b[1;31m---------------------------------------------------------------------------\u001b[0m",
      "\u001b[1;31merror\u001b[0m                                     Traceback (most recent call last)",
      "\u001b[1;32m<ipython-input-2-ce0a9af309c9>\u001b[0m in \u001b[0;36m<module>\u001b[1;34m\u001b[0m\n\u001b[0;32m      4\u001b[0m \u001b[0mimg\u001b[0m \u001b[1;33m=\u001b[0m \u001b[0mcv\u001b[0m\u001b[1;33m.\u001b[0m\u001b[0mimread\u001b[0m\u001b[1;33m(\u001b[0m\u001b[1;34m'QR.png'\u001b[0m\u001b[1;33m)\u001b[0m\u001b[1;33m\u001b[0m\u001b[1;33m\u001b[0m\u001b[0m\n\u001b[0;32m      5\u001b[0m \u001b[0mgray\u001b[0m \u001b[1;33m=\u001b[0m \u001b[0mcv\u001b[0m\u001b[1;33m.\u001b[0m\u001b[0mcvtColor\u001b[0m\u001b[1;33m(\u001b[0m\u001b[0mimg\u001b[0m\u001b[1;33m,\u001b[0m\u001b[0mcv\u001b[0m\u001b[1;33m.\u001b[0m\u001b[0mCOLOR_BGR2GRAY\u001b[0m\u001b[1;33m)\u001b[0m\u001b[1;33m\u001b[0m\u001b[1;33m\u001b[0m\u001b[0m\n\u001b[1;32m----> 6\u001b[1;33m \u001b[0msift\u001b[0m \u001b[1;33m=\u001b[0m \u001b[0mcv\u001b[0m\u001b[1;33m.\u001b[0m\u001b[0mxfeatures2d\u001b[0m\u001b[1;33m.\u001b[0m\u001b[0mSIFT_create\u001b[0m\u001b[1;33m(\u001b[0m\u001b[1;33m)\u001b[0m\u001b[1;33m\u001b[0m\u001b[1;33m\u001b[0m\u001b[0m\n\u001b[0m\u001b[0;32m      7\u001b[0m \u001b[0mkp\u001b[0m \u001b[1;33m=\u001b[0m \u001b[0msift\u001b[0m\u001b[1;33m.\u001b[0m\u001b[0mdetect\u001b[0m\u001b[1;33m(\u001b[0m\u001b[0mgray\u001b[0m\u001b[1;33m,\u001b[0m\u001b[1;32mNone\u001b[0m\u001b[1;33m)\u001b[0m\u001b[1;33m\u001b[0m\u001b[1;33m\u001b[0m\u001b[0m\n\u001b[0;32m      8\u001b[0m \u001b[0mimg\u001b[0m\u001b[1;33m=\u001b[0m\u001b[0mcv\u001b[0m\u001b[1;33m.\u001b[0m\u001b[0mdrawKeypoints\u001b[0m\u001b[1;33m(\u001b[0m\u001b[0mgray\u001b[0m\u001b[1;33m,\u001b[0m\u001b[0mkp\u001b[0m\u001b[1;33m,\u001b[0m\u001b[0mimg\u001b[0m\u001b[1;33m)\u001b[0m\u001b[1;33m\u001b[0m\u001b[1;33m\u001b[0m\u001b[0m\n",
      "\u001b[1;31merror\u001b[0m: OpenCV(4.1.1) C:\\projects\\opencv-python\\opencv_contrib\\modules\\xfeatures2d\\src\\sift.cpp:1207: error: (-213:The function/feature is not implemented) This algorithm is patented and is excluded in this configuration; Set OPENCV_ENABLE_NONFREE CMake option and rebuild the library in function 'cv::xfeatures2d::SIFT::create'\n"
     ]
    }
   ],
   "source": [
    "import cv2 as cv\n",
    "\n",
    "import numpy as np\n",
    "img = cv.imread('QR.png')\n",
    "gray = cv.cvtColor(img,cv.COLOR_BGR2GRAY)\n",
    "sift = cv.xfeatures2d.SIFT_create()\n",
    "kp = sift.detect(gray,None)\n",
    "img=cv.drawKeypoints(gray,kp,img)\n",
    "\n",
    "cv.imshow(\"SIFT\", img)\n",
    "cv.imwrite('sift_keypoints.jpg',img)\n",
    "cv.waitKey(0)\n",
    "cv.destroyAllWindows()"
   ]
  },
  {
   "cell_type": "code",
   "execution_count": 9,
   "metadata": {},
   "outputs": [
    {
     "name": "stdout",
     "output_type": "stream",
     "text": [
      "[0, 2, 12, 36, 80, 150, 252, 392, 576, 810]\n",
      "[  0   2  12  36  80 150 252 392 576 810]\n"
     ]
    }
   ],
   "source": [
    "import numpy as np\n",
    "\n",
    "def pyhonsum(n):\n",
    "    a = list(range(n))\n",
    "    b = list(range(n))\n",
    "    c = []\n",
    "\n",
    "    for i in range(len(a)):\n",
    "        a[i] = i ** 2\n",
    "        b[i] = i ** 3\n",
    "        c.append(a[i] + b[i])\n",
    "    return c\n",
    "\n",
    "def numpysum(n):\n",
    "    a = np.arange(n) ** 2\n",
    "    b = np.arange(n) ** 3\n",
    "    c = a + b \n",
    "    return c\n",
    "\n",
    "print(pyhonsum(10))\n",
    "print(numpysum(10))"
   ]
  },
  {
   "cell_type": "code",
   "execution_count": 15,
   "metadata": {},
   "outputs": [
    {
     "name": "stdout",
     "output_type": "stream",
     "text": [
      "0\n",
      "[] python 时间 0\n",
      "[] numpy 时间 0\n",
      "1000\n",
      "[995007996, 998001000] python 时间 1029\n",
      "[995007996 998001000] numpy 时间 0\n",
      "2000\n",
      "[7980015996, 7992002000] python 时间 1963\n",
      "[-609918596 -597932592] numpy 时间 0\n",
      "3000\n",
      "[26955023996, 26982003000] python 时间 2989\n",
      "[1185220220 1212199224] numpy 时间 0\n",
      "4000\n",
      "[63920031996, 63968004000] python 时间 3989\n",
      "[-504477444 -456505440] numpy 时间 0\n",
      "5000\n",
      "[124875039996, 124950005000] python 时间 5018\n",
      "[320988412 395953416] numpy 时间 965\n",
      "6000\n",
      "[215820047996, 215928006000] python 时间 5985\n",
      "[1071683196 1179641200] numpy 时间 0\n",
      "7000\n",
      "[342755055996, 342902007000] python 时间 6981\n",
      "[-842327684 -695376680] numpy 时间 0\n",
      "8000\n",
      "[511680063996, 511872008000] python 时间 7978\n",
      "[578955772 770899776] numpy 时间 0\n",
      "9000\n",
      "[728595071996, 728838009000] python 时间 7978\n",
      "[-1549368324 -1306431320] numpy 时间 0\n"
     ]
    }
   ],
   "source": [
    "# 测试numpy 和 python 代码顺序\n",
    "import sys\n",
    "from datetime import datetime\n",
    "import numpy as np \n",
    "\n",
    "'''\n",
    "\n",
    "'''\n",
    "n = 100000\n",
    "def diff_time(n):\n",
    "    print(n)\n",
    "    start = datetime.now()\n",
    "    c = pyhonsum(n)\n",
    "    end = datetime.now() - start\n",
    "    print(c[-2:], \"python 时间\", end.microseconds)\n",
    "\n",
    "    start = datetime.now()\n",
    "    c = numpysum(n)\n",
    "    end = datetime.now() - start\n",
    "    print(c[-2:], \"numpy 时间\",end.microseconds)\n",
    "for i in range(10):\n",
    "    diff_time(i*1000)"
   ]
  },
  {
   "cell_type": "code",
   "execution_count": null,
   "metadata": {
    "collapsed": true
   },
   "outputs": [],
   "source": [
    "# numpy 基础\n",
    "# 数据类型、数组类型、类型转换、创建数组、数组索引、数组切片、改变维度\n"
   ]
  },
  {
   "cell_type": "code",
   "execution_count": 23,
   "metadata": {},
   "outputs": [
    {
     "data": {
      "text/plain": [
       "array([[0, 1, 2, 3, 4],\n",
       "       [0, 1, 2, 3, 4]])"
      ]
     },
     "execution_count": 23,
     "metadata": {},
     "output_type": "execute_result"
    }
   ],
   "source": [
    "# ndarray 1. 数据 2. 描述数据的元数据\n",
    "# 一维数组\n",
    "a = np.arange(5)\n",
    "a.dtype\n",
    "a.shape\n",
    "# 多维数组 array函数可以依据给定的对象生成数组\n",
    "m = np.array([np.arange(5),np.arange(5)])\n",
    "m\n",
    "# 问题1 ndarray对象的维度属性是以下列哪种方式存储的？\n",
    "# tuple "
   ]
  },
  {
   "cell_type": "code",
   "execution_count": null,
   "metadata": {
    "collapsed": true
   },
   "outputs": [],
   "source": []
  }
 ],
 "metadata": {
  "kernelspec": {
   "display_name": "Python 3",
   "language": "python",
   "name": "python3"
  },
  "language_info": {
   "codemirror_mode": {
    "name": "ipython",
    "version": 3
   },
   "file_extension": ".py",
   "mimetype": "text/x-python",
   "name": "python",
   "nbconvert_exporter": "python",
   "pygments_lexer": "ipython3",
   "version": "3.6.2"
  }
 },
 "nbformat": 4,
 "nbformat_minor": 4
}
