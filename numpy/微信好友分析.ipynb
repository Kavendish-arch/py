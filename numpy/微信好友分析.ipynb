{
 "cells": [
  {
   "cell_type": "markdown",
   "metadata": {},
   "source": [
    "## 文件读取、保存：os\n",
    "## 数据持久化：pickle\n",
    "## 随机数的生成与使用：random\n",
    "## 图像的处理：PIL\n",
    "## 数据可视化：matplotlib、seaborn\n",
    "## 词云、分词：wordcloud、jieba\n",
    "## 多线程：threading\n",
    "## 正则表达式：re"
   ]
  },
  {
   "cell_type": "code",
   "execution_count": null,
   "metadata": {},
   "outputs": [],
   "source": []
  },
  {
   "cell_type": "code",
   "execution_count": null,
   "metadata": {},
   "outputs": [],
   "source": [
    "import itchat #登录微信\n",
    "import pandas as pd \n",
    "import pickle 数据持久化 python对象序列化文本流"
   ]
  },
  {
   "cell_type": "code",
   "execution_count": null,
   "metadata": {},
   "outputs": [],
   "source": [
    "itchat.auto_login(True)\n",
    "friends = itchat.get_friends(update=True)\n",
    "print(\"朋友数\", len(friends))"
   ]
  },
  {
   "cell_type": "code",
   "execution_count": null,
   "metadata": {},
   "outputs": [],
   "source": [
    "import requests\n",
    "import pickle\n",
    "import os\n",
    "\n",
    "### 账号登录失败的替代\n",
    "\n",
    "if os.path.isfile('friends.pickle'):\n",
    "    with open ('friends.pickle', 'rb') as f:\n",
    "        friends = pickle.load(f)\n",
    "else:\n",
    "    url = 'https://yooongchun-blog-v2.oss-cn-beijing.aliyuncs.com/media/friends.pickle'\n",
    "    file_stream = requests.get(url).content\n",
    "    friends = pickle.loads(file_stream)\n",
    "    \n",
    "print('朋友数\\t', len(friends))"
   ]
  },
  {
   "cell_type": "code",
   "execution_count": null,
   "metadata": {},
   "outputs": [],
   "source": [
    "df = pd.DataFrame(friends)\n",
    "df.shape\n",
    "df.columns.tolist()"
   ]
  },
  {
   "cell_type": "code",
   "execution_count": null,
   "metadata": {},
   "outputs": [],
   "source": [
    "df.UserName.tolist()"
   ]
  },
  {
   "cell_type": "code",
   "execution_count": null,
   "metadata": {},
   "outputs": [],
   "source": [
    "# 保存到文件\n",
    "with open ('friends.pickle','wb') as f:\n",
    "    pickle.dump(friends, f)\n"
   ]
  },
  {
   "cell_type": "code",
   "execution_count": 23,
   "metadata": {},
   "outputs": [
    {
     "data": {
      "text/plain": [
       "[]"
      ]
     },
     "execution_count": 23,
     "metadata": {},
     "output_type": "execute_result"
    }
   ],
   "source": [
    "# 列举当前目录下所有文件 路径\n",
    "files = os.listdir('./')\n",
    "files\n",
    "\n",
    "# 加载指定文件\n",
    "fp = open(files[13], encoding='utf-8')\n",
    "text = fp.read()\n",
    "lines = fp.readlines()\n",
    "fp.close()\n",
    "text\n",
    "\n",
    "with open(files[13], 'r', encoding='utf-8') as fp:\n",
    "    text2 = fp.read()\n",
    "    lines2 = fp.readlines()\n",
    "text2\n",
    "lines2\n",
    "\n",
    "# 文件保存\n",
    "with open ('data.txt', 'w', encoding='utf-8') as fp:\n",
    "    fp.write('hello world 文件读写')"
   ]
  },
  {
   "cell_type": "markdown",
   "metadata": {},
   "source": [
    "# pickle 数据持久化\n"
   ]
  },
  {
   "cell_type": "code",
   "execution_count": 27,
   "metadata": {},
   "outputs": [
    {
     "name": "stdout",
     "output_type": "stream",
     "text": [
      "<class 'dict'>\n",
      "{'name': 'hangy', 'age': 12}\n",
      "d2==d： True\n",
      "{'name': 'hangy', 'age': 12}\n"
     ]
    }
   ],
   "source": [
    "d = { \n",
    "        'name':'hangy',\n",
    "        'age':12\n",
    "    }\n",
    "print(type(d))\n",
    "print(d)\n",
    "# 保存\n",
    "with open ('data.dict','wb')as fp:\n",
    "    pickle.dump(d,fp)\n",
    "# 加载\n",
    "with open ('data.dict', 'rb') as fp:\n",
    "    d2 = pickle.load(fp)\n",
    "\n",
    "print('d2==d：', d2==d)\n",
    "print(d2)"
   ]
  },
  {
   "cell_type": "code",
   "execution_count": null,
   "metadata": {},
   "outputs": [],
   "source": [
    "import json\n",
    "\n"
   ]
  },
  {
   "cell_type": "markdown",
   "metadata": {},
   "source": [
    "# 随机数的使用，生成"
   ]
  },
  {
   "cell_type": "code",
   "execution_count": 32,
   "metadata": {},
   "outputs": [
    {
     "name": "stdout",
     "output_type": "stream",
     "text": [
      "12.027409650689918\n",
      "10.737726255345757\n",
      "13.687500818065047\n",
      "13.36590847843306\n",
      "19.189933606543736\n",
      "16.40669470868673\n",
      "16.45902272110213\n",
      "13.85931808640165\n",
      "15.563415226645013\n",
      "11.00515573137091\n"
     ]
    }
   ],
   "source": [
    "import random\n",
    "\n",
    "for x in range(10):\n",
    "    r = random.random()\n",
    "    r = random.randint(1,10)\n",
    "    r = random.uniform(10, 20)\n",
    "    print(r)"
   ]
  },
  {
   "cell_type": "markdown",
   "metadata": {},
   "source": [
    "# 图像处理 \n"
   ]
  },
  {
   "cell_type": "code",
   "execution_count": 41,
   "metadata": {},
   "outputs": [
    {
     "name": "stdout",
     "output_type": "stream",
     "text": [
      "PNG (1005, 793) RGBA\n"
     ]
    }
   ],
   "source": [
    "from PIL import Image\n",
    "img = Image.open('gentle.png')\n",
    "# 打开系统的图片查看器\n",
    "# img.show()\n",
    "print(img.format, img.size, img.mode)\n",
    "# img.save(\"\")\n"
   ]
  },
  {
   "cell_type": "code",
   "execution_count": 47,
   "metadata": {},
   "outputs": [],
   "source": [
    "img.split?"
   ]
  },
  {
   "cell_type": "markdown",
   "metadata": {},
   "source": []
  },
  {
   "cell_type": "code",
   "execution_count": 42,
   "metadata": {},
   "outputs": [
    {
     "ename": "ValueError",
     "evalue": "too many values to unpack (expected 3)",
     "output_type": "error",
     "traceback": [
      "\u001b[1;31m---------------------------------------------------------------------------\u001b[0m",
      "\u001b[1;31mValueError\u001b[0m                                Traceback (most recent call last)",
      "\u001b[1;32m<ipython-input-42-a805fb17a228>\u001b[0m in \u001b[0;36m<module>\u001b[1;34m\u001b[0m\n\u001b[1;32m----> 1\u001b[1;33m \u001b[0mr\u001b[0m\u001b[1;33m,\u001b[0m \u001b[0mg\u001b[0m\u001b[1;33m,\u001b[0m \u001b[0mb\u001b[0m\u001b[1;33m=\u001b[0m\u001b[0mimg\u001b[0m\u001b[1;33m.\u001b[0m\u001b[0msplit\u001b[0m\u001b[1;33m(\u001b[0m\u001b[1;33m)\u001b[0m\u001b[1;33m\u001b[0m\u001b[1;33m\u001b[0m\u001b[0m\n\u001b[0m\u001b[0;32m      2\u001b[0m \u001b[0mprint\u001b[0m\u001b[1;33m(\u001b[0m\u001b[0mr\u001b[0m\u001b[1;33m.\u001b[0m\u001b[0msize\u001b[0m\u001b[1;33m,\u001b[0m \u001b[0mr\u001b[0m\u001b[1;33m.\u001b[0m\u001b[0mmode\u001b[0m\u001b[1;33m)\u001b[0m\u001b[1;33m\u001b[0m\u001b[1;33m\u001b[0m\u001b[0m\n\u001b[0;32m      3\u001b[0m \u001b[1;33m\u001b[0m\u001b[0m\n\u001b[0;32m      4\u001b[0m \u001b[0mimg\u001b[0m \u001b[1;33m=\u001b[0m \u001b[0mImage\u001b[0m\u001b[1;33m.\u001b[0m\u001b[0mmerge\u001b[0m\u001b[1;33m(\u001b[0m\u001b[1;34m\"RGB\"\u001b[0m\u001b[1;33m,\u001b[0m \u001b[1;33m(\u001b[0m\u001b[0mr\u001b[0m\u001b[1;33m,\u001b[0m\u001b[0mg\u001b[0m\u001b[1;33m,\u001b[0m\u001b[0mg\u001b[0m\u001b[1;33m)\u001b[0m\u001b[1;33m)\u001b[0m\u001b[1;33m\u001b[0m\u001b[1;33m\u001b[0m\u001b[0m\n\u001b[0;32m      5\u001b[0m \u001b[0mimg\u001b[0m\u001b[1;33m.\u001b[0m\u001b[0mshow\u001b[0m\u001b[1;33m(\u001b[0m\u001b[1;33m)\u001b[0m\u001b[1;33m\u001b[0m\u001b[1;33m\u001b[0m\u001b[0m\n",
      "\u001b[1;31mValueError\u001b[0m: too many values to unpack (expected 3)"
     ]
    }
   ],
   "source": [
    "r, g, b=img.split()\n",
    "print(r.size, r.mode)\n",
    "\n",
    "img = Image.merge(\"RGB\", (r,g,g))\n",
    "img.show()\n",
    "\n"
   ]
  },
  {
   "cell_type": "code",
   "execution_count": null,
   "metadata": {},
   "outputs": [],
   "source": []
  },
  {
   "cell_type": "code",
   "execution_count": null,
   "metadata": {},
   "outputs": [],
   "source": []
  },
  {
   "cell_type": "code",
   "execution_count": 37,
   "metadata": {},
   "outputs": [],
   "source": [
    "# 数据可视化类"
   ]
  },
  {
   "cell_type": "code",
   "execution_count": 6,
   "metadata": {},
   "outputs": [
    {
     "data": {
      "image/png": "[encoded data removed]",
      "text/plain": [
       "<Figure size 720x720 with 1 Axes>"
      ]
     },
     "metadata": {
      "needs_background": "light"
     },
     "output_type": "display_data"
    }
   ],
   "source": [
    "import seaborn as sns\n",
    "import matplotlib.pyplot as plt\n",
    "import numpy as np\n",
    "\n",
    "mat = np.random.random((100,100))*255\n",
    "mat = np.array(mat, dtype=np.uint8)\n",
    "plt.figure(figsize=(10,10))\n",
    "# plt.subplot(1,2,1)\n",
    "plt.axis('off')\n",
    "# plt.imshow(mat)\n",
    "# plt.suplot(1,2,2)\n",
    "sns.lineplot([x for x in range(100)], [np.random.random()*x for x in range(100)])\n",
    "plt.show()"
   ]
  }
 ],
 "metadata": {
  "kernelspec": {
   "display_name": "Python 3",
   "language": "python",
   "name": "python3"
  },
  "language_info": {
   "codemirror_mode": {
    "name": "ipython",
    "version": 3
   },
   "file_extension": ".py",
   "mimetype": "text/x-python",
   "name": "python",
   "nbconvert_exporter": "python",
   "pygments_lexer": "ipython3",
   "version": "3.6.9"
  }
 },
 "nbformat": 4,
 "nbformat_minor": 4
}
