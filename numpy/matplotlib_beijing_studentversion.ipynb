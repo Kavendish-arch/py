{
 "cells": [
  {
   "cell_type": "markdown",
   "metadata": {},
   "source": [
    "# Data Visualization"
   ]
  },
  {
   "cell_type": "markdown",
   "metadata": {},
   "source": [
    "## Three level of visualizatoin"
   ]
  },
  {
   "cell_type": "markdown",
   "metadata": {},
   "source": [
    "* level 1. fast visualization, for analytics (minimalist, fast)\n",
    "* 快速画图"
   ]
  },
  {
   "cell_type": "markdown",
   "metadata": {},
   "source": [
    "* level 2. hybrid version of 1 & 3"
   ]
  },
  {
   "cell_type": "markdown",
   "metadata": {},
   "source": [
    "* level 3. fine visualization, for presentation (refined, presentable) 详细图片"
   ]
  },
  {
   "cell_type": "markdown",
   "metadata": {},
   "source": [
    "## Matplotlib"
   ]
  },
  {
   "cell_type": "code",
   "execution_count": 2,
   "metadata": {},
   "outputs": [],
   "source": [
    "import numpy as np\n",
    "# dataframe.plot\n",
    "import pandas as pd\n",
    "import matplotlib.pyplot as plt\n",
    "%matplotlib inline"
   ]
  },
  {
   "cell_type": "markdown",
   "metadata": {},
   "source": [
    "### Matplotlib basics"
   ]
  },
  {
   "cell_type": "code",
   "execution_count": 6,
   "metadata": {},
   "outputs": [],
   "source": [
    "# pip install matplotlib\n",
    "# 安装 matplotlib"
   ]
  },
  {
   "cell_type": "markdown",
   "metadata": {},
   "source": [
    "* Backend Layer vs. Artist Layer vs. Scripting Layer\n",
    "\n",
    "* Backend Layer (inline, notebook)\n",
    "\n",
    "* Artist Layer (Figure, Axes, Axis, etc)\n",
    "\n",
    "* Scripting Layer (pyplot)"
   ]
  },
  {
   "cell_type": "markdown",
   "metadata": {},
   "source": [
    "### Mode\n",
    "* notebook\n",
    "* inline"
   ]
  },
  {
   "cell_type": "markdown",
   "metadata": {},
   "source": [
    "### 一次性画图，excel\n",
    "### 可复现重复，matplotlib"
   ]
  },
  {
   "cell_type": "markdown",
   "metadata": {},
   "source": [
    "### Basic elements - the hard way :("
   ]
  },
  {
   "cell_type": "code",
   "execution_count": 12,
   "metadata": {},
   "outputs": [],
   "source": [
    "# figure, axes, axis, artist "
   ]
  },
  {
   "cell_type": "code",
   "execution_count": null,
   "metadata": {},
   "outputs": [],
   "source": []
  },
  {
   "cell_type": "markdown",
   "metadata": {},
   "source": [
    "## Basic elements - the easy way :)"
   ]
  },
  {
   "cell_type": "code",
   "execution_count": null,
   "metadata": {},
   "outputs": [],
   "source": []
  },
  {
   "cell_type": "markdown",
   "metadata": {},
   "source": [
    "## Principle in visualization: data-ink ratio"
   ]
  },
  {
   "cell_type": "code",
   "execution_count": 15,
   "metadata": {},
   "outputs": [
    {
     "data": {
      "text/plain": [
       "OrderedDict([('left', <matplotlib.spines.Spine at 0x24e3d328eb8>),\n",
       "             ('right', <matplotlib.spines.Spine at 0x24e3d9b5be0>),\n",
       "             ('bottom', <matplotlib.spines.Spine at 0x24e3d9b5978>),\n",
       "             ('top', <matplotlib.spines.Spine at 0x24e3d9bc320>)])"
      ]
     },
     "execution_count": 15,
     "metadata": {},
     "output_type": "execute_result"
    }
   ],
   "source": [
    "# 直方图\n",
    "# 边框\n",
    "ax.spines\n",
    "# ax.yaxis\n",
    "# ax.xaxis?"
   ]
  },
  {
   "cell_type": "code",
   "execution_count": 41,
   "metadata": {},
   "outputs": [
    {
     "name": "stderr",
     "output_type": "stream",
     "text": [
      "D:\\ProgramData\\Anaconda3\\envs\\newpy3\\lib\\site-packages\\ipykernel_launcher.py:8: MatplotlibDeprecationWarning: The 'withdash' parameter of text() is deprecated since Matplotlib 3.1 and will be removed in 3.3.  If any parameter follows 'withdash', they should be pass as keyword, not positionally.\n",
      "  \n"
     ]
    },
    {
     "data": {
      "text/plain": [
       "[<matplotlib.axis.XTick at 0x24e3edff1d0>,\n",
       " <matplotlib.axis.XTick at 0x24e3edf8ac8>,\n",
       " <matplotlib.axis.XTick at 0x24e3edf87f0>,\n",
       " <matplotlib.axis.XTick at 0x24e3ee2d208>,\n",
       " <matplotlib.axis.XTick at 0x24e3ee2d6d8>,\n",
       " <matplotlib.axis.XTick at 0x24e3ee2dba8>]"
      ]
     },
     "execution_count": 41,
     "metadata": {},
     "output_type": "execute_result"
    },
    {
     "data": {
      "image/png": "[encoded data removed]",
      "text/plain": [
       "<Figure size 432x288 with 1 Axes>"
      ]
     },
     "metadata": {
      "needs_background": "light"
     },
     "output_type": "display_data"
    }
   ],
   "source": [
    "fig = plt.figure()\n",
    "ax = fig.add_subplot(1,1,1)\n",
    "\n",
    "rects = ax.bar([x for x in range(1, 7)], [x ** 2 for x in range(1, 7)])\n",
    "for rect in rects:\n",
    "    height = rect.get_height()\n",
    "    ax.text(rect.get_x() + rect.get_width()/2, height + 0.1, '%d'%int(height), \n",
    "            fontdict={'fontsize':20}, withdash=None, ha='center', va='bottom')\n",
    "    \n",
    "# ax.set_title(\"Test figure\")\n",
    "\n",
    "ax.spines['left'].set_visible(False)\n",
    "ax.spines['right'].set_visible(False)\n",
    "ax.spines['top'].set_visible(False)\n",
    "\n",
    "plt.title(\"Test figure\")\n",
    "\n",
    "rects[2].set_color('green')\n",
    "rects[3].set_color('red')\n",
    "ax.set_title('Salary', fontdict={'fontsize':20})\n",
    "ax.set_xticks([x for x in range(1, 7)])"
   ]
  },
  {
   "cell_type": "code",
   "execution_count": null,
   "metadata": {},
   "outputs": [],
   "source": [
    "fig = plt.figure(figsize=[12,10])\n",
    "ax1 = fig.add_subplot(2, 2, 1)\n",
    "ax2 = fig.add_subplot(2, 2, 2)\n",
    "ax3 = fig.add_subplot(2, 2, 3)\n",
    "ax4 = fig.add_subplot(2, 2, 4)\n",
    "\n",
    "pd.Series([1,2,3,4], index=['A','B','C','D'], name='My plot').plot.pie(ax=ax1, title='plot1')\n",
    "pd.Series([1,2,3,4], index=['A','B','C','D'], name='My plot').plot.bar(ax=ax2, title='plot2')\n",
    "pd.Series([1,2,3,4], index=['A','B','C','D'], name='My plot').plot.barh(ax=ax3, title='plot3')\n",
    "pd.Series([1,2,3,4], index=['A','B','C','D'], name='My plot').plot.line(ax=ax4, title='plot4')\n",
    "\n",
    "plt.xlabel('Axes example')\n",
    "plt.show()"
   ]
  },
  {
   "cell_type": "markdown",
   "metadata": {},
   "source": [
    "## Seaborn\n",
    "* Regression plot"
   ]
  },
  {
   "cell_type": "code",
   "execution_count": 68,
   "metadata": {},
   "outputs": [
    {
     "data": {
      "text/plain": [
       "Text(0, 0.5, 'Qualitative')"
      ]
     },
     "execution_count": 68,
     "metadata": {},
     "output_type": "execute_result"
    },
    {
     "data": {
      "image/png": "[encoded data removed]",
      "text/plain": [
       "<Figure size 504x360 with 3 Axes>"
      ]
     },
     "metadata": {},
     "output_type": "display_data"
    }
   ],
   "source": [
    "import seaborn as sns\n",
    "sns.set(style='ticks', context='talk')\n",
    "rs  = np.random.RandomState(8)\n",
    "\n",
    "# set up the matplotlib figure\n",
    "f, (ax1, ax2, ax3) = plt.subplots(3, 1, figsize=(7, 5), sharex=True)\n",
    "# f axa\n",
    "\n",
    "\n",
    "x = np.array(list(\"ABCDEFGHIJ\"))\n",
    "y1 = np.arange(1, 11)\n",
    "sns.barplot(x=x, y=y1, palette=\"rocket\", ax=ax1)\n",
    "ax1.axhline(0, color='k', clip_on=True)\n",
    "ax1.set_ylabel(\"Sequential\")\n",
    "\n",
    "# df = pd.DataFrame({\"x-axis\": x,\"y-axis\": y})\n",
    "y2 = y1 - 5.5\n",
    "sns.barplot(x=x, y=y2, palette=\"vlag\", ax=ax2)\n",
    "ax1.axhline(0, color='k', clip_on=True)\n",
    "ax1.set_ylabel(\"Sequential\")\n",
    "\n",
    "y3 = rs.choice(y1, len(y1), replace=False)\n",
    "sns.barplot(x=x, y=y3, palette=\"deep\", ax=ax3)\n",
    "ax1.axhline(0, color='k', clip_on=True)\n",
    "ax1.set_ylabel(\"Qualitative\")\n",
    "# sns.barplot(\"x轴\",\"y轴\",palette=\"RdBu_r\",data=df)\n",
    "# plt.xticks(rotation=90)\n",
    "# plt.show()\n"
   ]
  },
  {
   "cell_type": "code",
   "execution_count": null,
   "metadata": {},
   "outputs": [],
   "source": []
  },
  {
   "cell_type": "markdown",
   "metadata": {},
   "source": [
    "### Bar plot ( colorful )"
   ]
  },
  {
   "cell_type": "code",
   "execution_count": null,
   "metadata": {},
   "outputs": [],
   "source": []
  },
  {
   "cell_type": "markdown",
   "metadata": {},
   "source": [
    "### FacetGrid"
   ]
  },
  {
   "cell_type": "code",
   "execution_count": 82,
   "metadata": {},
   "outputs": [
    {
     "data": {
      "text/plain": [
       "<seaborn.axisgrid.FacetGrid at 0x24e4ea36630>"
      ]
     },
     "execution_count": 82,
     "metadata": {},
     "output_type": "execute_result"
    },
    {
     "data": {
      "image/png": "[encoded data removed]",
      "text/plain": [
       "<Figure size 1296x1728 with 48 Axes>"
      ]
     },
     "metadata": {},
     "output_type": "display_data"
    }
   ],
   "source": [
    "import numpy as np\n",
    "import seaborn as sns\n",
    "import matplotlib.pyplot as plt\n",
    "sns.set(style='darkgrid')\n",
    "\n",
    "x = np.arange(8)\n",
    "y = np.array([1,5,3,6,2,4,5,6])\n",
    "df = pd.DataFrame({\"x-axis\": x,\"y-axis\": y})\n",
    "g = sns.FacetGrid(df, row=\"x-axis\", col=\"y-axis\", margin_titles=True)\n",
    "bins = np.linspace(0, 60, 13)\n",
    "g.map(plt.hist, \"y-axis\", color=\"steelblue\", bins=bins)"
   ]
  },
  {
   "cell_type": "markdown",
   "metadata": {},
   "source": [
    "### Distribution plot"
   ]
  },
  {
   "cell_type": "code",
   "execution_count": 76,
   "metadata": {},
   "outputs": [
    {
     "data": {
      "text/plain": [
       "\u001b[1;31mInit signature:\u001b[0m\n",
       "\u001b[0msns\u001b[0m\u001b[1;33m.\u001b[0m\u001b[0mFacetGrid\u001b[0m\u001b[1;33m(\u001b[0m\u001b[1;33m\n",
       "\u001b[0m    \u001b[0mdata\u001b[0m\u001b[1;33m,\u001b[0m\u001b[1;33m\n",
       "\u001b[0m    \u001b[0mrow\u001b[0m\u001b[1;33m=\u001b[0m\u001b[1;32mNone\u001b[0m\u001b[1;33m,\u001b[0m\u001b[1;33m\n",
       "\u001b[0m    \u001b[0mcol\u001b[0m\u001b[1;33m=\u001b[0m\u001b[1;32mNone\u001b[0m\u001b[1;33m,\u001b[0m\u001b[1;33m\n",
       "\u001b[0m    \u001b[0mhue\u001b[0m\u001b[1;33m=\u001b[0m\u001b[1;32mNone\u001b[0m\u001b[1;33m,\u001b[0m\u001b[1;33m\n",
       "\u001b[0m    \u001b[0mcol_wrap\u001b[0m\u001b[1;33m=\u001b[0m\u001b[1;32mNone\u001b[0m\u001b[1;33m,\u001b[0m\u001b[1;33m\n",
       "\u001b[0m    \u001b[0msharex\u001b[0m\u001b[1;33m=\u001b[0m\u001b[1;32mTrue\u001b[0m\u001b[1;33m,\u001b[0m\u001b[1;33m\n",
       "\u001b[0m    \u001b[0msharey\u001b[0m\u001b[1;33m=\u001b[0m\u001b[1;32mTrue\u001b[0m\u001b[1;33m,\u001b[0m\u001b[1;33m\n",
       "\u001b[0m    \u001b[0mheight\u001b[0m\u001b[1;33m=\u001b[0m\u001b[1;36m3\u001b[0m\u001b[1;33m,\u001b[0m\u001b[1;33m\n",
       "\u001b[0m    \u001b[0maspect\u001b[0m\u001b[1;33m=\u001b[0m\u001b[1;36m1\u001b[0m\u001b[1;33m,\u001b[0m\u001b[1;33m\n",
       "\u001b[0m    \u001b[0mpalette\u001b[0m\u001b[1;33m=\u001b[0m\u001b[1;32mNone\u001b[0m\u001b[1;33m,\u001b[0m\u001b[1;33m\n",
       "\u001b[0m    \u001b[0mrow_order\u001b[0m\u001b[1;33m=\u001b[0m\u001b[1;32mNone\u001b[0m\u001b[1;33m,\u001b[0m\u001b[1;33m\n",
       "\u001b[0m    \u001b[0mcol_order\u001b[0m\u001b[1;33m=\u001b[0m\u001b[1;32mNone\u001b[0m\u001b[1;33m,\u001b[0m\u001b[1;33m\n",
       "\u001b[0m    \u001b[0mhue_order\u001b[0m\u001b[1;33m=\u001b[0m\u001b[1;32mNone\u001b[0m\u001b[1;33m,\u001b[0m\u001b[1;33m\n",
       "\u001b[0m    \u001b[0mhue_kws\u001b[0m\u001b[1;33m=\u001b[0m\u001b[1;32mNone\u001b[0m\u001b[1;33m,\u001b[0m\u001b[1;33m\n",
       "\u001b[0m    \u001b[0mdropna\u001b[0m\u001b[1;33m=\u001b[0m\u001b[1;32mTrue\u001b[0m\u001b[1;33m,\u001b[0m\u001b[1;33m\n",
       "\u001b[0m    \u001b[0mlegend_out\u001b[0m\u001b[1;33m=\u001b[0m\u001b[1;32mTrue\u001b[0m\u001b[1;33m,\u001b[0m\u001b[1;33m\n",
       "\u001b[0m    \u001b[0mdespine\u001b[0m\u001b[1;33m=\u001b[0m\u001b[1;32mTrue\u001b[0m\u001b[1;33m,\u001b[0m\u001b[1;33m\n",
       "\u001b[0m    \u001b[0mmargin_titles\u001b[0m\u001b[1;33m=\u001b[0m\u001b[1;32mFalse\u001b[0m\u001b[1;33m,\u001b[0m\u001b[1;33m\n",
       "\u001b[0m    \u001b[0mxlim\u001b[0m\u001b[1;33m=\u001b[0m\u001b[1;32mNone\u001b[0m\u001b[1;33m,\u001b[0m\u001b[1;33m\n",
       "\u001b[0m    \u001b[0mylim\u001b[0m\u001b[1;33m=\u001b[0m\u001b[1;32mNone\u001b[0m\u001b[1;33m,\u001b[0m\u001b[1;33m\n",
       "\u001b[0m    \u001b[0msubplot_kws\u001b[0m\u001b[1;33m=\u001b[0m\u001b[1;32mNone\u001b[0m\u001b[1;33m,\u001b[0m\u001b[1;33m\n",
       "\u001b[0m    \u001b[0mgridspec_kws\u001b[0m\u001b[1;33m=\u001b[0m\u001b[1;32mNone\u001b[0m\u001b[1;33m,\u001b[0m\u001b[1;33m\n",
       "\u001b[0m    \u001b[0msize\u001b[0m\u001b[1;33m=\u001b[0m\u001b[1;32mNone\u001b[0m\u001b[1;33m,\u001b[0m\u001b[1;33m\n",
       "\u001b[0m\u001b[1;33m)\u001b[0m\u001b[1;33m\u001b[0m\u001b[1;33m\u001b[0m\u001b[0m\n",
       "\u001b[1;31mDocstring:\u001b[0m      Multi-plot grid for plotting conditional relationships.\n",
       "\u001b[1;31mInit docstring:\u001b[0m\n",
       "Initialize the matplotlib figure and FacetGrid object.\n",
       "\n",
       "This class maps a dataset onto multiple axes arrayed in a grid of rows\n",
       "and columns that correspond to *levels* of variables in the dataset.\n",
       "The plots it produces are often called \"lattice\", \"trellis\", or\n",
       "\"small-multiple\" graphics.\n",
       "\n",
       "It can also represent levels of a third variable with the ``hue``\n",
       "parameter, which plots different subsets of data in different colors.\n",
       "This uses color to resolve elements on a third dimension, but only\n",
       "draws subsets on top of each other and will not tailor the ``hue``\n",
       "parameter for the specific visualization the way that axes-level\n",
       "functions that accept ``hue`` will.\n",
       "\n",
       "When using seaborn functions that infer semantic mappings from a\n",
       "dataset, care must be taken to synchronize those mappings across\n",
       "facets (e.g., by defing the ``hue`` mapping with a palette dict or\n",
       "setting the data type of the variables to ``category``). In most cases,\n",
       "it will be better to use a figure-level function (e.g. :func:`relplot`\n",
       "or :func:`catplot`) than to use :class:`FacetGrid` directly.\n",
       "\n",
       "The basic workflow is to initialize the :class:`FacetGrid` object with\n",
       "the dataset and the variables that are used to structure the grid. Then\n",
       "one or more plotting functions can be applied to each subset by calling\n",
       ":meth:`FacetGrid.map` or :meth:`FacetGrid.map_dataframe`. Finally, the\n",
       "plot can be tweaked with other methods to do things like change the\n",
       "axis labels, use different ticks, or add a legend. See the detailed\n",
       "code examples below for more information.\n",
       "\n",
       "See the :ref:`tutorial <grid_tutorial>` for more information.\n",
       "\n",
       "Parameters\n",
       "----------\n",
       "data : DataFrame\n",
       "    Tidy (\"long-form\") dataframe where each column is a variable and each\n",
       "    row is an observation.    \n",
       "row, col, hue : strings\n",
       "    Variables that define subsets of the data, which will be drawn on\n",
       "    separate facets in the grid. See the ``*_order`` parameters to\n",
       "    control the order of levels of this variable.\n",
       "col_wrap : int, optional\n",
       "    \"Wrap\" the column variable at this width, so that the column facets\n",
       "    span multiple rows. Incompatible with a ``row`` facet.    \n",
       "share{x,y} : bool, 'col', or 'row' optional\n",
       "    If true, the facets will share y axes across columns and/or x axes\n",
       "    across rows.    \n",
       "height : scalar, optional\n",
       "    Height (in inches) of each facet. See also: ``aspect``.    \n",
       "aspect : scalar, optional\n",
       "    Aspect ratio of each facet, so that ``aspect * height`` gives the width\n",
       "    of each facet in inches.    \n",
       "palette : palette name, list, or dict, optional\n",
       "    Colors to use for the different levels of the ``hue`` variable. Should\n",
       "    be something that can be interpreted by :func:`color_palette`, or a\n",
       "    dictionary mapping hue levels to matplotlib colors.    \n",
       "{row,col,hue}_order : lists, optional\n",
       "    Order for the levels of the faceting variables. By default, this\n",
       "    will be the order that the levels appear in ``data`` or, if the\n",
       "    variables are pandas categoricals, the category order.\n",
       "hue_kws : dictionary of param -> list of values mapping\n",
       "    Other keyword arguments to insert into the plotting call to let\n",
       "    other plot attributes vary across levels of the hue variable (e.g.\n",
       "    the markers in a scatterplot).\n",
       "legend_out : bool, optional\n",
       "    If ``True``, the figure size will be extended, and the legend will be\n",
       "    drawn outside the plot on the center right.    \n",
       "despine : boolean, optional\n",
       "    Remove the top and right spines from the plots.\n",
       "margin_titles : bool, optional\n",
       "    If ``True``, the titles for the row variable are drawn to the right of\n",
       "    the last column. This option is experimental and may not work in all\n",
       "    cases.    \n",
       "{x, y}lim: tuples, optional\n",
       "    Limits for each of the axes on each facet (only relevant when\n",
       "    share{x, y} is True).\n",
       "subplot_kws : dict, optional\n",
       "    Dictionary of keyword arguments passed to matplotlib subplot(s)\n",
       "    methods.\n",
       "gridspec_kws : dict, optional\n",
       "    Dictionary of keyword arguments passed to matplotlib's ``gridspec``\n",
       "    module (via ``plt.subplots``). Ignored if ``col_wrap`` is not\n",
       "    ``None``.\n",
       "\n",
       "See Also\n",
       "--------\n",
       "PairGrid : Subplot grid for plotting pairwise relationships.\n",
       "relplot : Combine a relational plot and a :class:`FacetGrid`.\n",
       "catplot : Combine a categorical plot and a :class:`FacetGrid`.\n",
       "lmplot : Combine a regression plot and a :class:`FacetGrid`.\n",
       "\n",
       "Examples\n",
       "--------\n",
       "\n",
       "Initialize a 2x2 grid of facets using the tips dataset:\n",
       "\n",
       ".. plot::\n",
       "    :context: close-figs\n",
       "\n",
       "    >>> import seaborn as sns; sns.set(style=\"ticks\", color_codes=True)\n",
       "    >>> tips = sns.load_dataset(\"tips\")\n",
       "    >>> g = sns.FacetGrid(tips, col=\"time\", row=\"smoker\")\n",
       "\n",
       "Draw a univariate plot on each facet:\n",
       "\n",
       ".. plot::\n",
       "    :context: close-figs\n",
       "\n",
       "    >>> import matplotlib.pyplot as plt\n",
       "    >>> g = sns.FacetGrid(tips, col=\"time\",  row=\"smoker\")\n",
       "    >>> g = g.map(plt.hist, \"total_bill\")\n",
       "\n",
       "(Note that it's not necessary to re-catch the returned variable; it's\n",
       "the same object, but doing so in the examples makes dealing with the\n",
       "doctests somewhat less annoying).\n",
       "\n",
       "Pass additional keyword arguments to the mapped function:\n",
       "\n",
       ".. plot::\n",
       "    :context: close-figs\n",
       "\n",
       "    >>> import numpy as np\n",
       "    >>> bins = np.arange(0, 65, 5)\n",
       "    >>> g = sns.FacetGrid(tips, col=\"time\",  row=\"smoker\")\n",
       "    >>> g = g.map(plt.hist, \"total_bill\", bins=bins, color=\"r\")\n",
       "\n",
       "Plot a bivariate function on each facet:\n",
       "\n",
       ".. plot::\n",
       "    :context: close-figs\n",
       "\n",
       "    >>> g = sns.FacetGrid(tips, col=\"time\",  row=\"smoker\")\n",
       "    >>> g = g.map(plt.scatter, \"total_bill\", \"tip\", edgecolor=\"w\")\n",
       "\n",
       "Assign one of the variables to the color of the plot elements:\n",
       "\n",
       ".. plot::\n",
       "    :context: close-figs\n",
       "\n",
       "    >>> g = sns.FacetGrid(tips, col=\"time\",  hue=\"smoker\")\n",
       "    >>> g = (g.map(plt.scatter, \"total_bill\", \"tip\", edgecolor=\"w\")\n",
       "    ...       .add_legend())\n",
       "\n",
       "Change the height and aspect ratio of each facet:\n",
       "\n",
       ".. plot::\n",
       "    :context: close-figs\n",
       "\n",
       "    >>> g = sns.FacetGrid(tips, col=\"day\", height=4, aspect=.5)\n",
       "    >>> g = g.map(plt.hist, \"total_bill\", bins=bins)\n",
       "\n",
       "Specify the order for plot elements:\n",
       "\n",
       ".. plot::\n",
       "    :context: close-figs\n",
       "\n",
       "    >>> g = sns.FacetGrid(tips, col=\"smoker\", col_order=[\"Yes\", \"No\"])\n",
       "    >>> g = g.map(plt.hist, \"total_bill\", bins=bins, color=\"m\")\n",
       "\n",
       "Use a different color palette:\n",
       "\n",
       ".. plot::\n",
       "    :context: close-figs\n",
       "\n",
       "    >>> kws = dict(s=50, linewidth=.5, edgecolor=\"w\")\n",
       "    >>> g = sns.FacetGrid(tips, col=\"sex\", hue=\"time\", palette=\"Set1\",\n",
       "    ...                   hue_order=[\"Dinner\", \"Lunch\"])\n",
       "    >>> g = (g.map(plt.scatter, \"total_bill\", \"tip\", **kws)\n",
       "    ...      .add_legend())\n",
       "\n",
       "Use a dictionary mapping hue levels to colors:\n",
       "\n",
       ".. plot::\n",
       "    :context: close-figs\n",
       "\n",
       "    >>> pal = dict(Lunch=\"seagreen\", Dinner=\"gray\")\n",
       "    >>> g = sns.FacetGrid(tips, col=\"sex\", hue=\"time\", palette=pal,\n",
       "    ...                   hue_order=[\"Dinner\", \"Lunch\"])\n",
       "    >>> g = (g.map(plt.scatter, \"total_bill\", \"tip\", **kws)\n",
       "    ...      .add_legend())\n",
       "\n",
       "Additionally use a different marker for the hue levels:\n",
       "\n",
       ".. plot::\n",
       "    :context: close-figs\n",
       "\n",
       "    >>> g = sns.FacetGrid(tips, col=\"sex\", hue=\"time\", palette=pal,\n",
       "    ...                   hue_order=[\"Dinner\", \"Lunch\"],\n",
       "    ...                   hue_kws=dict(marker=[\"^\", \"v\"]))\n",
       "    >>> g = (g.map(plt.scatter, \"total_bill\", \"tip\", **kws)\n",
       "    ...      .add_legend())\n",
       "\n",
       "\"Wrap\" a column variable with many levels into the rows:\n",
       "\n",
       ".. plot::\n",
       "    :context: close-figs\n",
       "\n",
       "    >>> att = sns.load_dataset(\"attention\")\n",
       "    >>> g = sns.FacetGrid(att, col=\"subject\", col_wrap=5, height=1.5)\n",
       "    >>> g = g.map(plt.plot, \"solutions\", \"score\", marker=\".\")\n",
       "\n",
       "Define a custom bivariate function to map onto the grid:\n",
       "\n",
       ".. plot::\n",
       "    :context: close-figs\n",
       "\n",
       "    >>> from scipy import stats\n",
       "    >>> def qqplot(x, y, **kwargs):\n",
       "    ...     _, xr = stats.probplot(x, fit=False)\n",
       "    ...     _, yr = stats.probplot(y, fit=False)\n",
       "    ...     sns.scatterplot(xr, yr, **kwargs)\n",
       "    >>> g = sns.FacetGrid(tips, col=\"smoker\", hue=\"sex\")\n",
       "    >>> g = (g.map(qqplot, \"total_bill\", \"tip\", **kws)\n",
       "    ...       .add_legend())\n",
       "\n",
       "Define a custom function that uses a ``DataFrame`` object and accepts\n",
       "column names as positional variables:\n",
       "\n",
       ".. plot::\n",
       "    :context: close-figs\n",
       "\n",
       "    >>> import pandas as pd\n",
       "    >>> df = pd.DataFrame(\n",
       "    ...     data=np.random.randn(90, 4),\n",
       "    ...     columns=pd.Series(list(\"ABCD\"), name=\"walk\"),\n",
       "    ...     index=pd.date_range(\"2015-01-01\", \"2015-03-31\",\n",
       "    ...                         name=\"date\"))\n",
       "    >>> df = df.cumsum(axis=0).stack().reset_index(name=\"val\")\n",
       "    >>> def dateplot(x, y, **kwargs):\n",
       "    ...     ax = plt.gca()\n",
       "    ...     data = kwargs.pop(\"data\")\n",
       "    ...     data.plot(x=x, y=y, ax=ax, grid=False, **kwargs)\n",
       "    >>> g = sns.FacetGrid(df, col=\"walk\", col_wrap=2, height=3.5)\n",
       "    >>> g = g.map_dataframe(dateplot, \"date\", \"val\")\n",
       "\n",
       "Use different axes labels after plotting:\n",
       "\n",
       ".. plot::\n",
       "    :context: close-figs\n",
       "\n",
       "    >>> g = sns.FacetGrid(tips, col=\"smoker\", row=\"sex\")\n",
       "    >>> g = (g.map(plt.scatter, \"total_bill\", \"tip\", color=\"g\", **kws)\n",
       "    ...       .set_axis_labels(\"Total bill (US Dollars)\", \"Tip\"))\n",
       "\n",
       "Set other attributes that are shared across the facetes:\n",
       "\n",
       ".. plot::\n",
       "    :context: close-figs\n",
       "\n",
       "    >>> g = sns.FacetGrid(tips, col=\"smoker\", row=\"sex\")\n",
       "    >>> g = (g.map(plt.scatter, \"total_bill\", \"tip\", color=\"r\", **kws)\n",
       "    ...       .set(xlim=(0, 60), ylim=(0, 12),\n",
       "    ...            xticks=[10, 30, 50], yticks=[2, 6, 10]))\n",
       "\n",
       "Use a different template for the facet titles:\n",
       "\n",
       ".. plot::\n",
       "    :context: close-figs\n",
       "\n",
       "    >>> g = sns.FacetGrid(tips, col=\"size\", col_wrap=3)\n",
       "    >>> g = (g.map(plt.hist, \"tip\", bins=np.arange(0, 13), color=\"c\")\n",
       "    ...       .set_titles(\"{col_name} diners\"))\n",
       "\n",
       "Tighten the facets:\n",
       "\n",
       ".. plot::\n",
       "    :context: close-figs\n",
       "\n",
       "    >>> g = sns.FacetGrid(tips, col=\"smoker\", row=\"sex\",\n",
       "    ...                   margin_titles=True)\n",
       "    >>> g = (g.map(plt.scatter, \"total_bill\", \"tip\", color=\"m\", **kws)\n",
       "    ...       .set(xlim=(0, 60), ylim=(0, 12),\n",
       "    ...            xticks=[10, 30, 50], yticks=[2, 6, 10])\n",
       "    ...       .fig.subplots_adjust(wspace=.05, hspace=.05))\n",
       "\u001b[1;31mFile:\u001b[0m           d:\\programdata\\anaconda3\\envs\\newpy3\\lib\\site-packages\\seaborn\\axisgrid.py\n",
       "\u001b[1;31mType:\u001b[0m           type\n",
       "\u001b[1;31mSubclasses:\u001b[0m     \n"
      ]
     },
     "metadata": {},
     "output_type": "display_data"
    }
   ],
   "source": [
    "sns.FacetGrid?"
   ]
  },
  {
   "cell_type": "markdown",
   "metadata": {},
   "source": [
    "### Multiple Linear Regression plot"
   ]
  },
  {
   "cell_type": "code",
   "execution_count": null,
   "metadata": {},
   "outputs": [],
   "source": []
  },
  {
   "cell_type": "markdown",
   "metadata": {},
   "source": [
    "### Pair Plot"
   ]
  },
  {
   "cell_type": "code",
   "execution_count": null,
   "metadata": {},
   "outputs": [],
   "source": []
  },
  {
   "cell_type": "markdown",
   "metadata": {},
   "source": [
    "### Joint Plot"
   ]
  },
  {
   "cell_type": "code",
   "execution_count": null,
   "metadata": {},
   "outputs": [],
   "source": []
  },
  {
   "cell_type": "markdown",
   "metadata": {},
   "source": [
    "### Line Plot"
   ]
  },
  {
   "cell_type": "code",
   "execution_count": null,
   "metadata": {},
   "outputs": [],
   "source": []
  },
  {
   "cell_type": "markdown",
   "metadata": {},
   "source": [
    "## Plotly"
   ]
  },
  {
   "cell_type": "code",
   "execution_count": null,
   "metadata": {
    "collapsed": true,
    "jupyter": {
     "outputs_hidden": true
    }
   },
   "outputs": [],
   "source": [
    "# !pip install plotly"
   ]
  },
  {
   "cell_type": "markdown",
   "metadata": {},
   "source": [
    "### Case Study 1 --- Visualization by Plotly\n"
   ]
  },
  {
   "cell_type": "markdown",
   "metadata": {},
   "source": [
    "### Useful Package\n",
    "* Pandas: import data via a url and create a dataframe to easily handle data for analysis and graphing. See examples of using Pandas here: https://plot.ly/pandas/.\n",
    "* NumPy: a package for scientific computing with tools for algebra, random number generation, integrating with databases, and managing data. See examples of using NumPy here: https://plot.ly/numpy/.\n",
    "* SciPy: a Python-based ecosystem of packages for math, science, and engineering.\n",
    "* Plotly: a graphing library for making interactive, publication-quality graphs. See examples of statistic, scientific, 3D charts, and more here: https://plot.ly/python."
   ]
  },
  {
   "cell_type": "code",
   "execution_count": null,
   "metadata": {},
   "outputs": [],
   "source": []
  },
  {
   "cell_type": "markdown",
   "metadata": {},
   "source": [
    "## Plotly - Basic Charts"
   ]
  },
  {
   "cell_type": "code",
   "execution_count": 9,
   "metadata": {
    "collapsed": true,
    "jupyter": {
     "outputs_hidden": true
    }
   },
   "outputs": [],
   "source": [
    "# Bar charts\n",
    "# Pie charts\n",
    "# Distplot\n",
    "# Scatter\n",
    "# Line charts\n",
    "# Subplots"
   ]
  },
  {
   "cell_type": "markdown",
   "metadata": {},
   "source": [
    "### Bar Charts"
   ]
  },
  {
   "cell_type": "code",
   "execution_count": null,
   "metadata": {},
   "outputs": [],
   "source": []
  },
  {
   "cell_type": "markdown",
   "metadata": {},
   "source": [
    "### Stacked Bar Chart"
   ]
  },
  {
   "cell_type": "code",
   "execution_count": null,
   "metadata": {},
   "outputs": [],
   "source": []
  },
  {
   "cell_type": "markdown",
   "metadata": {},
   "source": [
    "### Pie Chart"
   ]
  },
  {
   "cell_type": "code",
   "execution_count": null,
   "metadata": {},
   "outputs": [],
   "source": []
  },
  {
   "cell_type": "markdown",
   "metadata": {},
   "source": [
    "### Distplots in Ploty\n",
    "\n",
    "Visualizing by the distribution plot --- Age & class"
   ]
  },
  {
   "cell_type": "code",
   "execution_count": null,
   "metadata": {},
   "outputs": [],
   "source": []
  },
  {
   "cell_type": "markdown",
   "metadata": {},
   "source": [
    "### Scatter Plot"
   ]
  },
  {
   "cell_type": "code",
   "execution_count": null,
   "metadata": {},
   "outputs": [],
   "source": []
  },
  {
   "cell_type": "markdown",
   "metadata": {},
   "source": [
    "### Line Chart"
   ]
  },
  {
   "cell_type": "code",
   "execution_count": null,
   "metadata": {},
   "outputs": [],
   "source": []
  },
  {
   "cell_type": "markdown",
   "metadata": {},
   "source": [
    "### Subplots"
   ]
  },
  {
   "cell_type": "code",
   "execution_count": null,
   "metadata": {},
   "outputs": [],
   "source": []
  },
  {
   "cell_type": "markdown",
   "metadata": {},
   "source": [
    "# Case Study 2 --- Create Maps by Plotly"
   ]
  },
  {
   "cell_type": "markdown",
   "metadata": {},
   "source": [
    "## The United States Electoral College"
   ]
  },
  {
   "cell_type": "markdown",
   "metadata": {},
   "source": [
    "Plotly supports three types of maps: **choropleths, atlas maps, and satellite maps**. Using data from the electoral college, we’ll plot a choropleth map of the United States with a color scale. \n",
    "\n",
    "The darker the color, the greater number of votes."
   ]
  },
  {
   "cell_type": "code",
   "execution_count": null,
   "metadata": {},
   "outputs": [],
   "source": []
  }
 ],
 "metadata": {
  "kernelspec": {
   "display_name": "Python 3",
   "language": "python",
   "name": "python3"
  },
  "language_info": {
   "codemirror_mode": {
    "name": "ipython",
    "version": 3
   },
   "file_extension": ".py",
   "mimetype": "text/x-python",
   "name": "python",
   "nbconvert_exporter": "python",
   "pygments_lexer": "ipython3",
   "version": "3.6.9"
  }
 },
 "nbformat": 4,
 "nbformat_minor": 4
}
