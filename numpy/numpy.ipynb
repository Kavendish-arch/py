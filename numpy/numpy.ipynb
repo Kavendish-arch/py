{
 "cells": [
  {
   "cell_type": "markdown",
   "metadata": {},
   "source": [
    "# numpy\n"
   ]
  },
  {
   "cell_type": "code",
   "execution_count": 8,
   "metadata": {},
   "outputs": [
    {
     "data": {
      "text/plain": [
       "1.0"
      ]
     },
     "execution_count": 8,
     "metadata": {},
     "output_type": "execute_result"
    }
   ],
   "source": [
    "import numpy as np\n",
    "pow(1,-0.5)"
   ]
  },
  {
   "cell_type": "code",
   "execution_count": 10,
   "metadata": {},
   "outputs": [
    {
     "data": {
      "text/plain": [
       "array([[-0.72433684, -0.74368054, -0.28641268],\n",
       "       [-0.77744209,  0.2952417 ,  1.03224056],\n",
       "       [-0.79337478, -1.61324985,  0.979882  ]])"
      ]
     },
     "execution_count": 10,
     "metadata": {},
     "output_type": "execute_result"
    }
   ],
   "source": [
    "b = np.random.normal(0.0, pow(3, -0.5), (3,3))\n",
    "b"
   ]
  },
  {
   "cell_type": "code",
   "execution_count": 11,
   "metadata": {},
   "outputs": [
    {
     "name": "stdout",
     "output_type": "stream",
     "text": [
      "<class 'numpy.ndarray'>\n",
      "[0 0 0 0 0 0 0 0 0 0 0 0]\n",
      "int32\n"
     ]
    }
   ],
   "source": [
    "# 生成数组\n",
    "a_zero = np.zeros(12, dtype=int)\n",
    "print(type(a_zero))\n",
    "print(a_zero)\n",
    "print(a_zero.dtype)\n"
   ]
  },
  {
   "cell_type": "code",
   "execution_count": 15,
   "metadata": {},
   "outputs": [
    {
     "name": "stdout",
     "output_type": "stream",
     "text": [
      "<class 'numpy.ndarray'>\n",
      "[[1 1 1 1 1]\n",
      " [1 1 1 1 1]\n",
      " [1 1 1 1 1]\n",
      " [1 1 1 1 1]]\n",
      "int32\n"
     ]
    }
   ],
   "source": [
    "# 生成数组\n",
    "a_zero = np.ones((4,5), dtype=int)\n",
    "print(type(a_zero))\n",
    "print(a_zero)\n",
    "print(a_zero.dtype)"
   ]
  },
  {
   "cell_type": "code",
   "execution_count": 17,
   "metadata": {},
   "outputs": [
    {
     "name": "stdout",
     "output_type": "stream",
     "text": [
      "<class 'numpy.ndarray'>\n",
      "[[3.12 3.12]\n",
      " [3.12 3.12]\n",
      " [3.12 3.12]]\n",
      "float64\n"
     ]
    }
   ],
   "source": [
    "# 生成数组\n",
    "a_zero = np.full((3,2), 3.12)\n",
    "print(type(a_zero))\n",
    "print(a_zero)\n",
    "print(a_zero.dtype)"
   ]
  },
  {
   "cell_type": "code",
   "execution_count": 23,
   "metadata": {},
   "outputs": [
    {
     "ename": "TypeError",
     "evalue": "_zeros_like_dispatcher() got multiple values for argument 'dtype'",
     "output_type": "error",
     "traceback": [
      "\u001b[1;31m---------------------------------------------------------------------------\u001b[0m",
      "\u001b[1;31mTypeError\u001b[0m                                 Traceback (most recent call last)",
      "\u001b[1;32m<ipython-input-23-e873df63be11>\u001b[0m in \u001b[0;36m<module>\u001b[1;34m\u001b[0m\n\u001b[1;32m----> 1\u001b[1;33m \u001b[0mnp\u001b[0m\u001b[1;33m.\u001b[0m\u001b[0mzeros_like\u001b[0m\u001b[1;33m(\u001b[0m\u001b[0ma_zero\u001b[0m\u001b[1;33m,\u001b[0m\u001b[1;36m3.2\u001b[0m\u001b[1;33m,\u001b[0m \u001b[0mdtype\u001b[0m\u001b[1;33m=\u001b[0m\u001b[0mfloat\u001b[0m\u001b[1;33m)\u001b[0m\u001b[1;33m\u001b[0m\u001b[1;33m\u001b[0m\u001b[0m\n\u001b[0m",
      "\u001b[1;32m<__array_function__ internals>\u001b[0m in \u001b[0;36mzeros_like\u001b[1;34m(*args, **kwargs)\u001b[0m\n",
      "\u001b[1;31mTypeError\u001b[0m: _zeros_like_dispatcher() got multiple values for argument 'dtype'"
     ]
    }
   ],
   "source": [
    "np.zeros_like(a_zero,3.2, dtype=float)"
   ]
  },
  {
   "cell_type": "code",
   "execution_count": 32,
   "metadata": {},
   "outputs": [
    {
     "name": "stdout",
     "output_type": "stream",
     "text": [
      "[[0.97162423 0.93477091 0.51049365 0.81564045 0.35124704]\n",
      " [0.51858926 0.15727973 0.25087125 0.70790401 0.56453562]\n",
      " [0.43006479 0.85441291 0.47337883 0.94711502 0.30431062]\n",
      " [0.9218403  0.97699851 0.54974331 0.98052963 0.28531869]\n",
      " [0.40424161 0.97212202 0.05837961 0.33016909 0.39357828]]\n",
      "[[1 0 0 1 1]\n",
      " [3 0 7 0 1]\n",
      " [3 4 2 0 5]\n",
      " [4 6 5 7 2]\n",
      " [4 0 9 1 3]]\n"
     ]
    }
   ],
   "source": [
    "# random\n",
    "print(np.random.random((5,5)))\n",
    "# 形成随机数，经常用\n",
    "print(np.random.randint(0, 10, (5,5)))"
   ]
  },
  {
   "cell_type": "code",
   "execution_count": 33,
   "metadata": {},
   "outputs": [
    {
     "data": {
      "text/plain": [
       "[0, 2, 4, 6, 8]"
      ]
     },
     "execution_count": 33,
     "metadata": {},
     "output_type": "execute_result"
    }
   ],
   "source": [
    "list(range(0,10,2))"
   ]
  },
  {
   "cell_type": "code",
   "execution_count": 38,
   "metadata": {},
   "outputs": [
    {
     "data": {
      "text/plain": [
       "array([1.        , 1.11111111, 1.22222222, 1.33333333, 1.44444444,\n",
       "       1.55555556, 1.66666667, 1.77777778, 1.88888889, 2.        ])"
      ]
     },
     "execution_count": 38,
     "metadata": {},
     "output_type": "execute_result"
    }
   ],
   "source": [
    "np.arange(0,10,1)\n",
    "np.linspace(1,2, 10)"
   ]
  },
  {
   "cell_type": "code",
   "execution_count": 40,
   "metadata": {},
   "outputs": [
    {
     "data": {
      "text/plain": [
       "array([[1., 0., 0., 0., 0.],\n",
       "       [0., 1., 0., 0., 0.],\n",
       "       [0., 0., 1., 0., 0.],\n",
       "       [0., 0., 0., 1., 0.],\n",
       "       [0., 0., 0., 0., 1.]])"
      ]
     },
     "execution_count": 40,
     "metadata": {},
     "output_type": "execute_result"
    }
   ],
   "source": [
    "# 单位矩阵\n",
    "np.eye(5)"
   ]
  },
  {
   "cell_type": "code",
   "execution_count": null,
   "metadata": {},
   "outputs": [],
   "source": [
    "# 访问数组中的元素"
   ]
  },
  {
   "cell_type": "code",
   "execution_count": null,
   "metadata": {},
   "outputs": [],
   "source": []
  },
  {
   "cell_type": "code",
   "execution_count": null,
   "metadata": {},
   "outputs": [],
   "source": []
  },
  {
   "cell_type": "code",
   "execution_count": null,
   "metadata": {},
   "outputs": [],
   "source": []
  },
  {
   "cell_type": "code",
   "execution_count": null,
   "metadata": {},
   "outputs": [],
   "source": []
  },
  {
   "cell_type": "code",
   "execution_count": null,
   "metadata": {},
   "outputs": [],
   "source": []
  },
  {
   "cell_type": "code",
   "execution_count": 45,
   "metadata": {},
   "outputs": [
    {
     "name": "stdout",
     "output_type": "stream",
     "text": [
      "[10 11 12 13 14 15 16 17 18 19]\n",
      "[-1  0  1  2  3  4  5  6  7  8]\n",
      "[0.  0.5 1.  1.5 2.  2.5 3.  3.5 4.  4.5]\n",
      "[ 0  3  6  9 12 15 18 21 24 27]\n"
     ]
    }
   ],
   "source": [
    "# 运算\n",
    "a = np.array(list(range(10)))\n",
    "print(a + 10)\n",
    "print(a - 1)\n",
    "print(a / 2)\n",
    "print(a * 3)\n"
   ]
  },
  {
   "cell_type": "code",
   "execution_count": 48,
   "metadata": {},
   "outputs": [
    {
     "name": "stdout",
     "output_type": "stream",
     "text": [
      "[ 0  2  4  6  8 10 12 14 16 18]\n",
      "[0 0 0 0 0 0 0 0 0 0]\n",
      "[ 0  1  4  9 16 25 36 49 64 81]\n"
     ]
    }
   ],
   "source": [
    "b = np.array(list(range(10)))\n",
    "print(np.add(b,a))\n",
    "print(a - b)\n",
    "print(a * b)"
   ]
  },
  {
   "cell_type": "code",
   "execution_count": null,
   "metadata": {},
   "outputs": [],
   "source": []
  },
  {
   "cell_type": "code",
   "execution_count": null,
   "metadata": {},
   "outputs": [],
   "source": []
  },
  {
   "cell_type": "code",
   "execution_count": null,
   "metadata": {},
   "outputs": [],
   "source": []
  },
  {
   "cell_type": "code",
   "execution_count": null,
   "metadata": {},
   "outputs": [],
   "source": []
  },
  {
   "cell_type": "code",
   "execution_count": 60,
   "metadata": {},
   "outputs": [
    {
     "name": "stdout",
     "output_type": "stream",
     "text": [
      "[ 0  1  2  3  4  5  6  7  8  9 10 11 12] 78\n",
      "[[3 3 3]\n",
      " [3 3 3]\n",
      " [3 3 3]] \n",
      " sum= [9 9 9]\n"
     ]
    }
   ],
   "source": [
    "# 统计类型\n",
    "b = np.array(list(range(13)))\n",
    "\n",
    "print(b, np.sum(b))\n",
    "c = np.full((3,3), 3)\n",
    "print(c,\"\\n sum=\", np.sum(c,axis=1))"
   ]
  },
  {
   "cell_type": "code",
   "execution_count": 65,
   "metadata": {},
   "outputs": [
    {
     "name": "stdout",
     "output_type": "stream",
     "text": [
      "[[[8.41606720e-01 4.99556617e-01 4.23707210e-01 8.16166389e-01\n",
      "   9.12023726e-01 8.51921568e-01 8.99523702e-01 8.17519667e-01\n",
      "   2.84426159e-01 4.18873168e-01]\n",
      "  [4.00125928e-01 6.39397996e-01 1.55077635e-02 7.23198256e-02\n",
      "   9.44880742e-01 5.05142127e-01 1.72571133e-01 8.46718862e-01\n",
      "   7.36137085e-01 7.62778580e-02]\n",
      "  [1.45628286e-01 4.34439552e-01 3.15940003e-01 6.91213102e-01\n",
      "   1.37356428e-01 5.67047860e-02 7.01529502e-01 6.47804864e-03\n",
      "   5.00913003e-01 1.65684321e-01]\n",
      "  [8.34637399e-02 6.22275253e-02 6.08102164e-01 7.51989366e-01\n",
      "   5.09370508e-01 7.32388103e-01 5.23836580e-01 9.12180436e-02\n",
      "   3.50466831e-02 6.37993306e-01]\n",
      "  [6.89921780e-01 9.93307867e-01 7.67528460e-02 5.15259069e-01\n",
      "   7.66201268e-01 7.63608728e-01 8.94174052e-01 9.19684273e-01\n",
      "   2.93317590e-01 2.20806169e-01]\n",
      "  [4.98750244e-01 6.69717673e-02 3.60002346e-01 7.67127916e-01\n",
      "   3.98440289e-01 6.75115313e-01 7.84480086e-01 3.51290405e-01\n",
      "   2.90046053e-01 4.86332004e-01]\n",
      "  [9.96879428e-01 7.10966737e-01 8.90415399e-01 6.07528993e-01\n",
      "   5.21394081e-01 4.46959493e-01 3.86690722e-01 7.72543404e-01\n",
      "   1.81565346e-01 6.59038892e-02]\n",
      "  [6.51168031e-02 7.99017470e-01 1.41016765e-01 9.00266012e-01\n",
      "   1.09338270e-01 5.60845389e-01 4.84443834e-01 9.45328988e-01\n",
      "   8.79957568e-01 9.27971654e-01]\n",
      "  [7.66533447e-01 8.43991565e-02 1.97478086e-01 2.08800990e-01\n",
      "   7.35327779e-01 4.26089034e-04 8.25147241e-01 9.38044360e-01\n",
      "   2.86454127e-01 7.31597488e-01]\n",
      "  [3.62876072e-01 3.62747291e-01 2.27308751e-01 6.00607801e-01\n",
      "   4.43387354e-01 9.93572217e-01 9.31457708e-01 9.50827575e-01\n",
      "   1.41640129e-01 6.26166538e-01]]]\n"
     ]
    }
   ],
   "source": [
    "n = np.random.rand(1,10, 10)\n",
    "print(n)"
   ]
  },
  {
   "cell_type": "code",
   "execution_count": 73,
   "metadata": {},
   "outputs": [
    {
     "name": "stdout",
     "output_type": "stream",
     "text": [
      "1.52 ms ± 10.1 µs per loop (mean ± std. dev. of 7 runs, 1000 loops each)\n"
     ]
    }
   ],
   "source": [
    "b = np.array(list(range(10040)))\n",
    "%timeit sum(b)\n"
   ]
  },
  {
   "cell_type": "code",
   "execution_count": 71,
   "metadata": {},
   "outputs": [
    {
     "name": "stdout",
     "output_type": "stream",
     "text": [
      "9.04 µs ± 28.8 ns per loop (mean ± std. dev. of 7 runs, 100000 loops each)\n"
     ]
    }
   ],
   "source": [
    "%timeit np.sum(b)"
   ]
  }
 ],
 "metadata": {
  "kernelspec": {
   "display_name": "Python 3",
   "language": "python",
   "name": "python3"
  },
  "language_info": {
   "codemirror_mode": {
    "name": "ipython",
    "version": 3
   },
   "file_extension": ".py",
   "mimetype": "text/x-python",
   "name": "python",
   "nbconvert_exporter": "python",
   "pygments_lexer": "ipython3",
   "version": "3.7.4"
  }
 },
 "nbformat": 4,
 "nbformat_minor": 4
}
