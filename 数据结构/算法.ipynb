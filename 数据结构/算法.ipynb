{
 "cells": [
  {
   "cell_type": "code",
   "execution_count": 10,
   "metadata": {},
   "outputs": [],
   "source": [
    "# 递归\n",
    "def fib(k):\n",
    "    if k in [1, 2]:\n",
    "        return 1\n",
    "    else:\n",
    "        return fib(k - 2) + fib(k - 1)\n",
    "    \n"
   ]
  },
  {
   "cell_type": "code",
   "execution_count": 17,
   "metadata": {},
   "outputs": [
    {
     "name": "stdout",
     "output_type": "stream",
     "text": [
      "耗时\n",
      "5702887\n"
     ]
    }
   ],
   "source": [
    "if __name__ == \"__main__\":\n",
    "    from datetime import datetime\n",
    "    start_time = datetime.now()\n",
    "    total = fib(34)\n",
    "    print(\"耗时\".format((datetime.now() - start_time).total_seconds))\n",
    "    print(total)"
   ]
  },
  {
   "cell_type": "code",
   "execution_count": 19,
   "metadata": {},
   "outputs": [],
   "source": [
    "def binary_search(data_list, target):\n",
    "    left = 0\n",
    "    right = len(data_list) - 1\n",
    "    \n",
    "    while left <= right:\n",
    "        mid = int((left + right) / 2)\n",
    "        if data_list[mid] > target:\n",
    "            right = mid\n",
    "        elif data_list[mid] == target:\n",
    "            break;\n",
    "        else:\n",
    "            left = mid\n",
    "    return mid\n",
    "        "
   ]
  },
  {
   "cell_type": "code",
   "execution_count": 21,
   "metadata": {},
   "outputs": [
    {
     "data": {
      "text/plain": [
       "8"
      ]
     },
     "execution_count": 21,
     "metadata": {},
     "output_type": "execute_result"
    }
   ],
   "source": [
    "data = [1,6,7, 8, 9, 12, 16,46]\n",
    "\n",
    "index = binary_search(data, 8)\n",
    "data[index]"
   ]
  },
  {
   "cell_type": "code",
   "execution_count": 1,
   "metadata": {},
   "outputs": [],
   "source": [
    "# 二分查找 递归方法\n",
    "def binary_search2(left, right, data_list, target):\n",
    "    mid = int((left + right) / 2)\n",
    "    if left > right:\n",
    "        return -1\n",
    "    if data_list[mid] == target:\n",
    "        return mid\n",
    "    if data_list[mid] < target:\n",
    "        return binary_search2(mid+1, right, data_list, target)\n",
    "    if data_list[mid] > target:\n",
    "        return binary_search2(left, mid, data_list, target)\n",
    "\n",
    "        "
   ]
  },
  {
   "cell_type": "code",
   "execution_count": 4,
   "metadata": {},
   "outputs": [
    {
     "name": "stdout",
     "output_type": "stream",
     "text": [
      "9   4\n"
     ]
    }
   ],
   "source": [
    "data = [1, 6, 7, 8, 9, 12, 16, 46]\n",
    "\n",
    "index = binary_search2(0, len(data) - 1, data, 9)\n",
    "print(data[index], \" \", index)"
   ]
  },
  {
   "cell_type": "code",
   "execution_count": 28,
   "metadata": {},
   "outputs": [
    {
     "ename": "SyntaxError",
     "evalue": "invalid syntax (<ipython-input-28-f6b7a962ce73>, line 2)",
     "output_type": "error",
     "traceback": [
      "\u001b[1;36m  File \u001b[1;32m\"<ipython-input-28-f6b7a962ce73>\"\u001b[1;36m, line \u001b[1;32m2\u001b[0m\n\u001b[1;33m    print(index \"from\" t + \" \" + t + )\u001b[0m\n\u001b[1;37m                     ^\u001b[0m\n\u001b[1;31mSyntaxError\u001b[0m\u001b[1;31m:\u001b[0m invalid syntax\n"
     ]
    }
   ],
   "source": [
    "def move(f, t, index, b):\n",
    "    print(index \"from\" t + \" \" + t + \" by \" + b)\n",
    "\n",
    "    "
   ]
  },
  {
   "cell_type": "code",
   "execution_count": null,
   "metadata": {},
   "outputs": [],
   "source": [
    "递归：简单 回溯法\n",
    "    递归都可以用非递归方法实现\n",
    "缺点：\n",
    "    效率不高，函数调用自身，又时间，空间小号\n",
    "    递归重复计算多，效率低，栈容易溢出"
   ]
  }
 ],
 "metadata": {
  "kernelspec": {
   "display_name": "Python 3",
   "language": "python",
   "name": "python3"
  },
  "language_info": {
   "codemirror_mode": {
    "name": "ipython",
    "version": 3
   },
   "file_extension": ".py",
   "mimetype": "text/x-python",
   "name": "python",
   "nbconvert_exporter": "python",
   "pygments_lexer": "ipython3",
   "version": "3.6.9"
  }
 },
 "nbformat": 4,
 "nbformat_minor": 4
}
