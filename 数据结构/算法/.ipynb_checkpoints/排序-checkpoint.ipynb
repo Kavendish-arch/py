{
 "cells": [
  {
   "cell_type": "code",
   "execution_count": null,
   "metadata": {},
   "outputs": [],
   "source": []
  },
  {
   "cell_type": "code",
   "execution_count": 1,
   "metadata": {},
   "outputs": [],
   "source": [
    "import random\n",
    "\n",
    "def random_list_num(start, end, lenth):\n",
    "    '''\n",
    "        随机生成长度为lenth的数组\n",
    "        数字范围在start end之间\n",
    "    '''\n",
    "    num = []\n",
    "    for i in range(lenth):\n",
    "        num.append(random.randint(start, end))\n",
    "    return num"
   ]
  },
  {
   "cell_type": "code",
   "execution_count": 17,
   "metadata": {},
   "outputs": [
    {
     "data": {
      "text/plain": [
       "[33, 41, 14, 29, 38, 43, 26, 9, 22, 14, 6, 9, 10, 5, 40, 36, 21, 22, 41, 7]"
      ]
     },
     "execution_count": 17,
     "metadata": {},
     "output_type": "execute_result"
    }
   ],
   "source": [
    "num = random_list_num(1,45,20)\n",
    "num"
   ]
  },
  {
   "cell_type": "code",
   "execution_count": null,
   "metadata": {},
   "outputs": [],
   "source": [
    "def insert_sort(element, lenth):\n",
    "    \n",
    "    for i in range(2,lenth):\n",
    "        if element[i] > element[i-1]:\n",
    "            pass\n",
    "        elif element[i] < element[i-1]:\n",
    "            for j in range(i):\n",
    "                if element[j] >"
   ]
  },
  {
   "cell_type": "code",
   "execution_count": 19,
   "metadata": {},
   "outputs": [
    {
     "name": "stdout",
     "output_type": "stream",
     "text": [
      "[33, 26, 41, 14, 29, 38, 43, 26, 9, 22, 14, 6, 9, 10, 5, 40, 36, 21, 22, 41, 7, 0]\n",
      "[33, 26, 41, 14, 26, 29, 38, 43, 26, 9, 22, 14, 6, 9, 10, 5, 40, 36, 21, 22, 41, 7]\n"
     ]
    }
   ],
   "source": [
    "x = 26\n",
    "num.append(0)\n",
    "print(num)\n",
    "for i in range(2,len(num)):\n",
    "    if num[i] < num[i-1]:    \n",
    "        for j in range(len(num)-1,i,-1):\n",
    "            num[j] = num[j-1]\n",
    "        num[j]=num[i]\n",
    "        break\n",
    "print(num)"
   ]
  },
  {
   "cell_type": "code",
   "execution_count": null,
   "metadata": {},
   "outputs": [],
   "source": []
  }
 ],
 "metadata": {
  "kernelspec": {
   "display_name": "Python 3",
   "language": "python",
   "name": "python3"
  },
  "language_info": {
   "codemirror_mode": {
    "name": "ipython",
    "version": 3
   },
   "file_extension": ".py",
   "mimetype": "text/x-python",
   "name": "python",
   "nbconvert_exporter": "python",
   "pygments_lexer": "ipython3",
   "version": "3.6.9"
  }
 },
 "nbformat": 4,
 "nbformat_minor": 4
}
