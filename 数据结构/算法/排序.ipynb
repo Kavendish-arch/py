{
 "cells": [
  {
   "cell_type": "code",
   "execution_count": null,
   "metadata": {},
   "outputs": [],
   "source": []
  },
  {
   "cell_type": "code",
   "execution_count": 2,
   "metadata": {},
   "outputs": [],
   "source": [
    "import random\n",
    "\n",
    "def random_list_num(start, end, lenth):\n",
    "    '''\n",
    "        随机生成长度为lenth的数组\n",
    "        数字范围在start end之间\n",
    "    '''\n",
    "    num = []\n",
    "    for i in range(lenth):\n",
    "        num.append(random.randint(start, end))\n",
    "    return num"
   ]
  },
  {
   "cell_type": "code",
   "execution_count": 5,
   "metadata": {},
   "outputs": [
    {
     "data": {
      "text/plain": [
       "[21, 26, 8, 30, 17, 20, 12, 13, 8, 30, 7, 14, 4, 2, 20, 14, 11, 8, 32, 10]"
      ]
     },
     "execution_count": 5,
     "metadata": {},
     "output_type": "execute_result"
    }
   ],
   "source": [
    "num = random_list_num(1,45,20)\n",
    "num"
   ]
  },
  {
   "cell_type": "code",
   "execution_count": 6,
   "metadata": {},
   "outputs": [
    {
     "data": {
      "text/plain": [
       "[2, 4, 7, 8, 8, 8, 10, 11, 12, 13, 14, 14, 17, 20, 20, 21, 26, 30, 30, 32]"
      ]
     },
     "execution_count": 6,
     "metadata": {},
     "output_type": "execute_result"
    }
   ],
   "source": [
    "num.sort()\n",
    "num"
   ]
  },
  {
   "cell_type": "code",
   "execution_count": null,
   "metadata": {},
   "outputs": [],
   "source": [
    "def insert_sort(element, lenth):\n",
    "    \n",
    "    for i in range(2,lenth):\n",
    "        if element[i] > element[i-1]:\n",
    "            pass\n",
    "        elif element[i] < element[i-1]:\n",
    "            for j in range(i):\n",
    "                if element[j] >"
   ]
  },
  {
   "cell_type": "code",
   "execution_count": 22,
   "metadata": {},
   "outputs": [
    {
     "name": "stdout",
     "output_type": "stream",
     "text": [
      "[1, 23, 38, 14, 14, 8, 42, 17, 35, 6, 25, 37, 17, 9, 44, 8, 5, 29, 33, 20, 35, 0]\n",
      "[1, 38, 23, 38, 14, 8, 42, 17, 35, 6, 25, 37, 17, 9, 44, 8, 5, 29, 33, 20, 35, 0]\n"
     ]
    }
   ],
   "source": [
    "x = 26\n",
    "num.append(0)\n",
    "print(num)\n",
    "for i in range(2,len(num)):\n",
    "    if num[i] < num[i-1]:    \n",
    "        for j in range(i,0,-1):\n",
    "            num[j] = num[j-1]\n",
    "        num[j]=num[i]\n",
    "        break\n",
    "print(num)"
   ]
  },
  {
   "cell_type": "code",
   "execution_count": null,
   "metadata": {},
   "outputs": [],
   "source": []
  }
 ],
 "metadata": {
  "kernelspec": {
   "display_name": "Python 3",
   "language": "python",
   "name": "python3"
  },
  "language_info": {
   "codemirror_mode": {
    "name": "ipython",
    "version": 3
   },
   "file_extension": ".py",
   "mimetype": "text/x-python",
   "name": "python",
   "nbconvert_exporter": "python",
   "pygments_lexer": "ipython3",
   "version": "3.6.9"
  }
 },
 "nbformat": 4,
 "nbformat_minor": 4
}
