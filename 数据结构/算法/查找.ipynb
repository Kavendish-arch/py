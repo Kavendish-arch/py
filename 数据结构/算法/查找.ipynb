{
 "cells": [
  {
   "cell_type": "code",
   "execution_count": 17,
   "metadata": {},
   "outputs": [
    {
     "name": "stdout",
     "output_type": "stream",
     "text": [
      "[481, 769, 610, 759, 414, 37, 66, 719, 287, 482, 745, 45, 168, 277, 597, 248, 477, 373, 276, 148]\n"
     ]
    }
   ],
   "source": [
    "import random\n",
    "\n",
    "def random_list_num(start, end, lenth):\n",
    "    '''\n",
    "        随机生成长度为lenth的数组\n",
    "        数字范围在start end之间\n",
    "    '''\n",
    "    num = []\n",
    "    for i in range(lenth):\n",
    "        num.append(random.randint(start, end))\n",
    "    return num\n",
    "num = random_list_num(2,894,20)\n",
    "print(num)"
   ]
  },
  {
   "cell_type": "code",
   "execution_count": 18,
   "metadata": {},
   "outputs": [
    {
     "name": "stdout",
     "output_type": "stream",
     "text": [
      "66\n"
     ]
    }
   ],
   "source": [
    "key = 66\n",
    "for i in range(len(num)):\n",
    "    if num[i] == key:\n",
    "        print(key)\n"
   ]
  }
 ],
 "metadata": {
  "kernelspec": {
   "display_name": "Python 3",
   "language": "python",
   "name": "python3"
  },
  "language_info": {
   "codemirror_mode": {
    "name": "ipython",
    "version": 3
   },
   "file_extension": ".py",
   "mimetype": "text/x-python",
   "name": "python",
   "nbconvert_exporter": "python",
   "pygments_lexer": "ipython3",
   "version": "3.6.9"
  }
 },
 "nbformat": 4,
 "nbformat_minor": 2
}
