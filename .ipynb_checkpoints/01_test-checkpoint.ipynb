{
 "cells": [
  {
   "cell_type": "code",
   "execution_count": 14,
   "metadata": {},
   "outputs": [],
   "source": [
    "import requests\n",
    "\n",
    "### 重试尝试\n",
    "from retrying import retry\n"
   ]
  },
  {
   "cell_type": "code",
   "execution_count": 8,
   "metadata": {},
   "outputs": [],
   "source": [
    "url = \"http://www.baidu.com\"\n",
    "\n",
    "headers = {\n",
    "\"User-Agent\":\"Mozilla/5.0 (iPhone; CPU iPhone OS 10_3 like Mac OS X) AppleWebKit/602.1.50 (KHTML, like Gecko) CriOS/56.0.2924.75 Mobile/14E5239e Safari/602.1\",\n",
    "\"Referer\": \"http://fanyi.baidu.com/?aldtype=16047\"}\n",
    "\n",
    "data = {}\n",
    "response = requests.get(url, headers=headers)\n",
    "\n",
    "# 会出现乱码\n",
    "response.encoding = \"utf-8\"\n",
    "### 获取网页源码的正确打开方式(通过下面三种方式一定能够获取到网页的正确解码之后的字符串)\n",
    "# - 1. response.content.decode()\n",
    "# - 2. response.content.decode(\"gbk\")\n",
    "# - 3. response.text\n",
    "# 把响应的二进制字节流转化为str类型\n",
    "print(response.content.decode(\"utf-8\"))\n",
    "print(response.text)"
   ]
  },
  {
   "cell_type": "code",
   "execution_count": 21,
   "metadata": {},
   "outputs": [
    {
     "name": "stdout",
     "output_type": "stream",
     "text": [
      "parse_url\n",
      "None\n"
     ]
    }
   ],
   "source": [
    "\n",
    "# 装饰函数执行三次，三次报错 报错\n",
    "# 解决因为网络问题造成的获取失败\n",
    "@retry(stop_max_attempt_number=3)\n",
    "def _parse_url(url, headers):\n",
    "    response = requests.get(url, headers=headers, timeout=5)\n",
    "    return response.content.decode()\n",
    "# 进行异常处理\n",
    "def parse_url(url, headers):\n",
    "    print(\"parse_url\")\n",
    "    try:\n",
    "        response = _parse_url(url,headers)\n",
    "    except:\n",
    "        response = None\n",
    "    return response\n",
    "\n",
    "url = \"https://www.baidu.com\"\n",
    "headers = {\"User-Agent\":\"Mozilla/5.0 (Linux; Android 6.0; Nexus 5 Build/MRA58N) AppleWebKit/537.36 (KHTML, like Gecko) Chrome/83.0.4103.97 Mobile Safari/537.36\"}\n",
    "print(parse_url(url,headers))\n",
    "\n",
    "if __name__ == '__name__':\n",
    "    url = \"https://www.baidu.com\"\n",
    "    headers = {\"User-Agent\":\"Mozilla/5.0 (Linux; Android 6.0; Nexus 5 Build/MRA58N) AppleWebKit/537.36 (KHTML, like Gecko) Chrome/83.0.4103.97 Mobile Safari/537.36\"}\n",
    "    print(parse_url(url,headers))\n"
   ]
  },
  {
   "cell_type": "code",
   "execution_count": 9,
   "metadata": {},
   "outputs": [],
   "source": [
    "\n",
    "# 函数执行三次，一次通过，通过\n",
    "@retry(stop_max_attempt_number=3)\n",
    "def fun1():\n",
    "    print(\"this is function\")\n",
    "    # 抛出异常\n",
    "    raise ValueError(\"this is error\")"
   ]
  },
  {
   "cell_type": "code",
   "execution_count": null,
   "metadata": {},
   "outputs": [],
   "source": []
  },
  {
   "cell_type": "code",
   "execution_count": 22,
   "metadata": {},
   "outputs": [
    {
     "data": {
      "text/plain": [
       "{'BIDUPSID': 'DD3DAF43BEAAB247B38D15FB20687C19',\n",
       " 'PSTM': '1595308871',\n",
       " 'BAIDUID': '1',\n",
       " 'BDORZ': 'B490B5EBF6F3CD402E515D22BCDA1598',\n",
       " 'delPer': '0',\n",
       " 'PSINO': '5',\n",
       " 'H_PS_PSSID': '32294_1447_32357_31660_32045_32230_32246_32115_31708',\n",
       " 'Hm_lvt_64ecd82404c51e03dc91cb9e8c025574': '1595429394',\n",
       " 'REALTIME_TRANS_SWITCH': '1',\n",
       " 'FANYI_WORD_SWITCH': '1',\n",
       " 'HISTORY_SWITCH': '1',\n",
       " 'SOUND_SPD_SWITCH': '1',\n",
       " 'SOUND_PREFER_SWITCH': '1',\n",
       " '__yjsv5_shitong': '1.0_7_6297474b0edabdb661e8abb03231fd6f4219_300_1595429394621_125.126.105.39_69ad789b',\n",
       " 'Hm_lvt_afd111fa62852d1f37001d1f980b6800': '1595429408',\n",
       " 'Hm_lpvt_afd111fa62852d1f37001d1f980b6800': '1595429408',\n",
       " 'Hm_lpvt_64ecd82404c51e03dc91cb9e8c025574': '1595429408',\n",
       " 'yjs_js_security_passport': '8ea4f781c284f96dadd53ec2aa2e350de3c13b71_1595429410_js'}"
      ]
     },
     "execution_count": 22,
     "metadata": {},
     "output_type": "execute_result"
    }
   ],
   "source": [
    "\n",
    "cookie = \"BIDUPSID=DD3DAF43BEAAB247B38D15FB20687C19; PSTM=1595308871; BAIDUID=DD3DAF43BEAAB247A532C11217055AE2:FG=1; BDORZ=B490B5EBF6F3CD402E515D22BCDA1598; delPer=0; PSINO=5; H_PS_PSSID=32294_1447_32357_31660_32045_32230_32246_32115_31708; Hm_lvt_64ecd82404c51e03dc91cb9e8c025574=1595429394; REALTIME_TRANS_SWITCH=1; FANYI_WORD_SWITCH=1; HISTORY_SWITCH=1; SOUND_SPD_SWITCH=1; SOUND_PREFER_SWITCH=1; __yjsv5_shitong=1.0_7_6297474b0edabdb661e8abb03231fd6f4219_300_1595429394621_125.126.105.39_69ad789b; Hm_lvt_afd111fa62852d1f37001d1f980b6800=1595429408; Hm_lpvt_afd111fa62852d1f37001d1f980b6800=1595429408; Hm_lpvt_64ecd82404c51e03dc91cb9e8c025574=1595429408; yjs_js_security_passport=8ea4f781c284f96dadd53ec2aa2e350de3c13b71_1595429410_js\"\n",
    "\n",
    "### 知识点\n",
    "# 字典指导式\n",
    "cookie_dict = {i.split(\"=\")[0] : i.split(\"=\")[-1] for i in cookie.split(\"; \")}\n",
    "\n",
    "cookie_dict"
   ]
  },
  {
   "cell_type": "code",
   "execution_count": 27,
   "metadata": {},
   "outputs": [
    {
     "name": "stdout",
     "output_type": "stream",
     "text": [
      "<Response [200]>\n"
     ]
    }
   ],
   "source": [
    "import requests\n",
    "headers = {\n",
    "\"User-Agent\":\"Mozilla/5.0 (iPhone; CPU iPhone OS 10_3 like Mac OS X) AppleWebKit/602.1.50 (KHTML, like Gecko) CriOS/56.0.2924.75 Mobile/14E5239e Safari/602.1\",\n",
    "\"Referer\": \"http://fanyi.baidu.com/?aldtype=16047\"}\n",
    "\n",
    "session = requests.session();\n",
    "\n",
    "url = \"http://www.renren.com/PLogin.do\"\n",
    "post_data = {\n",
    "   \"email\":\"mr_mao_hacker@163.com\"\n",
    "    ,\"password\":\"alarmchime\"\n",
    "}\n",
    "session.post(url, headers=headers,data=post_data)\n",
    "\n",
    "url = \"http://www.renren.com/327550029/profile\"\n",
    "\n",
    "response = session.get(url, headers = headers)\n",
    "print(response)\n",
    "\n",
    "with open(\"renren3.html\",\"w\",encoding=\"utf-8\") as f:\n",
    "    f.write(response.content.decode())"
   ]
  },
  {
   "cell_type": "code",
   "execution_count": 32,
   "metadata": {},
   "outputs": [
    {
     "ename": "UnsupportedOperation",
     "evalue": "not readable",
     "output_type": "error",
     "traceback": [
      "\u001b[1;31m---------------------------------------------------------------------------\u001b[0m",
      "\u001b[1;31mUnsupportedOperation\u001b[0m                      Traceback (most recent call last)",
      "\u001b[1;32m<ipython-input-32-ae94e3b1888d>\u001b[0m in \u001b[0;36m<module>\u001b[1;34m\u001b[0m\n\u001b[0;32m      1\u001b[0m \u001b[1;32mwith\u001b[0m \u001b[0mopen\u001b[0m\u001b[1;33m(\u001b[0m\u001b[1;34m\"from.dat\"\u001b[0m\u001b[1;33m,\u001b[0m\u001b[1;34m\"w\"\u001b[0m\u001b[1;33m)\u001b[0m \u001b[1;32mas\u001b[0m \u001b[0mf\u001b[0m\u001b[1;33m:\u001b[0m\u001b[1;33m\u001b[0m\u001b[1;33m\u001b[0m\u001b[0m\n\u001b[0;32m      2\u001b[0m     \u001b[1;31m# 用循环逐行读取\u001b[0m\u001b[1;33m\u001b[0m\u001b[1;33m\u001b[0m\u001b[1;33m\u001b[0m\u001b[0m\n\u001b[1;32m----> 3\u001b[1;33m     \u001b[1;32mfor\u001b[0m \u001b[0mline\u001b[0m \u001b[1;32min\u001b[0m \u001b[0mf\u001b[0m\u001b[1;33m:\u001b[0m\u001b[1;33m\u001b[0m\u001b[1;33m\u001b[0m\u001b[0m\n\u001b[0m\u001b[0;32m      4\u001b[0m         \u001b[0mprint\u001b[0m\u001b[1;33m(\u001b[0m\u001b[0mline\u001b[0m\u001b[1;33m)\u001b[0m\u001b[1;33m\u001b[0m\u001b[1;33m\u001b[0m\u001b[0m\n",
      "\u001b[1;31mUnsupportedOperation\u001b[0m: not readable"
     ]
    }
   ],
   "source": [
    "with open(\"from.dat\",\"w\") as f:\n",
    "    # 用循环逐行读取\n",
    "    for line in f:\n",
    "        print(line)\n"
   ]
  },
  {
   "cell_type": "code",
   "execution_count": 33,
   "metadata": {},
   "outputs": [
    {
     "name": "stdout",
     "output_type": "stream",
     "text": [
      "<Response [200]>\n",
      "{\"errno\":999,\"error\":999,\"from\":null,\"to\":null,\"query\":null}\n",
      "<class 'str'>\n"
     ]
    }
   ],
   "source": [
    "import requests\n",
    "url = \"http://fanyi.baidu.com/basetrans\"\n",
    "\n",
    "query_string = {\"query\":\"你好，世界\",\n",
    "        \"from\":\"zh\",\n",
    "        \"to\":\"en\"}\n",
    "\n",
    "headers = {\"User-Agent\":\"Mozilla/5.0 (iPhone; CPU iPhone OS 10_3 like Mac OS X) AppleWebKit/602.1.50 (KHTML, like Gecko) CriOS/56.0.2924.75 Mobile/14E5239e Safari/602.1\",}\n",
    "\n",
    "response = requests.post(url,data=query_string,headers=headers)\n",
    "print(response)\n",
    "\n",
    "print(response.content.decode())\n",
    "print(type(response.content.decode()))"
   ]
  },
  {
   "cell_type": "code",
   "execution_count": null,
   "metadata": {},
   "outputs": [],
   "source": []
  }
 ],
 "metadata": {
  "kernelspec": {
   "display_name": "Python 3",
   "language": "python",
   "name": "python3"
  },
  "language_info": {
   "codemirror_mode": {
    "name": "ipython",
    "version": 3
   },
   "file_extension": ".py",
   "mimetype": "text/x-python",
   "name": "python",
   "nbconvert_exporter": "python",
   "pygments_lexer": "ipython3",
   "version": "3.6.9"
  }
 },
 "nbformat": 4,
 "nbformat_minor": 4
}
