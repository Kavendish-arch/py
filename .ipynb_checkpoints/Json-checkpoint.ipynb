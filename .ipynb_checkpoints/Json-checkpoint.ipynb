{
 "cells": [
  {
   "cell_type": "code",
   "execution_count": 1,
   "metadata": {},
   "outputs": [],
   "source": [
    "import json"
   ]
  },
  {
   "cell_type": "code",
   "execution_count": 14,
   "metadata": {},
   "outputs": [
    {
     "name": "stdout",
     "output_type": "stream",
     "text": [
      "<Response [200]>\n",
      "{\"errno\":997,\"error\":997,\"from\":\"zh\",\"to\":\"en\",\"query\":\"\\u4f60\\u597d\\uff0c\\u4e16\\u754c\"}\n",
      "<class 'str'>\n",
      "{'errno': 997, 'error': 997, 'from': 'zh', 'to': 'en', 'query': '你好，世界'}  json \n"
     ]
    }
   ],
   "source": [
    "# coding=utf-8\n",
    "import requests\n",
    "url = \"https://fanyi.baidu.com/basetrans\"\n",
    "\n",
    "query_string = {\"query\":\"hello\",\n",
    "        \"from\":\"en\",\n",
    "        \"to\":\"en\"}\n",
    "\n",
    "headers = {\"User-Agent\":\"Mozilla/5.0 (iPhone; CPU iPhone OS 10_3 like Mac OS X) AppleWebKit/602.1.50 (KHTML, like Gecko) CriOS/56.0.2924.75 Mobile/14E5239e Safari/602.1\",}\n",
    "\n",
    "response = requests.post(url,data=query_string,headers=headers)\n",
    "print(response)\n",
    "\n",
    "print(response.content.decode())\n",
    "print(type(response.content.decode()))\n",
    "\n",
    "result = json.loads(response.content.decode())\n",
    "print(result, \" json \")"
   ]
  },
  {
   "cell_type": "code",
   "execution_count": 10,
   "metadata": {},
   "outputs": [
    {
     "name": "stdout",
     "output_type": "stream",
     "text": [
      "<class 'dict'> {'BIDUPSID': 'DD3DAF43BEAAB247B38D15FB20687C19', 'PSTM': '1595308871', 'BAIDUID': '1', 'BDORZ': 'B490B5EBF6F3CD402E515D22BCDA1598', 'delPer': '0', 'PSINO': '5', 'H_PS_PSSID': '32294_1447_32357_31660_32045_32230_32246_32115_31708', 'Hm_lvt_64ecd82404c51e03dc91cb9e8c025574': '1595429394', 'REALTIME_TRANS_SWITCH': '1', 'FANYI_WORD_SWITCH': '1', 'HISTORY_SWITCH': '1', 'SOUND_SPD_SWITCH': '1', 'SOUND_PREFER_SWITCH': '1', '__yjsv5_shitong': '1.0_7_6297474b0edabdb661e8abb03231fd6f4219_300_1595429394621_125.126.105.39_69ad789b', 'Hm_lvt_afd111fa62852d1f37001d1f980b6800': '1595429408', 'Hm_lpvt_afd111fa62852d1f37001d1f980b6800': '1595429408', 'Hm_lpvt_64ecd82404c51e03dc91cb9e8c025574': '1595429408', 'yjs_js_security_passport': '8ea4f781c284f96dadd53ec2aa2e350de3c13b71_1595429410_js'}\n",
      "<class 'dict'> {'hello': 'helld', 'hsd': 'hsd'}\n"
     ]
    }
   ],
   "source": [
    "cookie = \"BIDUPSID=DD3DAF43BEAAB247B38D15FB20687C19; PSTM=1595308871; BAIDUID=DD3DAF43BEAAB247A532C11217055AE2:FG=1; BDORZ=B490B5EBF6F3CD402E515D22BCDA1598; delPer=0; PSINO=5; H_PS_PSSID=32294_1447_32357_31660_32045_32230_32246_32115_31708; Hm_lvt_64ecd82404c51e03dc91cb9e8c025574=1595429394; REALTIME_TRANS_SWITCH=1; FANYI_WORD_SWITCH=1; HISTORY_SWITCH=1; SOUND_SPD_SWITCH=1; SOUND_PREFER_SWITCH=1; __yjsv5_shitong=1.0_7_6297474b0edabdb661e8abb03231fd6f4219_300_1595429394621_125.126.105.39_69ad789b; Hm_lvt_afd111fa62852d1f37001d1f980b6800=1595429408; Hm_lpvt_afd111fa62852d1f37001d1f980b6800=1595429408; Hm_lpvt_64ecd82404c51e03dc91cb9e8c025574=1595429408; yjs_js_security_passport=8ea4f781c284f96dadd53ec2aa2e350de3c13b71_1595429410_js\"\n",
    "### 知识点\n",
    "# 字典指导式\n",
    "cookie_dict = {i.split(\"=\")[0] : i.split(\"=\")[-1] for i in cookie.split(\"; \")}\n",
    "\n",
    "cookies = '{\"hello\":\"helld\",\"hsd\":\"hsd\"}'\n",
    "print(type(cookie_dict), cookie_dict)\n",
    "data = json.loads(cookies)\n",
    "print(type(data), data)"
   ]
  },
  {
   "cell_type": "code",
   "execution_count": null,
   "metadata": {},
   "outputs": [],
   "source": []
  }
 ],
 "metadata": {
  "kernelspec": {
   "display_name": "Python 3",
   "language": "python",
   "name": "python3"
  },
  "language_info": {
   "codemirror_mode": {
    "name": "ipython",
    "version": 3
   },
   "file_extension": ".py",
   "mimetype": "text/x-python",
   "name": "python",
   "nbconvert_exporter": "python",
   "pygments_lexer": "ipython3",
   "version": "3.6.9"
  }
 },
 "nbformat": 4,
 "nbformat_minor": 4
}
