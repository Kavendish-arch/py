{
 "cells": [
  {
   "cell_type": "code",
   "execution_count": 1,
   "metadata": {},
   "outputs": [
    {
     "name": "stdout",
     "output_type": "stream",
     "text": [
      "[1, 1, 2, 3, 5, 8, 13, 21, 34, 55, 89, 144, 233]\n"
     ]
    }
   ],
   "source": [
    "#斐波那契数列\n",
    "def fiboncci(n):\n",
    "    if n == 1:\n",
    "        return 1\n",
    "    elif n == 2:\n",
    "        return 1\n",
    "    else: \n",
    "        return fiboncci(n-1) + fiboncci(n-2)\n",
    "\n",
    "msg = [1]\n",
    "for i in range(2,14,1):\n",
    "    msg.append(fiboncci(i))\n",
    "print(msg)"
   ]
  },
  {
   "cell_type": "code",
   "execution_count": 50,
   "metadata": {},
   "outputs": [],
   "source": []
  },
  {
   "cell_type": "code",
   "execution_count": 4,
   "metadata": {},
   "outputs": [
    {
     "name": "stdout",
     "output_type": "stream",
     "text": [
      "[76, 64, 56, 45, 34, 33, 12]\n"
     ]
    }
   ],
   "source": [
    "#定义成绩列表\n",
    "grade = [12,34,56,76,33,45,64]\n",
    "#冒泡排序\n",
    "for i in range(len(grade)):\n",
    "    for j in range(i,len(grade)):\n",
    "        if grade[i] < grade[j]:\n",
    "            grade[i],grade[j] = grade[j],grade[i];\n",
    "print(grade)"
   ]
  },
  {
   "cell_type": "code",
   "execution_count": 47,
   "metadata": {},
   "outputs": [
    {
     "name": "stdout",
     "output_type": "stream",
     "text": [
      "120\n"
     ]
    }
   ],
   "source": [
    "#阶乘\n",
    "def factorial(n):\n",
    "    if n == 1:\n",
    "        return 1\n",
    "    else:\n",
    "        return factorial(n-1) * n\n",
    "    \n",
    "print(factorial(5))"
   ]
  },
  {
   "cell_type": "code",
   "execution_count": 48,
   "metadata": {
    "scrolled": true
   },
   "outputs": [
    {
     "name": "stdout",
     "output_type": "stream",
     "text": [
      "[1]\n",
      "[1, 1]\n",
      "[1, 2, 1]\n",
      "[1, 3, 3, 1]\n",
      "[1, 4, 6, 4, 1]\n",
      "[1, 5, 10, 10, 5, 1]\n",
      "[1, 6, 15, 20, 15, 6, 1]\n",
      "[1, 7, 21, 35, 35, 21, 7, 1]\n"
     ]
    }
   ],
   "source": [
    "#杨辉三角\n",
    "tmp = ()\n",
    "L = [1]\n",
    "for i in range(8): \n",
    "    print(L)\n",
    "    tmp = L[:]\n",
    "    for j in range(1,i+1):\n",
    "        L[j] = tmp[j-1] + tmp[j]\n",
    "    L.append(1)"
   ]
  },
  {
   "cell_type": "code",
   "execution_count": 51,
   "metadata": {},
   "outputs": [
    {
     "name": "stdout",
     "output_type": "stream",
     "text": [
      "45.71\n",
      "76\n",
      "12\n"
     ]
    }
   ],
   "source": [
    "#求最大值和最小值\n",
    "sum,max,min=0,0,100\n",
    "for i in range(len(grade)):\n",
    "    sum += grade[i]\n",
    "    if max < grade[i]:\n",
    "        max = grade[i]\n",
    "    if min > grade[i]:\n",
    "        min = grade[i]\n",
    "avg = sum / len(grade)\n",
    "print(\"%.2f\" % avg)\n",
    "print(max)\n",
    "print(min)"
   ]
  },
  {
   "cell_type": "code",
   "execution_count": null,
   "metadata": {},
   "outputs": [],
   "source": []
  },
  {
   "cell_type": "code",
   "execution_count": null,
   "metadata": {},
   "outputs": [],
   "source": []
  },
  {
   "cell_type": "code",
   "execution_count": null,
   "metadata": {},
   "outputs": [],
   "source": []
  }
 ],
 "metadata": {
  "kernelspec": {
   "display_name": "Python 3",
   "language": "python",
   "name": "python3"
  },
  "language_info": {
   "codemirror_mode": {
    "name": "ipython",
    "version": 3
   },
   "file_extension": ".py",
   "mimetype": "text/x-python",
   "name": "python",
   "nbconvert_exporter": "python",
   "pygments_lexer": "ipython3",
   "version": "3.6.9"
  }
 },
 "nbformat": 4,
 "nbformat_minor": 4
}
