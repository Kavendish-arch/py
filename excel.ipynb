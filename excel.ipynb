{
 "metadata": {
  "language_info": {
   "codemirror_mode": {
    "name": "ipython",
    "version": 3
   },
   "file_extension": ".py",
   "mimetype": "text/x-python",
   "name": "python",
   "nbconvert_exporter": "python",
   "pygments_lexer": "ipython3",
   "version": "3.6.2"
  },
  "orig_nbformat": 2,
  "kernelspec": {
   "name": "python362jvsc74a57bd0c68fb794aad12bd82f7abc6229177b707cb4fe0fead52f40f954c06bbfa18d56",
   "display_name": "Python 3.6.2 64-bit ('newpy3': conda)"
  }
 },
 "nbformat": 4,
 "nbformat_minor": 2,
 "cells": [
  {
   "cell_type": "code",
   "execution_count": null,
   "metadata": {},
   "outputs": [],
   "source": [
    "import xlrd\n",
    "\n",
    "excel_ws = xlrd.open_workbook('23机电学生台账4.23.xlsx')\n",
    "table = excel_ws.sheets()[0]"
   ]
  },
  {
   "cell_type": "code",
   "execution_count": null,
   "metadata": {},
   "outputs": [],
   "source": [
    "nrows = table.nrows\n",
    "\n",
    "print(nrows)"
   ]
  },
  {
   "cell_type": "code",
   "execution_count": 10,
   "metadata": {},
   "outputs": [],
   "source": [
    "stu = '''刘恩慧\n",
    "李威翰\n",
    "王共达\n",
    "刘泽\n",
    "柏浩然\n",
    "马闯\n",
    "李俊\n",
    "杜正强\n",
    "杨金禹\n",
    "吴享谕\n",
    "刘德霖\n",
    "任思铭\n",
    "杜雨航\n",
    "杨鸣\n",
    "于洪睿\n",
    "赵俊泓\n",
    "张嘉辉\n",
    "王紫璇\n",
    "褚晓蔓\n",
    "田昕格\n",
    "张迎'''.split(\"\\n\")\n",
    "\n",
    "x = zip(stu, [x for x in range(0, len(stu))])\n"
   ]
  },
  {
   "cell_type": "code",
   "execution_count": 11,
   "metadata": {},
   "outputs": [],
   "source": [
    "x = dict(x)"
   ]
  },
  {
   "cell_type": "code",
   "execution_count": 13,
   "metadata": {},
   "outputs": [
    {
     "output_type": "execute_result",
     "data": {
      "text/plain": [
       "{'于洪睿': 14,\n",
       " '任思铭': 11,\n",
       " '刘德霖': 10,\n",
       " '刘恩慧': 0,\n",
       " '刘泽': 3,\n",
       " '吴享谕': 9,\n",
       " '张嘉辉': 16,\n",
       " '张迎': 20,\n",
       " '李俊': 6,\n",
       " '李威翰': 1,\n",
       " '杜正强': 7,\n",
       " '杜雨航': 12,\n",
       " '杨金禹': 8,\n",
       " '杨鸣': 13,\n",
       " '柏浩然': 4,\n",
       " '王共达': 2,\n",
       " '王紫璇': True,\n",
       " '田昕格': 19,\n",
       " '褚晓蔓': 18,\n",
       " '赵俊泓': 15,\n",
       " '马闯': 5}"
      ]
     },
     "metadata": {},
     "execution_count": 13
    }
   ],
   "source": [
    "if '王紫璇' in x:\n",
    "    x['王紫璇'] = True\n",
    "x"
   ]
  },
  {
   "cell_type": "code",
   "execution_count": null,
   "metadata": {},
   "outputs": [],
   "source": []
  }
 ]
}