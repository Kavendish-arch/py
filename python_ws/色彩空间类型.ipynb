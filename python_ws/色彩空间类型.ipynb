{
 "cells": [
  {
   "cell_type": "code",
   "execution_count": 1,
   "metadata": {},
   "outputs": [
    {
     "name": "stdout",
     "output_type": "stream",
     "text": [
      " [[ 88  88  88 ... 121 121 121]\n",
      " [ 88  88  88 ... 121 121 121]\n",
      " [ 88  88  88 ... 122 122 121]\n",
      " ...\n",
      " [184 185 186 ... 225 225 226]\n",
      " [183 183 184 ... 226 227 227]\n",
      " [182 183 184 ... 235 235 235]]\n"
     ]
    }
   ],
   "source": [
    "import cv2 \n",
    "import numpy as np\n",
    "\n",
    "#\n",
    "img = cv2.imread(\"shl.jpg\",0)\n",
    "print(\"\",img)\n",
    "c,v = img.shape\n",
    "\n",
    "bgr = np.ones((c,v,3), dtype = np.uint8)\n",
    "bgr[:,:,0] = img\n",
    "bgr[:,:,1] = img\n",
    "bgr[:,:,2] = img\n",
    "cv2.imshow(\"gray\",img)\n",
    "cv2.imshow(\"rgb\",bgr)\n",
    "cv2.waitKey()\n",
    "cv2.destroyAllWindows()"
   ]
  },
  {
   "cell_type": "markdown",
   "metadata": {},
   "source": [
    "# HSV色彩空间\n",
    "1. H 色调、色相 Hue [0,360] 映射到 [0,255]\n",
    "2. S 饱和度 Saturation [0,1] 映射到 [0,255]\n",
    "3. V 亮度 Value   [0,1] 映射到 [0,255]"
   ]
  },
  {
   "cell_type": "code",
   "execution_count": null,
   "metadata": {
    "collapsed": true
   },
   "outputs": [],
   "source": []
  },
  {
   "cell_type": "code",
   "execution_count": null,
   "metadata": {
    "collapsed": true
   },
   "outputs": [],
   "source": []
  },
  {
   "cell_type": "code",
   "execution_count": 5,
   "metadata": {},
   "outputs": [
    {
     "name": "stdout",
     "output_type": "stream",
     "text": [
      "原图 [[[170 109  16]\n",
      "  [170 109  16]\n",
      "  [170 109  16]\n",
      "  ...\n",
      "  [210 155  20]\n",
      "  [210 155  20]\n",
      "  [210 155  20]]\n",
      "\n",
      " [[170 109  16]\n",
      "  [170 109  16]\n",
      "  [170 109  16]\n",
      "  ...\n",
      "  [210 155  20]\n",
      "  [210 155  20]\n",
      "  [210 155  20]]\n",
      "\n",
      " [[170 109  16]\n",
      "  [170 109  16]\n",
      "  [170 109  16]\n",
      "  ...\n",
      "  [211 155  22]\n",
      "  [211 155  22]\n",
      "  [210 154  21]]\n",
      "\n",
      " ...\n",
      "\n",
      " [[193 184 181]\n",
      "  [194 185 182]\n",
      "  [195 186 183]\n",
      "  ...\n",
      "  [230 224 225]\n",
      "  [230 224 225]\n",
      "  [231 225 226]]\n",
      "\n",
      " [[192 183 180]\n",
      "  [192 183 180]\n",
      "  [193 184 181]\n",
      "  ...\n",
      "  [231 225 226]\n",
      "  [232 226 227]\n",
      "  [232 226 227]]\n",
      "\n",
      " [[191 182 179]\n",
      "  [192 183 180]\n",
      "  [193 184 181]\n",
      "  ...\n",
      "  [240 234 235]\n",
      "  [240 234 235]\n",
      "  [240 234 235]]]\n",
      "复原 [[[ 88  88  88]\n",
      "  [ 88  88  88]\n",
      "  [ 88  88  88]\n",
      "  ...\n",
      "  [121 121 121]\n",
      "  [121 121 121]\n",
      "  [121 121 121]]\n",
      "\n",
      " [[ 88  88  88]\n",
      "  [ 88  88  88]\n",
      "  [ 88  88  88]\n",
      "  ...\n",
      "  [121 121 121]\n",
      "  [121 121 121]\n",
      "  [121 121 121]]\n",
      "\n",
      " [[ 88  88  88]\n",
      "  [ 88  88  88]\n",
      "  [ 88  88  88]\n",
      "  ...\n",
      "  [122 122 122]\n",
      "  [122 122 122]\n",
      "  [121 121 121]]\n",
      "\n",
      " ...\n",
      "\n",
      " [[184 184 184]\n",
      "  [185 185 185]\n",
      "  [186 186 186]\n",
      "  ...\n",
      "  [225 225 225]\n",
      "  [225 225 225]\n",
      "  [226 226 226]]\n",
      "\n",
      " [[183 183 183]\n",
      "  [183 183 183]\n",
      "  [184 184 184]\n",
      "  ...\n",
      "  [226 226 226]\n",
      "  [227 227 227]\n",
      "  [227 227 227]]\n",
      "\n",
      " [[182 182 182]\n",
      "  [183 183 183]\n",
      "  [184 184 184]\n",
      "  ...\n",
      "  [235 235 235]\n",
      "  [235 235 235]\n",
      "  [235 235 235]]]\n"
     ]
    }
   ],
   "source": [
    "import cv2 \n",
    "import numpy as np\n",
    "\n",
    "#\n",
    "img = cv2.imread(\"shl.jpg\",3)\n",
    "print(\"原图\",img)\n",
    "rst = cv2.cvtColor(img,cv2.COLOR_BGR2GRAY)\n",
    "\n",
    "cv2.imshow(\"gray\",rst)\n",
    "cv2.imshow(\"rgb\",img)\n",
    "\n",
    "rgb = cv2.cvtColor(rst,cv2.COLOR_GRAY2BGR)\n",
    "cv2.imshow(\"复原\",rgb)\n",
    "\n",
    "print(\"复原\",rgb)\n",
    "cv2.waitKey()\n",
    "cv2.destroyAllWindows()"
   ]
  }
 ],
 "metadata": {
  "kernelspec": {
   "display_name": "Python 3",
   "language": "python",
   "name": "python3"
  },
  "language_info": {
   "codemirror_mode": {
    "name": "ipython",
    "version": 3
   },
   "file_extension": ".py",
   "mimetype": "text/x-python",
   "name": "python",
   "nbconvert_exporter": "python",
   "pygments_lexer": "ipython3",
   "version": "3.6.2"
  }
 },
 "nbformat": 4,
 "nbformat_minor": 4
}
