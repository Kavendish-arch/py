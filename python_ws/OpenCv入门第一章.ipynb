{
 "cells": [
  {
   "cell_type": "code",
   "execution_count": 1,
   "metadata": {
    "collapsed": true,
    "scrolled": true
   },
   "outputs": [],
   "source": [
    "import cv2\n",
    "\n",
    "# cv2.imread 读取图片\n",
    "# cv2.namedWindow 新建一个窗口\n",
    "# cv2.imshow 显示图片\n",
    "retval = cv2.imread(\"Pictures.png\",-1)\n",
    "# cv2.namedWindow(\"lesson\")\n",
    "none = cv2.imshow(\"lesson\",retval)\n",
    "# 等待用户按键，问题，不加时窗口不能正常显示\n",
    "cv2.waitKey()\n",
    "cv2.destroyWindow(\"lesson\")"
   ]
  },
  {
   "cell_type": "code",
   "execution_count": 5,
   "metadata": {
    "collapsed": true
   },
   "outputs": [],
   "source": [
    "import cv2 as cv\n",
    "\n",
    "retval = cv.imread('12.jpg',-1)\n",
    "thresh = []\n",
    "for i in range(10):\n",
    "    ret, thresh1 = cv.threshold(retval, i, 255, cv.THRESH_BINARY)\n",
    "    thresh.append(thresh1)\n",
    "j=0\n",
    "for i in thresh:   \n",
    "    cv.imwrite('biaobai'+str(j)+'.png',i)\n",
    "    j += 1\n",
    "# cv.imshow('tu',retval)\n",
    "cv.waitKey()\n",
    "cv.destroyWindow('tu')"
   ]
  },
  {
   "cell_type": "code",
   "execution_count": 3,
   "metadata": {
    "collapsed": true
   },
   "outputs": [],
   "source": [
    "# 关闭窗口 参数 窗口名\n",
    "cv2.destroyWindow(\"lesson\")\n",
    "retval = cv2.imread(\"Pictures.png\",-1)\n",
    "\n",
    "cv2.imshow(\"les\",retval)\n",
    "\n",
    "none = cv2.imshow(\"lesson\",retval)\n",
    "# 等待用户按键，问题，不加时窗口不能正常显示\n",
    "# 关闭全部窗口\n",
    "cv2.waitKey()\n",
    "cv2.destroyAllWindows()"
   ]
  },
  {
   "cell_type": "code",
   "execution_count": 4,
   "metadata": {
    "collapsed": true
   },
   "outputs": [],
   "source": [
    "import cv2\n",
    "retval = cv2.imread(\"Pictures.png\",-1)\n",
    "cv2.namedWindow(\"lesson\")\n",
    "key = cv2.waitKey()\n",
    "if key == ord('A'):\n",
    "    cv2.imshow(\"printA\",retval)\n",
    "elif key == ord('B'):\n",
    "    cv2.imshow(\"printB\", retval)\n",
    "    \n"
   ]
  },
  {
   "cell_type": "code",
   "execution_count": 5,
   "metadata": {},
   "outputs": [
    {
     "ename": "error",
     "evalue": "OpenCV(4.5.1) C:\\Users\\appveyor\\AppData\\Local\\Temp\\1\\pip-req-build-oduouqig\\opencv\\modules\\imgcodecs\\src\\loadsave.cpp:753: error: (-215:Assertion failed) !_img.empty() in function 'cv::imwrite'\n",
     "output_type": "error",
     "traceback": [
      "\u001b[1;31m---------------------------------------------------------------------------\u001b[0m",
      "\u001b[1;31merror\u001b[0m                                     Traceback (most recent call last)",
      "\u001b[1;32m<ipython-input-5-c8c7add4f8ba>\u001b[0m in \u001b[0;36m<module>\u001b[1;34m\u001b[0m\n\u001b[0;32m      1\u001b[0m \u001b[0mtarget\u001b[0m \u001b[1;33m=\u001b[0m \u001b[0mcv2\u001b[0m\u001b[1;33m.\u001b[0m\u001b[0mimread\u001b[0m\u001b[1;33m(\u001b[0m\u001b[1;34m\"1112.jpg\"\u001b[0m\u001b[1;33m)\u001b[0m\u001b[1;33m\u001b[0m\u001b[1;33m\u001b[0m\u001b[0m\n\u001b[1;32m----> 2\u001b[1;33m \u001b[0mr\u001b[0m  \u001b[1;33m=\u001b[0m \u001b[0mcv2\u001b[0m\u001b[1;33m.\u001b[0m\u001b[0mimwrite\u001b[0m\u001b[1;33m(\u001b[0m\u001b[1;34m\"1112.png\"\u001b[0m\u001b[1;33m,\u001b[0m\u001b[0mtarget\u001b[0m\u001b[1;33m)\u001b[0m\u001b[1;33m\u001b[0m\u001b[1;33m\u001b[0m\u001b[0m\n\u001b[0m\u001b[0;32m      3\u001b[0m \u001b[0mr\u001b[0m\u001b[1;33m\u001b[0m\u001b[1;33m\u001b[0m\u001b[0m\n",
      "\u001b[1;31merror\u001b[0m: OpenCV(4.5.1) C:\\Users\\appveyor\\AppData\\Local\\Temp\\1\\pip-req-build-oduouqig\\opencv\\modules\\imgcodecs\\src\\loadsave.cpp:753: error: (-215:Assertion failed) !_img.empty() in function 'cv::imwrite'\n"
     ]
    }
   ],
   "source": [
    "target = cv2.imread(\"1112.jpg\")\n",
    "r  = cv2.imwrite(\"1112.png\",target)\n",
    "r"
   ]
  },
  {
   "cell_type": "code",
   "execution_count": null,
   "metadata": {
    "collapsed": true
   },
   "outputs": [],
   "source": [
    "\n",
    "cv2.imwrite()\n",
    "# 保存图像"
   ]
  }
 ],
 "metadata": {
  "kernelspec": {
   "name": "python362jvsc74a57bd0c68fb794aad12bd82f7abc6229177b707cb4fe0fead52f40f954c06bbfa18d56",
   "display_name": "Python 3.6.2 64-bit ('newpy3': conda)"
  },
  "language_info": {
   "codemirror_mode": {
    "name": "ipython",
    "version": 3
   },
   "file_extension": ".py",
   "mimetype": "text/x-python",
   "name": "python",
   "nbconvert_exporter": "python",
   "pygments_lexer": "ipython3",
   "version": "3.6.2-final"
  }
 },
 "nbformat": 4,
 "nbformat_minor": 4
}