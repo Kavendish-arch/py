{
 "cells": [
  {
   "cell_type": "markdown",
   "metadata": {},
   "source": [
    "1. 二值图像 仅仅包含黑白 特殊的灰度图像\n",
    "\n",
    "2. 灰度图像 黑到白256个灰度级 8bit 1字节 图像基本存储的数据类型 8魏\n"
   ]
  },
  {
   "cell_type": "code",
   "execution_count": null,
   "metadata": {
    "collapsed": true
   },
   "outputs": [],
   "source": [
    "## 二值图像\n",
    "import cv2\n",
    "import numpy as np\n",
    "\n",
    "# positional argument follows keyword argument \n",
    "# 参数位置不对\n",
    "\n",
    "size = 200\n",
    "img = np.zeros((size,size),dtype=np.uint8)\n",
    "print(\"img =\\n\",img)\n",
    "\n",
    "cv2.imshow(\"one\",img)\n",
    "print(\"读取像素点 img[0,3]=\",img[0,3])\n",
    "# 修改像素点\n",
    "for i in range(size):\n",
    "    img[i,i] = 255\n",
    "    \n",
    "cv2.imshow(\"two\",img) \n",
    "print(\"img =\\n\",img)\n",
    "if cv2.waitKey():\n",
    "    cv2.destroyAllWindows()"
   ]
  },
  {
   "cell_type": "markdown",
   "metadata": {},
   "source": [
    "###  彩色图像\n",
    "3. 彩色图像 \n",
    " > 光学角度 \n",
    "  * 主波长\n",
    "  * 纯度\n",
    "  * 明度\n",
    " > 心理学视觉\n",
    "  * 色调\n",
    "  * 饱和度\n",
    "  * 亮度\n",
    "**不同方式表示颜色的模式 称为 _色彩空间_ 颜色空间 颜色模式 **\n",
    "- RGB色彩模式 （R,G,B）*openCV 中通道顺序为 B G R*\n",
    "  1. R 灰度图像 [0,255]\n",
    "  2. G\n",
    "  3. B"
   ]
  },
  {
   "cell_type": "code",
   "execution_count": 1,
   "metadata": {
    "collapsed": true
   },
   "outputs": [],
   "source": [
    "import cv2 \n",
    "import numpy as np\n",
    "\n",
    "size = 200\n",
    "\n",
    "blue = np.zeros((size,size,3), np.uint8)\n",
    "blue[:,:,0] = 255\n",
    "cv2.imshow(\"blue\",blue)\n",
    "\n",
    "green = np.zeros((size,size,3), np.uint8)\n",
    "green[:,:,1] = 255\n",
    "cv2.imshow(\"green\", green)\n",
    "\n",
    "red = np.zeros((size,size,3), np.uint8)\n",
    "red[:,:,2] = 255\n",
    "cv2.imshow(\"red\", red)\n",
    "\n",
    "if cv2.waitKey():\n",
    "    cv2.destroyAllWindows()\n"
   ]
  },
  {
   "cell_type": "code",
   "execution_count": null,
   "metadata": {
    "collapsed": true
   },
   "outputs": [],
   "source": []
  },
  {
   "cell_type": "code",
   "execution_count": null,
   "metadata": {
    "collapsed": true
   },
   "outputs": [],
   "source": []
  },
  {
   "cell_type": "code",
   "execution_count": 1,
   "metadata": {
    "collapsed": true
   },
   "outputs": [],
   "source": [
    "import cv2 \n",
    "import numpy as np\n",
    "\n",
    "size = 300\n",
    "\n",
    "img = np.zeros((size,size,3), np.uint8)\n",
    "img[:,0:100,0] = 255\n",
    "img[:,100:200,1] = 255\n",
    "img[:,200:300:,2] = 255\n",
    "cv2.imshow(\"img\", img)\n",
    "\n",
    "if cv2.waitKey():\n",
    "    cv2.destroyAllWindows()"
   ]
  },
  {
   "cell_type": "markdown",
   "metadata": {},
   "source": [
    "#### 使用numpy.array访问像素"
   ]
  },
  {
   "cell_type": "code",
   "execution_count": 9,
   "metadata": {},
   "outputs": [
    {
     "name": "stdout",
     "output_type": "stream",
     "text": [
      "[[15 52 74 81 89 48 38 86 40 34 63 70 29 45 32 97 98 32 35 87]\n",
      " [30 61 42 23 41 28 94 86 25 96 80 22 88 78 10 95 81 94 71 48]\n",
      " [83 96 65 11 34 25 15 85 13 58 65 71 71 62 80 31 50 42 44 52]\n",
      " [22 59 18 14 38 13 50 84 90 42 82 86 24 51 34 33 53 56 49 52]\n",
      " [60 66 19 10 89 96 69 60 65 23 31 11 29 24 52 51 88 26 82 23]\n",
      " [19 75 55 53 74 22 41 46 78 81 43 18 14 67 42 79 10 40 10 77]\n",
      " [86 67 70 65 70 85 31 78 61 62 17 47 38 76 64 47 54 60 19 75]\n",
      " [27 61 84 38 55 21 91 83 26 44 87 19 27 41 13 17 25 98 60 83]\n",
      " [40 82 93 52 27 45 33 89 42 46 83 89 64 45 89 52 90 16 86 46]\n",
      " [35 73 72 19 30 46 73 98 44 54 74 34 74 46 77 18 93 56 64 22]]\n",
      "读取像素点 18\n"
     ]
    }
   ],
   "source": [
    "import numpy as np\n",
    "img = np.random.randint(10,99,size=(10,20),dtype=np.uint8)\n",
    "print(img)\n",
    "print(\"读取像素点\", img.item(3,2))"
   ]
  },
  {
   "cell_type": "code",
   "execution_count": null,
   "metadata": {
    "collapsed": true
   },
   "outputs": [],
   "source": [
    "import cv2 \n",
    "import numpy as np\n",
    "img = np.random.randint(0,256,size=[150,150],dtype=np.uint8)\n",
    "cv2.imshow(\"demo\",img)\n",
    "cv2.waitKey()\n",
    "cv2.destroyAllWindows()"
   ]
  },
  {
   "cell_type": "code",
   "execution_count": null,
   "metadata": {
    "collapsed": true
   },
   "outputs": [],
   "source": []
  }
 ],
 "metadata": {
  "kernelspec": {
   "display_name": "Python 3",
   "language": "python",
   "name": "python3"
  },
  "language_info": {
   "codemirror_mode": {
    "name": "ipython",
    "version": 3
   },
   "file_extension": ".py",
   "mimetype": "text/x-python",
   "name": "python",
   "nbconvert_exporter": "python",
   "pygments_lexer": "ipython3",
   "version": "3.6.2"
  }
 },
 "nbformat": 4,
 "nbformat_minor": 2
}
