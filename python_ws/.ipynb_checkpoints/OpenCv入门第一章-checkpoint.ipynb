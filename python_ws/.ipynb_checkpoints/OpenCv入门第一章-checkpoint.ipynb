{
 "cells": [
  {
   "cell_type": "code",
   "execution_count": 25,
   "metadata": {
    "scrolled": true
   },
   "outputs": [],
   "source": [
    "import cv2\n",
    "\n",
    "# cv2.imread 读取图片\n",
    "# cv2.namedWindow 新建一个窗口\n",
    "# cv2.imshow 显示图片\n",
    "retval = cv2.imread(\"Pictures.png\",-1)\n",
    "# cv2.namedWindow(\"lesson\")\n",
    "none = cv2.imshow(\"lesson\",retval)\n",
    "# 等待用户按键，问题，不加时窗口不能正常显示\n",
    "cv2.waitKey()\n",
    "cv2.destroyWindow(\"lesson\")"
   ]
  },
  {
   "cell_type": "code",
   "execution_count": 27,
   "metadata": {},
   "outputs": [],
   "source": [
    "# 关闭窗口 参数 窗口名\n",
    "cv2.destroyWindow(\"lesson\")\n",
    "retval = cv2.imread(\"Pictures.png\",-1)\n",
    "cv2.imshow(\"les\",retval)\n",
    "none = cv2.imshow(\"lesson\",retval)\n",
    "# 等待用户按键，问题，不加时窗口不能正常显示\n",
    "# 关闭全部窗口\n",
    "cv2.waitKey()\n",
    "cv2.destroyAllWindows()"
   ]
  },
  {
   "cell_type": "code",
   "execution_count": null,
   "metadata": {},
   "outputs": [],
   "source": [
    "import cv2\n",
    "retval = cv2.imread(\"Pictures.png\",-1)\n",
    "cv2.namedWindow(\"lesson\")\n",
    "key = cv2.waitKey()\n",
    "if key == ord('A'):\n",
    "    cv2.imshow(\"printA\",retval)\n",
    "elif key == ord('B'):\n",
    "    cv2.imshow(\"printB\", retval)\n",
    "    \n"
   ]
  },
  {
   "cell_type": "code",
   "execution_count": 29,
   "metadata": {},
   "outputs": [
    {
     "data": {
      "text/plain": [
       "True"
      ]
     },
     "execution_count": 29,
     "metadata": {},
     "output_type": "execute_result"
    }
   ],
   "source": [
    "target = cv2.imread(\"1112.jpg\")\n",
    "r  = cv2.imwrite(\"1112.png\",target)\n",
    "r"
   ]
  },
  {
   "cell_type": "code",
   "execution_count": null,
   "metadata": {},
   "outputs": [],
   "source": [
    "\n",
    "cv2.imwrite()\n",
    "# 保存图像"
   ]
  }
 ],
 "metadata": {
  "kernelspec": {
   "display_name": "Python 3",
   "language": "python",
   "name": "python3"
  },
  "language_info": {
   "codemirror_mode": {
    "name": "ipython",
    "version": 3
   },
   "file_extension": ".py",
   "mimetype": "text/x-python",
   "name": "python",
   "nbconvert_exporter": "python",
   "pygments_lexer": "ipython3",
   "version": "3.6.9"
  }
 },
 "nbformat": 4,
 "nbformat_minor": 4
}
