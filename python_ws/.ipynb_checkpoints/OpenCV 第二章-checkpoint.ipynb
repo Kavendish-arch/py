{
 "cells": [
  {
   "cell_type": "markdown",
   "metadata": {},
   "source": [
    "1. 二值图像 仅仅包含黑白 特殊的灰度图像\n",
    "\n",
    "2. 灰度图像 黑到白256个灰度级 8bit 1字节 图像基本存储的数据类型 8魏\n"
   ]
  },
  {
   "cell_type": "code",
   "execution_count": null,
   "metadata": {},
   "outputs": [],
   "source": [
    "## 二值图像\n",
    "import cv2\n",
    "import numpy as np\n",
    "\n",
    "# positional argument follows keyword argument \n",
    "# 参数位置不对\n",
    "\n",
    "size = 200\n",
    "img = np.zeros((size,size),dtype=np.uint8)\n",
    "print(\"img =\\n\",img)\n",
    "\n",
    "cv2.imshow(\"one\",img)\n",
    "print(\"读取像素点 img[0,3]=\",img[0,3])\n",
    "# 修改像素点\n",
    "for i in range(size):\n",
    "    img[i,i] = 255\n",
    "    \n",
    "cv2.imshow(\"two\",img) \n",
    "print(\"img =\\n\",img)\n",
    "if cv2.waitKey():\n",
    "    cv2.destroyAllWindows()"
   ]
  },
  {
   "cell_type": "markdown",
   "metadata": {},
   "source": [
    "###  彩色图像\n",
    "3. 彩色图像 \n",
    " > 光学角度 \n",
    "  * 主波长\n",
    "  * 纯度\n",
    "  * 明度\n",
    " > 心理学视觉\n",
    "  * 色调\n",
    "  * 饱和度\n",
    "  * 亮度\n",
    "**不同方式表示颜色的模式 称为 _色彩空间_ 颜色空间 颜色模式 **\n",
    "- RGB色彩模式 （R,G,B）*openCV 中通道顺序为 B G R*\n",
    "  1. R 灰度图像 [0,255]\n",
    "  2. G\n",
    "  3. B"
   ]
  },
  {
   "cell_type": "code",
   "execution_count": 1,
   "metadata": {},
   "outputs": [],
   "source": [
    "import cv2 \n",
    "import numpy as np\n",
    "\n",
    "size = 200\n",
    "\n",
    "blue = np.zeros((size,size,3), np.uint8)\n",
    "blue[:,:,0] = 255\n",
    "cv2.imshow(\"blue\",blue)\n",
    "\n",
    "green = np.zeros((size,size,3), np.uint8)\n",
    "green[:,:,1] = 255\n",
    "cv2.imshow(\"green\", green)\n",
    "\n",
    "red = np.zeros((size,size,3), np.uint8)\n",
    "red[:,:,2] = 255\n",
    "cv2.imshow(\"red\", red)\n",
    "\n",
    "if cv2.waitKey():\n",
    "    cv2.destroyAllWindows()\n"
   ]
  },
  {
   "cell_type": "code",
   "execution_count": null,
   "metadata": {},
   "outputs": [],
   "source": []
  },
  {
   "cell_type": "code",
   "execution_count": null,
   "metadata": {},
   "outputs": [],
   "source": []
  },
  {
   "cell_type": "code",
   "execution_count": 1,
   "metadata": {},
   "outputs": [],
   "source": [
    "import cv2 \n",
    "import numpy as np\n",
    "\n",
    "size = 300\n",
    "\n",
    "img = np.zeros((size,size,3), np.uint8)\n",
    "img[:,0:100,0] = 255\n",
    "img[:,100:200,1] = 255\n",
    "img[:,200:300:,2] = 255\n",
    "cv2.imshow(\"img\", img)\n",
    "\n",
    "if cv2.waitKey():\n",
    "    cv2.destroyAllWindows()"
   ]
  },
  {
   "cell_type": "markdown",
   "metadata": {},
   "source": [
    "#### 使用numpy.array访问像素"
   ]
  },
  {
   "cell_type": "code",
   "execution_count": 8,
   "metadata": {},
   "outputs": [
    {
     "name": "stdout",
     "output_type": "stream",
     "text": [
      "[[20 33]\n",
      " [32 23]\n",
      " [30 48]]\n"
     ]
    },
    {
     "ename": "IndexError",
     "evalue": "index 3 is out of bounds for axis 0 with size 3",
     "output_type": "error",
     "traceback": [
      "\u001b[1;31m---------------------------------------------------------------------------\u001b[0m",
      "\u001b[1;31mIndexError\u001b[0m                                Traceback (most recent call last)",
      "\u001b[1;32m<ipython-input-8-ee20ffe4619d>\u001b[0m in \u001b[0;36m<module>\u001b[1;34m\u001b[0m\n\u001b[0;32m      2\u001b[0m \u001b[0mimg\u001b[0m \u001b[1;33m=\u001b[0m \u001b[0mnp\u001b[0m\u001b[1;33m.\u001b[0m\u001b[0mrandom\u001b[0m\u001b[1;33m.\u001b[0m\u001b[0mrandint\u001b[0m\u001b[1;33m(\u001b[0m\u001b[1;36m10\u001b[0m\u001b[1;33m,\u001b[0m\u001b[1;36m99\u001b[0m\u001b[1;33m,\u001b[0m\u001b[0msize\u001b[0m\u001b[1;33m=\u001b[0m\u001b[1;33m(\u001b[0m\u001b[1;36m3\u001b[0m\u001b[1;33m,\u001b[0m\u001b[1;36m2\u001b[0m\u001b[1;33m)\u001b[0m\u001b[1;33m,\u001b[0m\u001b[0mdtype\u001b[0m\u001b[1;33m=\u001b[0m\u001b[0mnp\u001b[0m\u001b[1;33m.\u001b[0m\u001b[0muint8\u001b[0m\u001b[1;33m)\u001b[0m\u001b[1;33m\u001b[0m\u001b[1;33m\u001b[0m\u001b[0m\n\u001b[0;32m      3\u001b[0m \u001b[0mprint\u001b[0m\u001b[1;33m(\u001b[0m\u001b[0mimg\u001b[0m\u001b[1;33m)\u001b[0m\u001b[1;33m\u001b[0m\u001b[1;33m\u001b[0m\u001b[0m\n\u001b[1;32m----> 4\u001b[1;33m \u001b[0mprint\u001b[0m\u001b[1;33m(\u001b[0m\u001b[1;34m\"读取像素点\"\u001b[0m\u001b[1;33m,\u001b[0m \u001b[0mimg\u001b[0m\u001b[1;33m.\u001b[0m\u001b[0mitem\u001b[0m\u001b[1;33m(\u001b[0m\u001b[1;36m3\u001b[0m\u001b[1;33m,\u001b[0m\u001b[1;36m2\u001b[0m\u001b[1;33m)\u001b[0m\u001b[1;33m)\u001b[0m\u001b[1;33m\u001b[0m\u001b[1;33m\u001b[0m\u001b[0m\n\u001b[0m",
      "\u001b[1;31mIndexError\u001b[0m: index 3 is out of bounds for axis 0 with size 3"
     ]
    }
   ],
   "source": [
    "import numpy as np\n",
    "img = np.random.randint(10,99,size=(10,20),dtype=np.uint8)\n",
    "print(img)\n",
    "print(\"读取像素点\", img.item(3,2))"
   ]
  },
  {
   "cell_type": "code",
   "execution_count": null,
   "metadata": {},
   "outputs": [],
   "source": []
  },
  {
   "cell_type": "code",
   "execution_count": null,
   "metadata": {},
   "outputs": [],
   "source": []
  }
 ],
 "metadata": {
  "kernelspec": {
   "display_name": "Python 3",
   "language": "python",
   "name": "python3"
  },
  "language_info": {
   "codemirror_mode": {
    "name": "ipython",
    "version": 3
   },
   "file_extension": ".py",
   "mimetype": "text/x-python",
   "name": "python",
   "nbconvert_exporter": "python",
   "pygments_lexer": "ipython3",
   "version": "3.6.9"
  }
 },
 "nbformat": 4,
 "nbformat_minor": 2
}
