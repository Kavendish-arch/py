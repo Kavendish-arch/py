{
 "cells": [
  {
   "cell_type": "markdown",
   "metadata": {},
   "source": [
    "### 图像加法\n",
    "### 加法 \n",
    "1. mode(a+b,255) \n",
    "2. a+b > 255 : 255 : a + b\n",
    "### 逻辑运算\n",
    "1. cv2.bitwise_and() 通过掩膜保留图像部分\n",
    "2. cv2.bitwise_or()\n",
    "3. cv2.bitwise_xor() 异或运算 图像加密\n",
    "4. cv2.bitwise_not()"
   ]
  },
  {
   "cell_type": "code",
   "execution_count": 4,
   "metadata": {},
   "outputs": [
    {
     "name": "stdout",
     "output_type": "stream",
     "text": [
      "img1\n",
      " [[ 83  96 186]\n",
      " [161  11  76]\n",
      " [ 61 125 131]]\n",
      "img2\n",
      " [[174 166 220]\n",
      " [120 112 131]\n",
      " [ 43 231 119]]\n",
      "img1+img2\n",
      " [[  1   6 150]\n",
      " [ 25 123 207]\n",
      " [104 100 250]]\n"
     ]
    }
   ],
   "source": [
    "import numpy as np\n",
    "img1=np.random.randint(0,256,size=[3,3],dtype=np.uint8)\n",
    "img2=np.random.randint(0,256,size=[3,3],dtype=np.uint8)\n",
    "print(\"img1\\n\",img1)\n",
    "print(\"img2\\n\",img2)\n",
    "print(\"img1+img2\\n\",img1+img2)"
   ]
  },
  {
   "cell_type": "code",
   "execution_count": 5,
   "metadata": {},
   "outputs": [
    {
     "name": "stdout",
     "output_type": "stream",
     "text": [
      "img1\n",
      " [[203  54 125]\n",
      " [165  34 199]\n",
      " [ 62  47 241]]\n",
      "img2\n",
      " [[241  27 229]\n",
      " [ 49  71 215]\n",
      " [244  53 203]]\n",
      "img1+img2\n",
      " [[255  81 255]\n",
      " [214 105 255]\n",
      " [255 100 255]]\n"
     ]
    }
   ],
   "source": [
    "import numpy as np\n",
    "import cv2\n",
    "img1=np.random.randint(0,256,size=[3,3],dtype=np.uint8)\n",
    "img2=np.random.randint(0,256,size=[3,3],dtype=np.uint8)\n",
    "print(\"img1\\n\",img1)\n",
    "print(\"img2\\n\",img2)\n",
    "img3=cv2.add(img1,img2)\n",
    "print(\"img1+img2\\n\",img3)\n",
    "\n",
    "## a+b>255 = 255\n",
    "## mod(a+b)"
   ]
  },
  {
   "cell_type": "code",
   "execution_count": 10,
   "metadata": {},
   "outputs": [
    {
     "name": "stdout",
     "output_type": "stream",
     "text": [
      "img1\n",
      " [[198  60  43]\n",
      " [ 56 189 116]\n",
      " [164 142  10]]\n",
      "img2\n",
      " [[173 112  81]\n",
      " [ 17 166 198]\n",
      " [ 16 205 141]]\n",
      "img1+img2\n",
      " [[144  47  35]\n",
      " [ 44 137  86]\n",
      " [120 104  12]]\n"
     ]
    }
   ],
   "source": [
    "import numpy as np\n",
    "import cv2\n",
    "img1=np.random.randint(0,256,size=[3,3],dtype=np.uint8)\n",
    "img2=np.random.randint(0,256,size=[3,3],dtype=np.uint8)\n",
    "print(\"img1\\n\",img1)\n",
    "print(\"img2\\n\",img2)\n",
    "img3=cv2.addWeighted(img1,0.7,img2,0,5,4)\n",
    "print(\"img1+img2\\n\",img3)"
   ]
  },
  {
   "cell_type": "code",
   "execution_count": null,
   "metadata": {},
   "outputs": [],
   "source": [
    "### 逻辑运算\n",
    "# cv2.bitwise_and() 通过掩膜保留图像部分\n",
    "# cv2.bitwise_or()\n",
    "# cv2.bitwise_xor()\n",
    "# cv2.bitwise_not()"
   ]
  },
  {
   "cell_type": "code",
   "execution_count": 11,
   "metadata": {},
   "outputs": [
    {
     "name": "stdout",
     "output_type": "stream",
     "text": [
      "7569\n",
      "7569\n"
     ]
    }
   ],
   "source": [
    "import cv2\n",
    "img1=cv2.imread(\"1112.jpg\",0)\n",
    "img2=cv2.imread(\"1137.jpg\",0)\n",
    "img3=cv2.bitwise_and(img1,img2)\n",
    "print(img1.size)\n",
    "print(img2.size)\n",
    "# img3=cv2.addWeighted(img1,0.1,img2,0,5,7)\n",
    "cv2.imshow(\"img1\",img1)\n",
    "cv2.imshow(\"img2\",img2)\n",
    "cv2.imshow(\"img3\",img3)\n",
    "cv2.waitKey()\n",
    "cv2.destroyAllWindows()"
   ]
  },
  {
   "cell_type": "code",
   "execution_count": 21,
   "metadata": {},
   "outputs": [
    {
     "name": "stdout",
     "output_type": "stream",
     "text": [
      "img1 [[3 3 3 3]\n",
      " [3 3 3 3]\n",
      " [3 3 3 3]\n",
      " [3 3 3 3]]\n",
      "img2 [[255 255 255 255]\n",
      " [255 255 255 255]\n",
      " [255 255 255 255]\n",
      " [255 255 255 255]]\n",
      "img3\n",
      " [[66 66 66 66]\n",
      " [66 66 66 66]\n",
      " [66 66 66 66]\n",
      " [66 66 66 66]]\n",
      "Xor img5\n",
      " [[0 0 0 0]\n",
      " [0 0 0 0]\n",
      " [0 0 0 0]\n",
      " [0 0 0 0]]\n",
      "img4\n",
      " [[0 0 0 0]\n",
      " [0 0 0 0]\n",
      " [0 0 3 3]\n",
      " [0 0 3 3]]\n",
      "img3\n",
      " [[  0   0   0   0]\n",
      " [  0   0   0   0]\n",
      " [  0   0 255 255]\n",
      " [  0   0 255 255]]\n",
      "not img3 [[255 255 255 255]\n",
      " [255 255 255 255]\n",
      " [255 255   0   0]\n",
      " [255 255   0   0]]\n"
     ]
    }
   ],
   "source": [
    "### 掩模 掩码 操作在掩膜非空上进行，为空置零\n",
    "import cv2\n",
    "import numpy as np\n",
    "img1 = np.ones((4,4), dtype=np.uint8)*3\n",
    "img2 = np.ones((4,4), dtype=np.uint8)*255\n",
    "mask=np.zeros((4,4), dtype=np.uint8)\n",
    "mask[2:4,2:4]=2\n",
    "img3 = np.ones((4,4), dtype=np.uint8)*66\n",
    "print(\"img1\",img1)\n",
    "print(\"img2\",img2)\n",
    "print(\"img3\\n\",img3)\n",
    "img3 = cv2.add(img1,img2,mask = mask)\n",
    "img4 = cv2.bitwise_and(img1, img2, mask=mask)\n",
    "img5 = cv2.bitwise_xor(img3, img2, mask=mask)\n",
    "print(\"Xor img5\\n\",img5)\n",
    "print(\"img4\\n\",img4)\n",
    "print(\"img3\\n\",img3)\n",
    "img6 = cv2.bitwise_not(img3)\n",
    "print(\"not img3\",img6)"
   ]
  },
  {
   "cell_type": "code",
   "execution_count": 28,
   "metadata": {},
   "outputs": [],
   "source": [
    "import cv2\n",
    "img1=cv2.imread(\"1112.jpg\",0)\n",
    "img2=cv2.imread(\"1137.jpg\",0)\n",
    "r,c = img1.shape\n",
    "x = np.zeros((r,c,8),dtype = np.uint8)\n",
    "for i in range(8):\n",
    "    x[:,:,i] = 2**i\n",
    "r = np.zeros((r,c,8),dtype = np.uint8)\n",
    "for i in range(8):\n",
    "    r[:,:,i] = cv2.bitwise_and(img1,x[:,:,i])\n",
    "    mask = r[:,:,i]>0\n",
    "    r[mask]=255\n",
    "cv2.imshow(str(i),r[:,:,7])    \n",
    "cv2.waitKey()\n",
    "cv2.destroyAllWindows()\n",
    "## 图像 76543210 其中7权重最大，0最低"
   ]
  },
  {
   "cell_type": "code",
   "execution_count": 23,
   "metadata": {},
   "outputs": [
    {
     "data": {
      "text/plain": [
       "8439"
      ]
     },
     "execution_count": 23,
     "metadata": {},
     "output_type": "execute_result"
    }
   ],
   "source": [
    "87*97"
   ]
  },
  {
   "cell_type": "code",
   "execution_count": 1,
   "metadata": {},
   "outputs": [
    {
     "name": "stdout",
     "output_type": "stream",
     "text": [
      "img1\n",
      " [[ 42   2  27 138  85]\n",
      " [155 167 202  48  31]\n",
      " [174 225   5 152 215]\n",
      " [114 101 245 245 190]\n",
      " [194  41  30  48  66]]\n",
      "key\n",
      " [[ 28  64 120 208 248]\n",
      " [244  60  92 112 236]\n",
      " [ 32 188  60 176 212]\n",
      " [  0 220 200 244  24]\n",
      " [  0 148  72 232  44]]\n",
      "mask\n",
      " [[ 54  66  99  90 173]\n",
      " [111 155 150  64 243]\n",
      " [142  93  57  40   3]\n",
      " [114 185  61   1 166]\n",
      " [194 189  86 216 110]]\n",
      "result\n",
      " [[ 42   2  27 138  85]\n",
      " [155 167 202  48  31]\n",
      " [174 225   5 152 215]\n",
      " [114 101 245 245 190]\n",
      " [194  41  30  48  66]]\n"
     ]
    }
   ],
   "source": [
    "## 异或运算用于图像加密和解密\n",
    "import numpy as np\n",
    "import cv2\n",
    "img1 = np.random.randint(0,256,size=[5,5], dtype = np.uint8)*3\n",
    "key = np.random.randint(0,256,size=[5,5], dtype = np.uint8)*4\n",
    "print(\"img1\\n\",img1)\n",
    "print(\"key\\n\",key)\n",
    "\n",
    "mask = cv2.bitwise_xor(img1,key)\n",
    "print(\"mask\\n\",mask)\n",
    "result = cv2.bitwise_xor(mask,key)\n",
    "print(\"result\\n\",result)"
   ]
  },
  {
   "cell_type": "code",
   "execution_count": null,
   "metadata": {},
   "outputs": [],
   "source": []
  },
  {
   "cell_type": "code",
   "execution_count": 3,
   "metadata": {},
   "outputs": [
    {
     "name": "stdout",
     "output_type": "stream",
     "text": [
      "%d,%d,%d 960 680 3\n",
      "保存 True\n"
     ]
    }
   ],
   "source": [
    "import cv2\n",
    "img1 = cv2.imread(\"shl.jpg\")\n",
    "r,c,h = img1.shape\n",
    "print(\"\",r,c,h)\n",
    "key = np.random.randint(0,255,size=[r,c,h], dtype = np.uint8)\n",
    "mask = cv2.bitwise_xor(img1,key)\n",
    "i = cv2.imwrite(\"sss.png\",mask)\n",
    "print(\"保存\",i)\n",
    "cv2.imshow(\"加密后\",mask)\n",
    "result = cv2.bitwise_xor(mask,key)\n",
    "cv2.imshow(\"解密后\",result)\n",
    "cv2.waitKey()\n",
    "cv2.destroyAllWindows()\n"
   ]
  },
  {
   "cell_type": "code",
   "execution_count": 11,
   "metadata": {},
   "outputs": [
    {
     "name": "stdout",
     "output_type": "stream",
     "text": [
      "img.shape (1080, 1440, 3)\n",
      "key.shape (1080, 1440, 3)\n"
     ]
    }
   ],
   "source": [
    "import cv2\n",
    "img = cv2.imread(\"ljj1.jpg\")\n",
    "key = cv2.imread(\"ljj2.jpg\")\n",
    "print(\"img.shape\",img.shape)\n",
    "print(\"key.shape\",key.shape)\n",
    "mask = cv2.bitwise_xor(img,key)\n",
    "i = cv2.imwrite(\"ljj3.jpg\",mask)"
   ]
  },
  {
   "cell_type": "code",
   "execution_count": 7,
   "metadata": {},
   "outputs": [],
   "source": [
    "import cv2\n",
    "key = cv2.imread(\"key.png\")\n",
    "mask = cv2.imread(\"sss.png\")\n",
    "ss = cv2.bitwise_xor(mask,key)\n",
    "cv2.imshow(\"ljj\",ss)\n",
    "cv2.waitKey()\n",
    "cv2.destroyAllWindows()"
   ]
  },
  {
   "cell_type": "code",
   "execution_count": 8,
   "metadata": {},
   "outputs": [],
   "source": [
    "\n",
    "def encryption(filename,aimname):\n",
    "    import cv2\n",
    "    import numpy as np\n",
    "    img1 = cv2.imread(filename)\n",
    "    r,c,h = img1.shape\n",
    "    print(\"\",r,c,h)\n",
    "    key = np.random.randint(0,255,size=[r,c,h], dtype = np.uint8)\n",
    "    mask = cv2.bitwise_xor(img1,key)\n",
    "    k = cv2.imwrite(\"key.png\",key)\n",
    "    print(\"保存\",k)\n",
    "    i = cv2.imwrite(aimname,mask)\n",
    "    print(\"保存\",i)\n",
    "    # cv2.imshow(\"加密后\",mask)\n",
    "    result = cv2.bitwise_xor(mask,key)\n",
    "    # cv2.imshow(\"解密后\",result)\n",
    "#     cv2.waitKey()\n",
    "#     cv2.destroyAllWindows()"
   ]
  },
  {
   "cell_type": "code",
   "execution_count": 9,
   "metadata": {},
   "outputs": [
    {
     "name": "stdout",
     "output_type": "stream",
     "text": [
      " 960 680 3\n",
      "保存 True\n",
      "保存 True\n"
     ]
    }
   ],
   "source": [
    "encryption(\"shl.jpg\",\"sunhl.jpg\")"
   ]
  },
  {
   "cell_type": "code",
   "execution_count": 2,
   "metadata": {},
   "outputs": [
    {
     "name": "stdout",
     "output_type": "stream",
     "text": [
      "大于0的点的 [[ True  True  True ...  True  True  True]\n",
      " [ True  True  True ...  True  True  True]\n",
      " [ True  True  True ...  True  True  True]\n",
      " ...\n",
      " [ True  True  True ...  True  True  True]\n",
      " [ True  True  True ...  True  True  True]\n",
      " [ True  True  True ...  True  True  True]]\n",
      "二值图像 [[1 1 1 ... 1 1 1]\n",
      " [1 1 1 ... 1 1 1]\n",
      " [1 1 1 ... 1 1 1]\n",
      " ...\n",
      " [1 1 1 ... 1 1 1]\n",
      " [1 1 1 ... 1 1 1]\n",
      " [1 1 1 ... 1 1 1]]\n"
     ]
    }
   ],
   "source": [
    "### 数字水印\n",
    "import cv2\n",
    "import numpy as np\n",
    "# 读取原始图像\n",
    "img1 = cv2.imread(\"ljj1.jpg\",0)\n",
    "# d = cv2.imshow(\"ljj\",img1)\n",
    "# 读取水印图像\n",
    "watermask = cv2.imread(\"watermask.png\",0)\n",
    "# i = cv2.imshow(\"before\",watermask)\n",
    "h = watermask[:,:]>0\n",
    "print(\"大于0的点的\",h[:,:])\n",
    "watermask[h] = 1\n",
    "print(\"二值图像\",watermask[:,:])\n",
    "# i = cv2.imshow(\"二值图像\",watermask)\n",
    "cv2.waitKey()\n",
    "cv2.destroyAllWindows()\n",
    "c, v = img1.shape"
   ]
  },
  {
   "cell_type": "code",
   "execution_count": 5,
   "metadata": {},
   "outputs": [
    {
     "name": "stdout",
     "output_type": "stream",
     "text": [
      "嵌入\n",
      " [[203 203 203 ... 173 173 173]\n",
      " [203 203 203 ... 173 173 173]\n",
      " [203 203 203 ... 171 171 171]\n",
      " ...\n",
      " [127 139 147 ... 135 169 175]\n",
      " [139 151 153 ...  93 139 177]\n",
      " [159 163 155 ...  77  83 111]]\n"
     ]
    }
   ],
   "source": [
    "## 嵌入过程\n",
    "p254 = np.ones((c,v), dtype = np.uint8) * 254\n",
    "img254 = cv2.bitwise_and(img1, p254)\n",
    "img255 = cv2.bitwise_or(img254, watermask)\n",
    "r = cv2.imwrite(\"ljjJiami.jpg\",img255)\n",
    "print(\"嵌入\\n\",img255)\n",
    "cv2.imshow(\"water mask\",img255)\n",
    "cv2.waitKey()\n",
    "cv2.destroyAllWindows()"
   ]
  },
  {
   "cell_type": "code",
   "execution_count": 16,
   "metadata": {},
   "outputs": [
    {
     "name": "stdout",
     "output_type": "stream",
     "text": [
      "img (1080, 1440)\n",
      "p1 [[1 1 1 ... 1 1 1]\n",
      " [1 1 1 ... 1 1 1]\n",
      " [1 1 1 ... 1 1 1]\n",
      " ...\n",
      " [1 1 1 ... 1 1 1]\n",
      " [1 1 1 ... 1 1 1]\n",
      " [1 1 1 ... 1 1 1]]\n",
      "wm [[1 1 1 ... 1 0 0]\n",
      " [1 1 1 ... 1 1 1]\n",
      " [1 1 1 ... 1 1 1]\n",
      " ...\n",
      " [1 1 0 ... 0 0 0]\n",
      " [0 1 0 ... 0 0 1]\n",
      " [1 1 1 ... 0 1 0]]\n"
     ]
    }
   ],
   "source": [
    "import cv2\n",
    "import numpy as np\n",
    "img = cv2.imread(\"ljjJiami.jpg\",0)\n",
    "print(\"img\",img.shape)\n",
    "# cv2.imshow(\"ljj\",img)\n",
    "c,v = img.shape\n",
    "\n",
    "# 生成图像都为1的图片\n",
    "p1 = np.ones((c,v), dtype = np.uint8)\n",
    "# print(\"p1\",p1)\n",
    "# 提取图像中水印\n",
    "wm = cv2.bitwise_and(img, p1);\n",
    "print(\"wm\",wm)\n",
    "w = wm[:,:]>0\n",
    "wm[w]=255\n",
    "cv2.imshow(\"wm\",wm)\n",
    "cv2.waitKey()\n",
    "cv2.destroyAllWindows()"
   ]
  },
  {
   "cell_type": "code",
   "execution_count": null,
   "metadata": {},
   "outputs": [],
   "source": []
  }
 ],
 "metadata": {
  "kernelspec": {
   "display_name": "Python 3",
   "language": "python",
   "name": "python3"
  },
  "language_info": {
   "codemirror_mode": {
    "name": "ipython",
    "version": 3
   },
   "file_extension": ".py",
   "mimetype": "text/x-python",
   "name": "python",
   "nbconvert_exporter": "python",
   "pygments_lexer": "ipython3",
   "version": "3.6.9"
  }
 },
 "nbformat": 4,
 "nbformat_minor": 4
}
